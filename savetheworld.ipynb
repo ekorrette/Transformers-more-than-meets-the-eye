{
  "cells": [
    {
      "cell_type": "code",
      "execution_count": 1,
      "metadata": {
        "id": "UYscuWgX2-Gx"
      },
      "outputs": [
        {
          "name": "stderr",
          "output_type": "stream",
          "text": [
            "/usr/lib/python3/dist-packages/requests/__init__.py:89: RequestsDependencyWarning: urllib3 (1.26.12) or chardet (3.0.4) doesn't match a supported version!\n",
            "  warnings.warn(\"urllib3 ({}) or chardet ({}) doesn't match a supported \"\n"
          ]
        },
        {
          "name": "stdout",
          "output_type": "stream",
          "text": [
            "cpu\n"
          ]
        }
      ],
      "source": [
        "import torch\n",
        "import numpy as np\n",
        "from easy_transformer import EasyTransformer, EasyTransformerConfig\n",
        "import easy_transformer\n",
        "import tqdm\n",
        "import torch.nn.functional as F\n",
        "import matplotlib.pyplot as plt\n",
        "import random\n",
        "\n",
        "device = torch.device(\"cuda\" if torch.cuda.is_available() else \"cpu\")\n",
        "print(device)"
      ]
    },
    {
      "cell_type": "code",
      "execution_count": 2,
      "metadata": {
        "id": "2ffUhwWCQ8X-"
      },
      "outputs": [
        {
          "name": "stderr",
          "output_type": "stream",
          "text": [
            "WARNING:root:d_model=16 is not divisible by n_heads=4 * d_head=8\n"
          ]
        },
        {
          "name": "stdout",
          "output_type": "stream",
          "text": [
            "Moving model to device:  cpu\n",
            "Moving model to device:  cpu\n"
          ]
        }
      ],
      "source": [
        "vocab_size = 100\n",
        "sequence_length = 10\n",
        "batch_size = 100\n",
        "\n",
        "tiny_cfg = EasyTransformerConfig(\n",
        "    d_model=16,\n",
        "    d_head=8,\n",
        "    n_heads=4,\n",
        "    d_mlp=16,\n",
        "    n_layers=2,\n",
        "    n_ctx=200,\n",
        "    act_fn=\"solu_ln\",\n",
        "    d_vocab=vocab_size,\n",
        "    normalization_type=\"LN\",\n",
        "    seed=0,\n",
        ")\n",
        "tiny_model = EasyTransformer(tiny_cfg).to(device)\n",
        "cross_entropy_loss = torch.nn.CrossEntropyLoss()"
      ]
    },
    {
      "cell_type": "code",
      "execution_count": 3,
      "metadata": {
        "id": "IS-D65e0MU4D"
      },
      "outputs": [],
      "source": [
        "from algorithmic_tasks.copy_perm import gen\n",
        "eval_inputs, eval_outputs = gen(100,  tiny_model.cfg.d_vocab, 16)"
      ]
    },
    {
      "cell_type": "code",
      "execution_count": 4,
      "metadata": {},
      "outputs": [
        {
          "name": "stdout",
          "output_type": "stream",
          "text": [
            "tensor([17, 48, 79, 39, 11, 16, 24, 28, 52, 52, 90, 43, 44, 22, 11, 16, 90, 39,\n",
            "        44, 52, 43, 11, 11, 16, 24, 28, 79, 48, 22, 17, 52])\n",
            "tensor([99, 99, 99, 99, 99, 99, 99, 99, 99, 99, 99, 99, 99, 99, 99, 99, 43, 11,\n",
            "        22, 52, 44, 16, 16, 24, 28, 52, 39, 79, 11, 48, 90])\n"
          ]
        }
      ],
      "source": [
        "print(eval_inputs[0])\n",
        "print(eval_outputs[0])"
      ]
    },
    {
      "cell_type": "code",
      "execution_count": 5,
      "metadata": {
        "id": "RXnuyzmvUzl-"
      },
      "outputs": [],
      "source": [
        "def get_loss(model, inputs, outputs):\n",
        "    inputs = inputs.to(device)\n",
        "    outputs = outputs.to(device)\n",
        "    \n",
        "    output_logits = model(inputs, return_type=\"logits\")\n",
        "\n",
        "    seq_len = inputs.shape[1]\n",
        "\n",
        "    # ignore_mask = (outputs[:,:]!=(vocab_size-1)).reshape((-1,))\n",
        "    \n",
        "    # output_logits = output_logits[:,:].reshape((-1,vocab_size))*ignore_mask.reshape((-1,1))\n",
        "    # #print(output_logits.shape, ignore_mask.shape)\n",
        "    # output_logits[:,0] += 1-ignore_mask.reshape((-1)).long()\n",
        "    # loss = cross_entropy_loss(\n",
        "    #     output_logits,\n",
        "    #     outputs[:,:].reshape((-1,))*ignore_mask)\n",
        "    \n",
        "    #print(torch.argmax(output_logits,dim=1))\n",
        "    #print(outputs)\n",
        "    loss = cross_entropy_loss(\n",
        "        output_logits[:,seq_len//2+1:].reshape((-1,vocab_size)),\n",
        "        outputs[:,seq_len//2+1:].reshape((-1,)))\n",
        "    return loss\n",
        "\n",
        "def evaluate_model(model, batch_size, print_output, number_to_print=0):\n",
        "    vocab_size = model.cfg.d_vocab\n",
        "    inputs,outputs = gen(batch_size,vocab_size,random.randrange(5,30))\n",
        "\n",
        "    loss = get_loss(model,inputs,outputs)\n",
        "\n",
        "    if print_output:\n",
        "      eval_loss = get_loss(model,eval_inputs[:1], eval_outputs[:1])\n",
        "      print(eval_loss.item())\n",
        "\n",
        "    return loss"
      ]
    },
    {
      "cell_type": "code",
      "execution_count": 6,
      "metadata": {},
      "outputs": [
        {
          "name": "stdout",
          "output_type": "stream",
          "text": [
            "5.076850891113281\n"
          ]
        },
        {
          "data": {
            "text/plain": [
              "tensor(4.8158, grad_fn=<NllLossBackward0>)"
            ]
          },
          "execution_count": 6,
          "metadata": {},
          "output_type": "execute_result"
        }
      ],
      "source": [
        "evaluate_model(tiny_model, batch_size=1, print_output=True, number_to_print=0)"
      ]
    },
    {
      "cell_type": "code",
      "execution_count": 7,
      "metadata": {
        "id": "roYpPSYrU2Jt"
      },
      "outputs": [
        {
          "name": "stdout",
          "output_type": "stream",
          "text": [
            "Start training\n"
          ]
        },
        {
          "name": "stderr",
          "output_type": "stream",
          "text": [
            "  0%|          | 0/3000000 [00:00<?, ?it/s]"
          ]
        },
        {
          "name": "stdout",
          "output_type": "stream",
          "text": [
            "5.076850891113281\n"
          ]
        },
        {
          "name": "stderr",
          "output_type": "stream",
          "text": [
            "  0%|          | 108/3000000 [00:02<18:11:08, 45.82it/s]"
          ]
        },
        {
          "name": "stdout",
          "output_type": "stream",
          "text": [
            "4.495480537414551\n"
          ]
        },
        {
          "name": "stderr",
          "output_type": "stream",
          "text": [
            "  0%|          | 205/3000000 [00:04<16:28:56, 50.56it/s]"
          ]
        },
        {
          "name": "stdout",
          "output_type": "stream",
          "text": [
            "4.388665676116943\n"
          ]
        },
        {
          "name": "stderr",
          "output_type": "stream",
          "text": [
            "  0%|          | 307/3000000 [00:06<20:27:10, 40.74it/s]"
          ]
        },
        {
          "name": "stdout",
          "output_type": "stream",
          "text": [
            "4.241305351257324\n"
          ]
        },
        {
          "name": "stderr",
          "output_type": "stream",
          "text": [
            "  0%|          | 409/3000000 [00:09<18:30:56, 45.00it/s]"
          ]
        },
        {
          "name": "stdout",
          "output_type": "stream",
          "text": [
            "4.064377784729004\n"
          ]
        },
        {
          "name": "stderr",
          "output_type": "stream",
          "text": [
            "  0%|          | 509/3000000 [00:11<18:45:56, 44.40it/s]"
          ]
        },
        {
          "name": "stdout",
          "output_type": "stream",
          "text": [
            "3.9918713569641113\n"
          ]
        },
        {
          "name": "stderr",
          "output_type": "stream",
          "text": [
            "  0%|          | 608/3000000 [00:13<19:50:24, 41.99it/s]"
          ]
        },
        {
          "name": "stdout",
          "output_type": "stream",
          "text": [
            "3.9085328578948975\n"
          ]
        },
        {
          "name": "stderr",
          "output_type": "stream",
          "text": [
            "  0%|          | 705/3000000 [00:15<17:56:00, 46.46it/s]"
          ]
        },
        {
          "name": "stdout",
          "output_type": "stream",
          "text": [
            "3.8234684467315674\n"
          ]
        },
        {
          "name": "stderr",
          "output_type": "stream",
          "text": [
            "  0%|          | 806/3000000 [00:18<17:13:31, 48.37it/s]"
          ]
        },
        {
          "name": "stdout",
          "output_type": "stream",
          "text": [
            "3.751607656478882\n"
          ]
        },
        {
          "name": "stderr",
          "output_type": "stream",
          "text": [
            "  0%|          | 908/3000000 [00:20<21:05:40, 39.49it/s]"
          ]
        },
        {
          "name": "stdout",
          "output_type": "stream",
          "text": [
            "3.7327206134796143\n"
          ]
        },
        {
          "name": "stderr",
          "output_type": "stream",
          "text": [
            "  0%|          | 1004/3000000 [00:22<20:34:15, 40.50it/s]"
          ]
        },
        {
          "name": "stdout",
          "output_type": "stream",
          "text": [
            "3.762789487838745\n"
          ]
        },
        {
          "name": "stderr",
          "output_type": "stream",
          "text": [
            "  0%|          | 1105/3000000 [00:25<22:08:11, 37.63it/s]"
          ]
        },
        {
          "name": "stdout",
          "output_type": "stream",
          "text": [
            "3.76487135887146\n"
          ]
        },
        {
          "name": "stderr",
          "output_type": "stream",
          "text": [
            "  0%|          | 1209/3000000 [00:27<16:56:26, 49.17it/s]"
          ]
        },
        {
          "name": "stdout",
          "output_type": "stream",
          "text": [
            "3.7446365356445312\n"
          ]
        },
        {
          "name": "stderr",
          "output_type": "stream",
          "text": [
            "  0%|          | 1307/3000000 [00:29<20:43:53, 40.18it/s]"
          ]
        },
        {
          "name": "stdout",
          "output_type": "stream",
          "text": [
            "3.7590620517730713\n"
          ]
        },
        {
          "name": "stderr",
          "output_type": "stream",
          "text": [
            "  0%|          | 1408/3000000 [00:31<17:59:24, 46.30it/s]"
          ]
        },
        {
          "name": "stdout",
          "output_type": "stream",
          "text": [
            "3.7653186321258545\n"
          ]
        },
        {
          "name": "stderr",
          "output_type": "stream",
          "text": [
            "  0%|          | 1508/3000000 [00:34<18:59:44, 43.85it/s]"
          ]
        },
        {
          "name": "stdout",
          "output_type": "stream",
          "text": [
            "3.7062580585479736\n"
          ]
        },
        {
          "name": "stderr",
          "output_type": "stream",
          "text": [
            "  0%|          | 1605/3000000 [00:36<22:55:45, 36.32it/s]"
          ]
        },
        {
          "name": "stdout",
          "output_type": "stream",
          "text": [
            "3.685741901397705\n"
          ]
        },
        {
          "name": "stderr",
          "output_type": "stream",
          "text": [
            "  0%|          | 1709/3000000 [00:39<18:34:25, 44.84it/s]"
          ]
        },
        {
          "name": "stdout",
          "output_type": "stream",
          "text": [
            "3.615950345993042\n"
          ]
        },
        {
          "name": "stderr",
          "output_type": "stream",
          "text": [
            "  0%|          | 1808/3000000 [00:41<20:16:47, 41.07it/s]"
          ]
        },
        {
          "name": "stdout",
          "output_type": "stream",
          "text": [
            "3.6020054817199707\n"
          ]
        },
        {
          "name": "stderr",
          "output_type": "stream",
          "text": [
            "  0%|          | 1907/3000000 [00:44<18:02:13, 46.17it/s]"
          ]
        },
        {
          "name": "stdout",
          "output_type": "stream",
          "text": [
            "3.508739471435547\n"
          ]
        },
        {
          "name": "stderr",
          "output_type": "stream",
          "text": [
            "  0%|          | 2009/3000000 [00:46<19:21:20, 43.03it/s]"
          ]
        },
        {
          "name": "stdout",
          "output_type": "stream",
          "text": [
            "3.4061152935028076\n"
          ]
        },
        {
          "name": "stderr",
          "output_type": "stream",
          "text": [
            "  0%|          | 2110/3000000 [00:48<17:38:38, 47.20it/s]"
          ]
        },
        {
          "name": "stdout",
          "output_type": "stream",
          "text": [
            "3.2456133365631104\n"
          ]
        },
        {
          "name": "stderr",
          "output_type": "stream",
          "text": [
            "  0%|          | 2206/3000000 [00:51<20:35:19, 40.45it/s]"
          ]
        },
        {
          "name": "stdout",
          "output_type": "stream",
          "text": [
            "2.642683506011963\n"
          ]
        },
        {
          "name": "stderr",
          "output_type": "stream",
          "text": [
            "  0%|          | 2309/3000000 [00:53<19:19:01, 43.11it/s]"
          ]
        },
        {
          "name": "stdout",
          "output_type": "stream",
          "text": [
            "1.9590771198272705\n"
          ]
        },
        {
          "name": "stderr",
          "output_type": "stream",
          "text": [
            "  0%|          | 2408/3000000 [00:55<16:18:21, 51.06it/s]"
          ]
        },
        {
          "name": "stdout",
          "output_type": "stream",
          "text": [
            "1.4488500356674194\n"
          ]
        },
        {
          "name": "stderr",
          "output_type": "stream",
          "text": [
            "  0%|          | 2507/3000000 [00:58<19:58:04, 41.70it/s]"
          ]
        },
        {
          "name": "stdout",
          "output_type": "stream",
          "text": [
            "1.0173012018203735\n"
          ]
        },
        {
          "name": "stderr",
          "output_type": "stream",
          "text": [
            "  0%|          | 2607/3000000 [01:00<20:42:36, 40.20it/s]"
          ]
        },
        {
          "name": "stdout",
          "output_type": "stream",
          "text": [
            "0.6218228936195374\n"
          ]
        },
        {
          "name": "stderr",
          "output_type": "stream",
          "text": [
            "  0%|          | 2706/3000000 [01:02<18:27:08, 45.12it/s]"
          ]
        },
        {
          "name": "stdout",
          "output_type": "stream",
          "text": [
            "0.3940993547439575\n"
          ]
        },
        {
          "name": "stderr",
          "output_type": "stream",
          "text": [
            "  0%|          | 2806/3000000 [01:05<18:05:02, 46.04it/s]"
          ]
        },
        {
          "name": "stdout",
          "output_type": "stream",
          "text": [
            "0.33368051052093506\n"
          ]
        },
        {
          "name": "stderr",
          "output_type": "stream",
          "text": [
            "  0%|          | 2910/3000000 [01:07<16:46:12, 49.64it/s]"
          ]
        },
        {
          "name": "stdout",
          "output_type": "stream",
          "text": [
            "0.35116952657699585\n"
          ]
        },
        {
          "name": "stderr",
          "output_type": "stream",
          "text": [
            "  0%|          | 3007/3000000 [01:09<19:27:08, 42.80it/s]"
          ]
        },
        {
          "name": "stdout",
          "output_type": "stream",
          "text": [
            "0.331470787525177\n"
          ]
        },
        {
          "name": "stderr",
          "output_type": "stream",
          "text": [
            "  0%|          | 3109/3000000 [01:11<18:50:05, 44.20it/s]"
          ]
        },
        {
          "name": "stdout",
          "output_type": "stream",
          "text": [
            "0.4049212634563446\n"
          ]
        },
        {
          "name": "stderr",
          "output_type": "stream",
          "text": [
            "  0%|          | 3207/3000000 [01:14<18:27:06, 45.11it/s]"
          ]
        },
        {
          "name": "stdout",
          "output_type": "stream",
          "text": [
            "0.3551751673221588\n"
          ]
        },
        {
          "name": "stderr",
          "output_type": "stream",
          "text": [
            "  0%|          | 3306/3000000 [01:16<19:08:23, 43.49it/s]"
          ]
        },
        {
          "name": "stdout",
          "output_type": "stream",
          "text": [
            "0.3259856402873993\n"
          ]
        },
        {
          "name": "stderr",
          "output_type": "stream",
          "text": [
            "  0%|          | 3405/3000000 [01:18<20:56:52, 39.74it/s]"
          ]
        },
        {
          "name": "stdout",
          "output_type": "stream",
          "text": [
            "0.368949830532074\n"
          ]
        },
        {
          "name": "stderr",
          "output_type": "stream",
          "text": [
            "  0%|          | 3503/3000000 [01:21<19:04:41, 43.63it/s]"
          ]
        },
        {
          "name": "stdout",
          "output_type": "stream",
          "text": [
            "0.33804935216903687\n"
          ]
        },
        {
          "name": "stderr",
          "output_type": "stream",
          "text": [
            "  0%|          | 3605/3000000 [01:23<18:22:21, 45.30it/s]"
          ]
        },
        {
          "name": "stdout",
          "output_type": "stream",
          "text": [
            "0.3958636522293091\n"
          ]
        },
        {
          "name": "stderr",
          "output_type": "stream",
          "text": [
            "  0%|          | 3710/3000000 [01:25<17:34:25, 47.36it/s]"
          ]
        },
        {
          "name": "stdout",
          "output_type": "stream",
          "text": [
            "0.383085697889328\n"
          ]
        },
        {
          "name": "stderr",
          "output_type": "stream",
          "text": [
            "  0%|          | 3805/3000000 [01:28<20:46:14, 40.07it/s]"
          ]
        },
        {
          "name": "stdout",
          "output_type": "stream",
          "text": [
            "0.39743906259536743\n"
          ]
        },
        {
          "name": "stderr",
          "output_type": "stream",
          "text": [
            "  0%|          | 3908/3000000 [01:30<18:02:34, 46.13it/s]"
          ]
        },
        {
          "name": "stdout",
          "output_type": "stream",
          "text": [
            "0.40246856212615967\n"
          ]
        },
        {
          "name": "stderr",
          "output_type": "stream",
          "text": [
            "  0%|          | 4009/3000000 [01:32<18:13:13, 45.68it/s]"
          ]
        },
        {
          "name": "stdout",
          "output_type": "stream",
          "text": [
            "0.4218386709690094\n"
          ]
        },
        {
          "name": "stderr",
          "output_type": "stream",
          "text": [
            "  0%|          | 4109/3000000 [01:34<17:35:02, 47.33it/s]"
          ]
        },
        {
          "name": "stdout",
          "output_type": "stream",
          "text": [
            "0.43570539355278015\n"
          ]
        },
        {
          "name": "stderr",
          "output_type": "stream",
          "text": [
            "  0%|          | 4205/3000000 [01:37<18:23:55, 45.23it/s]"
          ]
        },
        {
          "name": "stdout",
          "output_type": "stream",
          "text": [
            "0.3422580659389496\n"
          ]
        },
        {
          "name": "stderr",
          "output_type": "stream",
          "text": [
            "  0%|          | 4308/3000000 [01:39<18:22:56, 45.27it/s]"
          ]
        },
        {
          "name": "stdout",
          "output_type": "stream",
          "text": [
            "0.4362683594226837\n"
          ]
        },
        {
          "name": "stderr",
          "output_type": "stream",
          "text": [
            "  0%|          | 4408/3000000 [01:41<18:35:31, 44.76it/s]"
          ]
        },
        {
          "name": "stdout",
          "output_type": "stream",
          "text": [
            "0.354091078042984\n"
          ]
        },
        {
          "name": "stderr",
          "output_type": "stream",
          "text": [
            "  0%|          | 4508/3000000 [01:43<19:10:05, 43.41it/s]"
          ]
        },
        {
          "name": "stdout",
          "output_type": "stream",
          "text": [
            "0.3863411545753479\n"
          ]
        },
        {
          "name": "stderr",
          "output_type": "stream",
          "text": [
            "  0%|          | 4607/3000000 [01:46<20:33:14, 40.48it/s]"
          ]
        },
        {
          "name": "stdout",
          "output_type": "stream",
          "text": [
            "0.4358137547969818\n"
          ]
        },
        {
          "name": "stderr",
          "output_type": "stream",
          "text": [
            "  0%|          | 4706/3000000 [01:48<19:45:42, 42.10it/s]"
          ]
        },
        {
          "name": "stdout",
          "output_type": "stream",
          "text": [
            "0.4340660870075226\n"
          ]
        },
        {
          "name": "stderr",
          "output_type": "stream",
          "text": [
            "  0%|          | 4804/3000000 [01:50<18:05:24, 45.99it/s]"
          ]
        },
        {
          "name": "stdout",
          "output_type": "stream",
          "text": [
            "0.43289974331855774\n"
          ]
        },
        {
          "name": "stderr",
          "output_type": "stream",
          "text": [
            "  0%|          | 4908/3000000 [01:52<17:44:35, 46.89it/s]"
          ]
        },
        {
          "name": "stdout",
          "output_type": "stream",
          "text": [
            "0.43524083495140076\n"
          ]
        },
        {
          "name": "stderr",
          "output_type": "stream",
          "text": [
            "  0%|          | 5004/3000000 [01:55<19:54:57, 41.77it/s]"
          ]
        },
        {
          "name": "stdout",
          "output_type": "stream",
          "text": [
            "0.30740854144096375\n"
          ]
        },
        {
          "name": "stderr",
          "output_type": "stream",
          "text": [
            "  0%|          | 5107/3000000 [01:57<17:56:28, 46.37it/s]"
          ]
        },
        {
          "name": "stdout",
          "output_type": "stream",
          "text": [
            "0.3497964143753052\n"
          ]
        },
        {
          "name": "stderr",
          "output_type": "stream",
          "text": [
            "  0%|          | 5205/3000000 [01:59<16:21:20, 50.86it/s]"
          ]
        },
        {
          "name": "stdout",
          "output_type": "stream",
          "text": [
            "0.32192546129226685\n"
          ]
        },
        {
          "name": "stderr",
          "output_type": "stream",
          "text": [
            "  0%|          | 5307/3000000 [02:01<19:41:25, 42.25it/s]"
          ]
        },
        {
          "name": "stdout",
          "output_type": "stream",
          "text": [
            "0.349080353975296\n"
          ]
        },
        {
          "name": "stderr",
          "output_type": "stream",
          "text": [
            "  0%|          | 5409/3000000 [02:04<17:44:03, 46.91it/s]"
          ]
        },
        {
          "name": "stdout",
          "output_type": "stream",
          "text": [
            "0.42488524317741394\n"
          ]
        },
        {
          "name": "stderr",
          "output_type": "stream",
          "text": [
            "  0%|          | 5502/3000000 [02:06<18:36:05, 44.72it/s]"
          ]
        },
        {
          "name": "stdout",
          "output_type": "stream",
          "text": [
            "0.36767882108688354\n"
          ]
        },
        {
          "name": "stderr",
          "output_type": "stream",
          "text": [
            "  0%|          | 5608/3000000 [02:08<18:25:54, 45.13it/s]"
          ]
        },
        {
          "name": "stdout",
          "output_type": "stream",
          "text": [
            "0.40711572766304016\n"
          ]
        },
        {
          "name": "stderr",
          "output_type": "stream",
          "text": [
            "  0%|          | 5706/3000000 [02:10<19:42:47, 42.19it/s]"
          ]
        },
        {
          "name": "stdout",
          "output_type": "stream",
          "text": [
            "0.43521320819854736\n"
          ]
        },
        {
          "name": "stderr",
          "output_type": "stream",
          "text": [
            "  0%|          | 5805/3000000 [02:13<21:07:55, 39.36it/s]"
          ]
        },
        {
          "name": "stdout",
          "output_type": "stream",
          "text": [
            "0.41449472308158875\n"
          ]
        },
        {
          "name": "stderr",
          "output_type": "stream",
          "text": [
            "  0%|          | 5907/3000000 [02:15<18:57:30, 43.87it/s]"
          ]
        },
        {
          "name": "stdout",
          "output_type": "stream",
          "text": [
            "0.39058831334114075\n"
          ]
        },
        {
          "name": "stderr",
          "output_type": "stream",
          "text": [
            "  0%|          | 6008/3000000 [02:17<17:59:03, 46.24it/s]"
          ]
        },
        {
          "name": "stdout",
          "output_type": "stream",
          "text": [
            "0.37321656942367554\n"
          ]
        },
        {
          "name": "stderr",
          "output_type": "stream",
          "text": [
            "  0%|          | 6106/3000000 [02:19<16:42:23, 49.78it/s]"
          ]
        },
        {
          "name": "stdout",
          "output_type": "stream",
          "text": [
            "0.32411202788352966\n"
          ]
        },
        {
          "name": "stderr",
          "output_type": "stream",
          "text": [
            "  0%|          | 6206/3000000 [02:22<18:29:50, 44.96it/s]"
          ]
        },
        {
          "name": "stdout",
          "output_type": "stream",
          "text": [
            "0.3689570426940918\n"
          ]
        },
        {
          "name": "stderr",
          "output_type": "stream",
          "text": [
            "  0%|          | 6306/3000000 [02:24<20:25:56, 40.70it/s]"
          ]
        },
        {
          "name": "stdout",
          "output_type": "stream",
          "text": [
            "0.40982741117477417\n"
          ]
        },
        {
          "name": "stderr",
          "output_type": "stream",
          "text": [
            "  0%|          | 6406/3000000 [02:26<18:26:19, 45.10it/s]"
          ]
        },
        {
          "name": "stdout",
          "output_type": "stream",
          "text": [
            "0.36455515027046204\n"
          ]
        },
        {
          "name": "stderr",
          "output_type": "stream",
          "text": [
            "  0%|          | 6507/3000000 [02:28<17:54:45, 46.42it/s]"
          ]
        },
        {
          "name": "stdout",
          "output_type": "stream",
          "text": [
            "0.32082265615463257\n"
          ]
        },
        {
          "name": "stderr",
          "output_type": "stream",
          "text": [
            "  0%|          | 6608/3000000 [02:30<17:24:51, 47.75it/s]"
          ]
        },
        {
          "name": "stdout",
          "output_type": "stream",
          "text": [
            "0.3091927766799927\n"
          ]
        },
        {
          "name": "stderr",
          "output_type": "stream",
          "text": [
            "  0%|          | 6707/3000000 [02:32<16:10:26, 51.41it/s]"
          ]
        },
        {
          "name": "stdout",
          "output_type": "stream",
          "text": [
            "0.2829412817955017\n"
          ]
        },
        {
          "name": "stderr",
          "output_type": "stream",
          "text": [
            "  0%|          | 6805/3000000 [02:35<19:29:59, 42.64it/s]"
          ]
        },
        {
          "name": "stdout",
          "output_type": "stream",
          "text": [
            "0.37708619236946106\n"
          ]
        },
        {
          "name": "stderr",
          "output_type": "stream",
          "text": [
            "  0%|          | 6905/3000000 [02:37<19:44:41, 42.11it/s]"
          ]
        },
        {
          "name": "stdout",
          "output_type": "stream",
          "text": [
            "0.352143794298172\n"
          ]
        },
        {
          "name": "stderr",
          "output_type": "stream",
          "text": [
            "  0%|          | 7007/3000000 [02:39<18:02:44, 46.07it/s]"
          ]
        },
        {
          "name": "stdout",
          "output_type": "stream",
          "text": [
            "0.30617478489875793\n"
          ]
        },
        {
          "name": "stderr",
          "output_type": "stream",
          "text": [
            "  0%|          | 7105/3000000 [02:42<20:37:39, 40.30it/s]"
          ]
        },
        {
          "name": "stdout",
          "output_type": "stream",
          "text": [
            "0.3146172761917114\n"
          ]
        },
        {
          "name": "stderr",
          "output_type": "stream",
          "text": [
            "  0%|          | 7205/3000000 [02:44<18:33:14, 44.81it/s]"
          ]
        },
        {
          "name": "stdout",
          "output_type": "stream",
          "text": [
            "0.33936989307403564\n"
          ]
        },
        {
          "name": "stderr",
          "output_type": "stream",
          "text": [
            "  0%|          | 7310/3000000 [02:46<16:49:53, 49.39it/s]"
          ]
        },
        {
          "name": "stdout",
          "output_type": "stream",
          "text": [
            "0.30886900424957275\n"
          ]
        },
        {
          "name": "stderr",
          "output_type": "stream",
          "text": [
            "  0%|          | 7406/3000000 [02:49<18:53:47, 43.99it/s]"
          ]
        },
        {
          "name": "stdout",
          "output_type": "stream",
          "text": [
            "0.3504200279712677\n"
          ]
        },
        {
          "name": "stderr",
          "output_type": "stream",
          "text": [
            "  0%|          | 7507/3000000 [02:51<16:57:07, 49.03it/s]"
          ]
        },
        {
          "name": "stdout",
          "output_type": "stream",
          "text": [
            "0.33383482694625854\n"
          ]
        },
        {
          "name": "stderr",
          "output_type": "stream",
          "text": [
            "  0%|          | 7605/3000000 [02:53<17:21:26, 47.89it/s]"
          ]
        },
        {
          "name": "stdout",
          "output_type": "stream",
          "text": [
            "0.29029956459999084\n"
          ]
        },
        {
          "name": "stderr",
          "output_type": "stream",
          "text": [
            "  0%|          | 7704/3000000 [02:55<19:31:38, 42.57it/s]"
          ]
        },
        {
          "name": "stdout",
          "output_type": "stream",
          "text": [
            "0.27822354435920715\n"
          ]
        },
        {
          "name": "stderr",
          "output_type": "stream",
          "text": [
            "  0%|          | 7806/3000000 [02:58<19:54:30, 41.75it/s]"
          ]
        },
        {
          "name": "stdout",
          "output_type": "stream",
          "text": [
            "0.2814817428588867\n"
          ]
        },
        {
          "name": "stderr",
          "output_type": "stream",
          "text": [
            "  0%|          | 7907/3000000 [03:00<19:51:30, 41.85it/s]"
          ]
        },
        {
          "name": "stdout",
          "output_type": "stream",
          "text": [
            "0.2408575713634491\n"
          ]
        },
        {
          "name": "stderr",
          "output_type": "stream",
          "text": [
            "  0%|          | 8005/3000000 [03:02<19:06:53, 43.48it/s]"
          ]
        },
        {
          "name": "stdout",
          "output_type": "stream",
          "text": [
            "0.3286620080471039\n"
          ]
        },
        {
          "name": "stderr",
          "output_type": "stream",
          "text": [
            "  0%|          | 8105/3000000 [03:05<18:06:15, 45.91it/s]"
          ]
        },
        {
          "name": "stdout",
          "output_type": "stream",
          "text": [
            "0.2993411421775818\n"
          ]
        },
        {
          "name": "stderr",
          "output_type": "stream",
          "text": [
            "  0%|          | 8206/3000000 [03:07<17:42:27, 46.93it/s]"
          ]
        },
        {
          "name": "stdout",
          "output_type": "stream",
          "text": [
            "0.3311983346939087\n"
          ]
        },
        {
          "name": "stderr",
          "output_type": "stream",
          "text": [
            "  0%|          | 8308/3000000 [03:09<17:24:33, 47.73it/s]"
          ]
        },
        {
          "name": "stdout",
          "output_type": "stream",
          "text": [
            "0.3196293115615845\n"
          ]
        },
        {
          "name": "stderr",
          "output_type": "stream",
          "text": [
            "  0%|          | 8406/3000000 [03:11<20:25:15, 40.69it/s]"
          ]
        },
        {
          "name": "stdout",
          "output_type": "stream",
          "text": [
            "0.303812175989151\n"
          ]
        },
        {
          "name": "stderr",
          "output_type": "stream",
          "text": [
            "  0%|          | 8509/3000000 [03:13<16:38:58, 49.91it/s]"
          ]
        },
        {
          "name": "stdout",
          "output_type": "stream",
          "text": [
            "0.3229260742664337\n"
          ]
        },
        {
          "name": "stderr",
          "output_type": "stream",
          "text": [
            "  0%|          | 8606/3000000 [03:16<19:02:13, 43.65it/s]"
          ]
        },
        {
          "name": "stdout",
          "output_type": "stream",
          "text": [
            "0.25426623225212097\n"
          ]
        },
        {
          "name": "stderr",
          "output_type": "stream",
          "text": [
            "  0%|          | 8706/3000000 [03:18<18:58:36, 43.79it/s]"
          ]
        },
        {
          "name": "stdout",
          "output_type": "stream",
          "text": [
            "0.24143561720848083\n"
          ]
        },
        {
          "name": "stderr",
          "output_type": "stream",
          "text": [
            "  0%|          | 8808/3000000 [03:20<18:11:00, 45.69it/s]"
          ]
        },
        {
          "name": "stdout",
          "output_type": "stream",
          "text": [
            "0.2656785845756531\n"
          ]
        },
        {
          "name": "stderr",
          "output_type": "stream",
          "text": [
            "  0%|          | 8909/3000000 [03:22<17:46:33, 46.74it/s]"
          ]
        },
        {
          "name": "stdout",
          "output_type": "stream",
          "text": [
            "0.26588571071624756\n"
          ]
        },
        {
          "name": "stderr",
          "output_type": "stream",
          "text": [
            "  0%|          | 9006/3000000 [03:24<19:35:55, 42.39it/s]"
          ]
        },
        {
          "name": "stdout",
          "output_type": "stream",
          "text": [
            "0.28596776723861694\n"
          ]
        },
        {
          "name": "stderr",
          "output_type": "stream",
          "text": [
            "  0%|          | 9108/3000000 [03:27<19:02:31, 43.63it/s]"
          ]
        },
        {
          "name": "stdout",
          "output_type": "stream",
          "text": [
            "0.20717507600784302\n"
          ]
        },
        {
          "name": "stderr",
          "output_type": "stream",
          "text": [
            "  0%|          | 9203/3000000 [03:29<19:53:01, 41.78it/s]"
          ]
        },
        {
          "name": "stdout",
          "output_type": "stream",
          "text": [
            "0.28555089235305786\n"
          ]
        },
        {
          "name": "stderr",
          "output_type": "stream",
          "text": [
            "  0%|          | 9307/3000000 [03:31<19:02:26, 43.63it/s]"
          ]
        },
        {
          "name": "stdout",
          "output_type": "stream",
          "text": [
            "0.3088923394680023\n"
          ]
        },
        {
          "name": "stderr",
          "output_type": "stream",
          "text": [
            "  0%|          | 9405/3000000 [03:33<18:45:42, 44.28it/s]"
          ]
        },
        {
          "name": "stdout",
          "output_type": "stream",
          "text": [
            "0.28437626361846924\n"
          ]
        },
        {
          "name": "stderr",
          "output_type": "stream",
          "text": [
            "  0%|          | 9506/3000000 [03:36<19:52:44, 41.79it/s]"
          ]
        },
        {
          "name": "stdout",
          "output_type": "stream",
          "text": [
            "0.2865029573440552\n"
          ]
        },
        {
          "name": "stderr",
          "output_type": "stream",
          "text": [
            "  0%|          | 9589/3000000 [03:38<18:53:22, 43.97it/s]\n"
          ]
        },
        {
          "ename": "KeyboardInterrupt",
          "evalue": "",
          "output_type": "error",
          "traceback": [
            "\u001b[0;31m---------------------------------------------------------------------------\u001b[0m",
            "\u001b[0;31mKeyboardInterrupt\u001b[0m                         Traceback (most recent call last)",
            "Cell \u001b[0;32mIn [7], line 8\u001b[0m\n\u001b[1;32m      6\u001b[0m \u001b[39mfor\u001b[39;00m epoch \u001b[39min\u001b[39;00m tqdm\u001b[39m.\u001b[39mtqdm(\u001b[39mrange\u001b[39m(\u001b[39m3000000\u001b[39m)):\n\u001b[1;32m      7\u001b[0m     loss \u001b[39m=\u001b[39m evaluate_model(tiny_model, batch_size\u001b[39m=\u001b[39mbatch_size, print_output\u001b[39m=\u001b[39mepoch \u001b[39m%\u001b[39m \u001b[39m100\u001b[39m \u001b[39m==\u001b[39m \u001b[39m0\u001b[39m, number_to_print\u001b[39m=\u001b[39m\u001b[39m0\u001b[39m)\n\u001b[0;32m----> 8\u001b[0m     loss\u001b[39m.\u001b[39;49mbackward()\n\u001b[1;32m      9\u001b[0m     loss_history\u001b[39m.\u001b[39mappend(loss\u001b[39m.\u001b[39mitem())\n\u001b[1;32m     10\u001b[0m     tiny_optimizer\u001b[39m.\u001b[39mstep()\n",
            "File \u001b[0;32m~/.local/lib/python3.8/site-packages/torch/_tensor.py:396\u001b[0m, in \u001b[0;36mTensor.backward\u001b[0;34m(self, gradient, retain_graph, create_graph, inputs)\u001b[0m\n\u001b[1;32m    387\u001b[0m \u001b[39mif\u001b[39;00m has_torch_function_unary(\u001b[39mself\u001b[39m):\n\u001b[1;32m    388\u001b[0m     \u001b[39mreturn\u001b[39;00m handle_torch_function(\n\u001b[1;32m    389\u001b[0m         Tensor\u001b[39m.\u001b[39mbackward,\n\u001b[1;32m    390\u001b[0m         (\u001b[39mself\u001b[39m,),\n\u001b[0;32m   (...)\u001b[0m\n\u001b[1;32m    394\u001b[0m         create_graph\u001b[39m=\u001b[39mcreate_graph,\n\u001b[1;32m    395\u001b[0m         inputs\u001b[39m=\u001b[39minputs)\n\u001b[0;32m--> 396\u001b[0m torch\u001b[39m.\u001b[39;49mautograd\u001b[39m.\u001b[39;49mbackward(\u001b[39mself\u001b[39;49m, gradient, retain_graph, create_graph, inputs\u001b[39m=\u001b[39;49minputs)\n",
            "File \u001b[0;32m~/.local/lib/python3.8/site-packages/torch/autograd/__init__.py:173\u001b[0m, in \u001b[0;36mbackward\u001b[0;34m(tensors, grad_tensors, retain_graph, create_graph, grad_variables, inputs)\u001b[0m\n\u001b[1;32m    168\u001b[0m     retain_graph \u001b[39m=\u001b[39m create_graph\n\u001b[1;32m    170\u001b[0m \u001b[39m# The reason we repeat same the comment below is that\u001b[39;00m\n\u001b[1;32m    171\u001b[0m \u001b[39m# some Python versions print out the first line of a multi-line function\u001b[39;00m\n\u001b[1;32m    172\u001b[0m \u001b[39m# calls in the traceback and some print out the last line\u001b[39;00m\n\u001b[0;32m--> 173\u001b[0m Variable\u001b[39m.\u001b[39;49m_execution_engine\u001b[39m.\u001b[39;49mrun_backward(  \u001b[39m# Calls into the C++ engine to run the backward pass\u001b[39;49;00m\n\u001b[1;32m    174\u001b[0m     tensors, grad_tensors_, retain_graph, create_graph, inputs,\n\u001b[1;32m    175\u001b[0m     allow_unreachable\u001b[39m=\u001b[39;49m\u001b[39mTrue\u001b[39;49;00m, accumulate_grad\u001b[39m=\u001b[39;49m\u001b[39mTrue\u001b[39;49;00m)\n",
            "\u001b[0;31mKeyboardInterrupt\u001b[0m: "
          ]
        }
      ],
      "source": [
        "loss_history = []\n",
        "print('Start training')\n",
        "#tiny_model = torch.load(\"binary_xor_model\")\n",
        "tiny_optimizer = torch.optim.Adam(tiny_model.parameters(), lr=1e-3)\n",
        "#loss = evaluate_model(tiny_model, batch_size=3000, print_output=True)\n",
        "for epoch in tqdm.tqdm(range(3000000)):\n",
        "    loss = evaluate_model(tiny_model, batch_size=batch_size, print_output=epoch % 100 == 0, number_to_print=0)\n",
        "    loss.backward()\n",
        "    loss_history.append(loss.item())\n",
        "    tiny_optimizer.step()\n",
        "    tiny_optimizer.zero_grad()"
      ]
    },
    {
      "cell_type": "code",
      "execution_count": null,
      "metadata": {},
      "outputs": [],
      "source": [
        "#torch.save(tiny_model,\"models/count_greater_than_x\")"
      ]
    },
    {
      "cell_type": "code",
      "execution_count": null,
      "metadata": {},
      "outputs": [
        {
          "name": "stdout",
          "output_type": "stream",
          "text": [
            "1951\n"
          ]
        }
      ],
      "source": [
        "print(len(loss_history))"
      ]
    },
    {
      "cell_type": "code",
      "execution_count": 8,
      "metadata": {
        "colab": {
          "base_uri": "https://localhost:8080/",
          "height": 282
        },
        "id": "y7xdqMOniNF8",
        "outputId": "b06a5494-f26d-4097-9261-6640cd090100"
      },
      "outputs": [
        {
          "data": {
            "text/plain": [
              "[<matplotlib.lines.Line2D at 0x7fe90b1da2b0>]"
            ]
          },
          "execution_count": 8,
          "metadata": {},
          "output_type": "execute_result"
        },
        {
          "data": {
            "image/png": "[encoded data removed]",
            "text/plain": [
              "<Figure size 640x480 with 1 Axes>"
            ]
          },
          "metadata": {},
          "output_type": "display_data"
        }
      ],
      "source": [
        "plt.plot(loss_history)"
      ]
    },
    {
      "cell_type": "code",
      "execution_count": 15,
      "metadata": {
        "id": "ZPyzJHURUQCi"
      },
      "outputs": [],
      "source": [
        "import pysvelte\n",
        "\n",
        "def display_vectors(x,d=4):\n",
        "    weights = torch.sum(x**3,dim=0)\n",
        "    strongest = torch.argsort(weights)[-d:].flip(dims=(0,))\n",
        "    plt.imshow(x.transpose(0,1)[strongest])\n",
        "    plt.show()\n",
        "\n",
        "\n",
        "def show_attention_pattern_for_input(model, inputs,outputs):\n",
        "    model_cache={}\n",
        "    model.cache_all(model_cache) # remove_batch_dim=True\n",
        "    model(inputs)\n",
        "    model.reset_hooks()\n",
        "    \n",
        "    pysvelte.AttentionMulti(tokens=[str(x) for x in inputs[0].tolist()], attention=model_cache['blocks.0.attn.hook_attn'][0].permute(1, 2, 0)).show()\n",
        "    display_vectors(model_cache[\"blocks.0.mlp.hook_post\"][0])\n",
        "    \n",
        "    pysvelte.AttentionMulti(tokens=[str(x) for x in inputs[0].tolist()], attention=model_cache['blocks.1.attn.hook_attn'][0].permute(1, 2, 0)).show()\n"
      ]
    },
    {
      "cell_type": "code",
      "execution_count": 16,
      "metadata": {
        "id": "fPkqYc2SRYnP"
      },
      "outputs": [],
      "source": [
        "inputs,outputs = gen(3,vocab_size,10)\n",
        "output_logits = tiny_model(inputs, return_type=\"logits\")\n",
        "predictions = output_logits.argmax(dim=2)"
      ]
    },
    {
      "cell_type": "code",
      "execution_count": 17,
      "metadata": {
        "colab": {
          "base_uri": "https://localhost:8080/"
        },
        "id": "WnCyZiyuYtRk",
        "outputId": "6a2fca33-094a-41fd-dfed-fd4adfd53686"
      },
      "outputs": [
        {
          "name": "stderr",
          "output_type": "stream",
          "text": [
            "WARNING:root:cache_all is deprecated and will eventually be removed, use add_caching_hooks or run_with_cache\n"
          ]
        },
        {
          "name": "stdout",
          "output_type": "stream",
          "text": [
            "[[66 36 18 86 48 19 24 76 17 64 19 86 48 24 18 17 76 36 66]\n",
            " [99 99 99 99 99 99 99 99 99 99 24 48 19 76 86 64 17 18 36]\n",
            " [68 36 36 86 18 86 18 19 24 24 24 48 19 76 86 64 17 18 36]]\n"
          ]
        },
        {
          "data": {
            "text/html": [
              "\n",
              "        <script>var loader;loader=(()=>{var Ze={907:k=>{\"use strict\";function I(E){for(var T=new Array(E),n=0;n<E;++n)T[n]=n;return T}k.exports=I},738:k=>{/*!\n",
              " * Determine if an object is a Buffer\n",
              " *\n",
              " * @author   Feross Aboukhadijeh <https://feross.org>\n",
              " * @license  MIT\n",
              " */k.exports=function(T){return T!=null&&(I(T)||E(T)||!!T._isBuffer)};function I(T){return!!T.constructor&&typeof T.constructor.isBuffer==\"function\"&&T.constructor.isBuffer(T)}function E(T){return typeof T.readFloatLE==\"function\"&&typeof T.slice==\"function\"&&I(T.slice(0,0))}},861:(k,I,E)=>{var T=E(907),n=E(738),g=typeof Float64Array!=\"undefined\";function s(l,h){return l[0]-h[0]}function m(){var l=this.stride,h=new Array(l.length),c;for(c=0;c<h.length;++c)h[c]=[Math.abs(l[c]),c];h.sort(s);var N=new Array(h.length);for(c=0;c<N.length;++c)N[c]=h[c][1];return N}function _(l,h){var c=[\"View\",h,\"d\",l].join(\"\");h<0&&(c=\"View_Nil\"+l);var N=l===\"generic\";if(h===-1){var f=\"function \"+c+\"(a){this.data=a;};var proto=\"+c+\".prototype;proto.dtype='\"+l+\"';proto.index=function(){return -1};proto.size=0;proto.dimension=-1;proto.shape=proto.stride=proto.order=[];proto.lo=proto.hi=proto.transpose=proto.step=function(){return new \"+c+\"(this.data);};proto.get=proto.set=function(){};proto.pick=function(){return null};return function construct_\"+c+\"(a){return new \"+c+\"(a);}\",O=new Function(f);return O()}else if(h===0){var f=\"function \"+c+\"(a,d) {this.data = a;this.offset = d};var proto=\"+c+\".prototype;proto.dtype='\"+l+\"';proto.index=function(){return this.offset};proto.dimension=0;proto.size=1;proto.shape=proto.stride=proto.order=[];proto.lo=proto.hi=proto.transpose=proto.step=function \"+c+\"_copy() {return new \"+c+\"(this.data,this.offset)};proto.pick=function \"+c+\"_pick(){return TrivialArray(this.data);};proto.valueOf=proto.get=function \"+c+\"_get(){return \"+(N?\"this.data.get(this.offset)\":\"this.data[this.offset]\")+\"};proto.set=function \"+c+\"_set(v){return \"+(N?\"this.data.set(this.offset,v)\":\"this.data[this.offset]=v\")+\"};return function construct_\"+c+\"(a,b,c,d){return new \"+c+\"(a,d)}\",O=new Function(\"TrivialArray\",f);return O(u[l][0])}var f=[\"'use strict'\"],d=T(h),M=d.map(function(p){return\"i\"+p}),L=\"this.offset+\"+d.map(function(p){return\"this.stride[\"+p+\"]*i\"+p}).join(\"+\"),j=d.map(function(p){return\"b\"+p}).join(\",\"),D=d.map(function(p){return\"c\"+p}).join(\",\");f.push(\"function \"+c+\"(a,\"+j+\",\"+D+\",d){this.data=a\",\"this.shape=[\"+j+\"]\",\"this.stride=[\"+D+\"]\",\"this.offset=d|0}\",\"var proto=\"+c+\".prototype\",\"proto.dtype='\"+l+\"'\",\"proto.dimension=\"+h),f.push(\"Object.defineProperty(proto,'size',{get:function \"+c+\"_size(){return \"+d.map(function(p){return\"this.shape[\"+p+\"]\"}).join(\"*\"),\"}})\"),h===1?f.push(\"proto.order=[0]\"):(f.push(\"Object.defineProperty(proto,'order',{get:\"),h<4?(f.push(\"function \"+c+\"_order(){\"),h===2?f.push(\"return (Math.abs(this.stride[0])>Math.abs(this.stride[1]))?[1,0]:[0,1]}})\"):h===3&&f.push(\"var s0=Math.abs(this.stride[0]),s1=Math.abs(this.stride[1]),s2=Math.abs(this.stride[2]);if(s0>s1){if(s1>s2){return [2,1,0];}else if(s0>s2){return [1,2,0];}else{return [1,0,2];}}else if(s0>s2){return [2,0,1];}else if(s2>s1){return [0,1,2];}else{return [0,2,1];}}})\")):f.push(\"ORDER})\")),f.push(\"proto.set=function \"+c+\"_set(\"+M.join(\",\")+\",v){\"),N?f.push(\"return this.data.set(\"+L+\",v)}\"):f.push(\"return this.data[\"+L+\"]=v}\"),f.push(\"proto.get=function \"+c+\"_get(\"+M.join(\",\")+\"){\"),N?f.push(\"return this.data.get(\"+L+\")}\"):f.push(\"return this.data[\"+L+\"]}\"),f.push(\"proto.index=function \"+c+\"_index(\",M.join(),\"){return \"+L+\"}\"),f.push(\"proto.hi=function \"+c+\"_hi(\"+M.join(\",\")+\"){return new \"+c+\"(this.data,\"+d.map(function(p){return[\"(typeof i\",p,\"!=='number'||i\",p,\"<0)?this.shape[\",p,\"]:i\",p,\"|0\"].join(\"\")}).join(\",\")+\",\"+d.map(function(p){return\"this.stride[\"+p+\"]\"}).join(\",\")+\",this.offset)}\");var A=d.map(function(p){return\"a\"+p+\"=this.shape[\"+p+\"]\"}),o=d.map(function(p){return\"c\"+p+\"=this.stride[\"+p+\"]\"});f.push(\"proto.lo=function \"+c+\"_lo(\"+M.join(\",\")+\"){var b=this.offset,d=0,\"+A.join(\",\")+\",\"+o.join(\",\"));for(var i=0;i<h;++i)f.push(\"if(typeof i\"+i+\"==='number'&&i\"+i+\">=0){d=i\"+i+\"|0;b+=c\"+i+\"*d;a\"+i+\"-=d}\");f.push(\"return new \"+c+\"(this.data,\"+d.map(function(p){return\"a\"+p}).join(\",\")+\",\"+d.map(function(p){return\"c\"+p}).join(\",\")+\",b)}\"),f.push(\"proto.step=function \"+c+\"_step(\"+M.join(\",\")+\"){var \"+d.map(function(p){return\"a\"+p+\"=this.shape[\"+p+\"]\"}).join(\",\")+\",\"+d.map(function(p){return\"b\"+p+\"=this.stride[\"+p+\"]\"}).join(\",\")+\",c=this.offset,d=0,ceil=Math.ceil\");for(var i=0;i<h;++i)f.push(\"if(typeof i\"+i+\"==='number'){d=i\"+i+\"|0;if(d<0){c+=b\"+i+\"*(a\"+i+\"-1);a\"+i+\"=ceil(-a\"+i+\"/d)}else{a\"+i+\"=ceil(a\"+i+\"/d)}b\"+i+\"*=d}\");f.push(\"return new \"+c+\"(this.data,\"+d.map(function(p){return\"a\"+p}).join(\",\")+\",\"+d.map(function(p){return\"b\"+p}).join(\",\")+\",c)}\");for(var Z=new Array(h),R=new Array(h),i=0;i<h;++i)Z[i]=\"a[i\"+i+\"]\",R[i]=\"b[i\"+i+\"]\";f.push(\"proto.transpose=function \"+c+\"_transpose(\"+M+\"){\"+M.map(function(p,U){return p+\"=(\"+p+\"===undefined?\"+U+\":\"+p+\"|0)\"}).join(\";\"),\"var a=this.shape,b=this.stride;return new \"+c+\"(this.data,\"+Z.join(\",\")+\",\"+R.join(\",\")+\",this.offset)}\"),f.push(\"proto.pick=function \"+c+\"_pick(\"+M+\"){var a=[],b=[],c=this.offset\");for(var i=0;i<h;++i)f.push(\"if(typeof i\"+i+\"==='number'&&i\"+i+\">=0){c=(c+this.stride[\"+i+\"]*i\"+i+\")|0}else{a.push(this.shape[\"+i+\"]);b.push(this.stride[\"+i+\"])}\");f.push(\"var ctor=CTOR_LIST[a.length+1];return ctor(this.data,a,b,c)}\"),f.push(\"return function construct_\"+c+\"(data,shape,stride,offset){return new \"+c+\"(data,\"+d.map(function(p){return\"shape[\"+p+\"]\"}).join(\",\")+\",\"+d.map(function(p){return\"stride[\"+p+\"]\"}).join(\",\")+\",offset)}\");var O=new Function(\"CTOR_LIST\",\"ORDER\",f.join(`\n",
              "`));return O(u[l],m)}function C(l){if(n(l))return\"buffer\";if(g)switch(Object.prototype.toString.call(l)){case\"[object Float64Array]\":return\"float64\";case\"[object Float32Array]\":return\"float32\";case\"[object Int8Array]\":return\"int8\";case\"[object Int16Array]\":return\"int16\";case\"[object Int32Array]\":return\"int32\";case\"[object Uint8Array]\":return\"uint8\";case\"[object Uint16Array]\":return\"uint16\";case\"[object Uint32Array]\":return\"uint32\";case\"[object Uint8ClampedArray]\":return\"uint8_clamped\";case\"[object BigInt64Array]\":return\"bigint64\";case\"[object BigUint64Array]\":return\"biguint64\"}return Array.isArray(l)?\"array\":\"generic\"}var u={float32:[],float64:[],int8:[],int16:[],int32:[],uint8:[],uint16:[],uint32:[],array:[],uint8_clamped:[],bigint64:[],biguint64:[],buffer:[],generic:[]};function v(l,h,c,N){if(l===void 0){var D=u.array[0];return D([])}else typeof l==\"number\"&&(l=[l]);h===void 0&&(h=[l.length]);var f=h.length;if(c===void 0){c=new Array(f);for(var d=f-1,M=1;d>=0;--d)c[d]=M,M*=h[d]}if(N===void 0){N=0;for(var d=0;d<f;++d)c[d]<0&&(N-=(h[d]-1)*c[d])}for(var L=C(l),j=u[L];j.length<=f+1;)j.push(_(L,j.length-1));var D=j[f+1];return D(l,h,c,N)}k.exports=v},829:(k,I)=>{\"use strict\";var E;E={value:!0},I.g=m;function T(u,v){if(!(u instanceof v))throw new TypeError(\"Cannot call a class as a function\")}function n(u,v){for(var l,h=0;h<v.length;h++)l=v[h],l.enumerable=l.enumerable||!1,l.configurable=!0,\"value\"in l&&(l.writable=!0),Object.defineProperty(u,l.key,l)}function g(u,v,l){return v&&n(u.prototype,v),l&&n(u,l),u}var s=function(){function u(v){T(this,u),v instanceof DataView?this.dataView=v:v instanceof ArrayBuffer&&(this.dataView=new DataView(v)),this.offset=0}return g(u,[{key:\"readBytes\",value:function(l){var h=new DataView(this.dataView.buffer,this.offset,l);return this.offset+=l,h}},{key:\"readAndASCIIDecodeBytes\",value:function(l){var h=new Uint8Array(this.dataView.buffer,this.offset,l);return this.offset+=l,this._decodeASCIIByteArray(h)}},{key:\"readUint8\",value:function(){var l=0<arguments.length&&arguments[0]!==void 0&&arguments[0],h=this.dataView.getUint8(this.offset,l);return this.offset+=Uint8Array.BYTES_PER_ELEMENT,h}},{key:\"readUint16\",value:function(){var l=0<arguments.length&&arguments[0]!==void 0&&arguments[0],h=this.dataView.getUint16(this.offset,l);return this.offset+=Uint16Array.BYTES_PER_ELEMENT,h}},{key:\"readUint32\",value:function(){var l=0<arguments.length&&arguments[0]!==void 0&&arguments[0],h=this.dataView.getUint32(this.offset,l);return this.offset+=Uint32Array.BYTES_PER_ELEMENT,h}},{key:\"_decodeASCIIByteArray\",value:function(l){var h=String.fromCharCode,c=[],N=!0,f=!1,d=void 0;try{for(var M,L=l[Symbol.iterator]();!(N=(M=L.next()).done);N=!0){var j=M.value,D=h(j);c.push(D)}}catch(A){f=!0,d=A}finally{try{N||L.return==null||L.return()}finally{if(f)throw d}}return c.join(\"\")}}]),u}();function m(u){if(!u instanceof ArrayBuffer)throw new Error(\"Argument must be an ArrayBuffer.\");var v=new s(u),l=v.readUint8(),h=v.readAndASCIIDecodeBytes(5);if(l!=147||h!=\"NUMPY\")throw new Error('unknown file type: \"'.concat(l).concat(h,'\"'));var c,N=v.readUint8(),f=v.readUint8();c=1>=N?v.readUint16(!0):v.readUint32(!0);var d=10+c;d%16!=0&&console.warn(\"NPY file header is incorrectly padded. (\".concat(d,\" is not evenly divisible by 16.)\"));var M=v.readAndASCIIDecodeBytes(c),L=_(M);if(L.fortran_order)throw new Error(\"NPY file is written in Fortran byte order, support for this byte order is not yet implemented.\");var j=C(L.descr),D=new j(u,v.offset);return{data:D,shape:L.shape}}function _(u){var v=u.toLowerCase().replace(\"(\",\"[\").replace(\"),\",\"]\").replace(\"[,\",\"[1,]\").replace(\",]\",\",1]\").replace(/'/g,'\"');return JSON.parse(v)}function C(u){switch(u){case\"|u1\":return Uint8Array;case\"<u2\":return Uint16Array;case\"<u4\":return Uint32Array;case\"<u8\":throw new Error(\"Because JavaScript doesn't currently include standard support for 64-bit unsigned integer values, support for this dtype is not yet implemented.\");case\"|i1\":return Int8Array;case\"<i2\":return Int16Array;case\"<i4\":return Int32Array;case\"<i8\":throw new Error(\"Because JavaScript doesn't currently include standard support for 64-bit integer values, support for this dtype is not yet implemented.\");case\"<f2\":throw new Error(\"Because JavaScript doesn't currently include standard support for 16-bit floating point values, support for this dtype is not yet implemented.\");case\"<f4\":return Float32Array;case\"<f8\":return Float64Array;default:throw new Error(\"Unknown or not yet implemented numpy dtype description: \"+dtype)}}},843:(k,I,E)=>{\"use strict\";var T;const n=E(948),g=E(236),s=E(373),m=E(898),_=E(292),C=E(401),u=Object.prototype.toString,{Z_NO_FLUSH:v,Z_FINISH:l,Z_OK:h,Z_STREAM_END:c,Z_NEED_DICT:N,Z_STREAM_ERROR:f,Z_DATA_ERROR:d,Z_MEM_ERROR:M}=E(619);function L(A){this.options=g.assign({chunkSize:65536,windowBits:15,to:\"\"},A||{});const o=this.options;o.raw&&o.windowBits>=0&&o.windowBits<16&&(o.windowBits=-o.windowBits,o.windowBits===0&&(o.windowBits=-15)),o.windowBits>=0&&o.windowBits<16&&!(A&&A.windowBits)&&(o.windowBits+=32),o.windowBits>15&&o.windowBits<48&&(o.windowBits&15)===0&&(o.windowBits|=15),this.err=0,this.msg=\"\",this.ended=!1,this.chunks=[],this.strm=new _,this.strm.avail_out=0;let i=n.inflateInit2(this.strm,o.windowBits);if(i!==h)throw new Error(m[i]);if(this.header=new C,n.inflateGetHeader(this.strm,this.header),o.dictionary&&(typeof o.dictionary==\"string\"?o.dictionary=s.string2buf(o.dictionary):u.call(o.dictionary)===\"[object ArrayBuffer]\"&&(o.dictionary=new Uint8Array(o.dictionary)),o.raw&&(i=n.inflateSetDictionary(this.strm,o.dictionary),i!==h)))throw new Error(m[i])}L.prototype.push=function(A,o){const i=this.strm,Z=this.options.chunkSize,R=this.options.dictionary;let O,p,U;if(this.ended)return!1;for(o===~~o?p=o:p=o===!0?l:v,u.call(A)===\"[object ArrayBuffer]\"?i.input=new Uint8Array(A):i.input=A,i.next_in=0,i.avail_in=i.input.length;;){for(i.avail_out===0&&(i.output=new Uint8Array(Z),i.next_out=0,i.avail_out=Z),O=n.inflate(i,p),O===N&&R&&(O=n.inflateSetDictionary(i,R),O===h?O=n.inflate(i,p):O===d&&(O=N));i.avail_in>0&&O===c&&i.state.wrap>0&&A[i.next_in]!==0;)n.inflateReset(i),O=n.inflate(i,p);switch(O){case f:case d:case N:case M:return this.onEnd(O),this.ended=!0,!1}if(U=i.avail_out,i.next_out&&(i.avail_out===0||O===c))if(this.options.to===\"string\"){let B=s.utf8border(i.output,i.next_out),K=i.next_out-B,V=s.buf2string(i.output,B);i.next_out=K,i.avail_out=Z-K,K&&i.output.set(i.output.subarray(B,B+K),0),this.onData(V)}else this.onData(i.output.length===i.next_out?i.output:i.output.subarray(0,i.next_out));if(!(O===h&&U===0)){if(O===c)return O=n.inflateEnd(this.strm),this.onEnd(O),this.ended=!0,!0;if(i.avail_in===0)break}}return!0},L.prototype.onData=function(A){this.chunks.push(A)},L.prototype.onEnd=function(A){A===h&&(this.options.to===\"string\"?this.result=this.chunks.join(\"\"):this.result=g.flattenChunks(this.chunks)),this.chunks=[],this.err=A,this.msg=this.strm.msg};function j(A,o){const i=new L(o);if(i.push(A),i.err)throw i.msg||m[i.err];return i.result}function D(A,o){return o=o||{},o.raw=!0,j(A,o)}T=L,k.exports.rr=j,T=D,T=j,E(619)},236:k=>{\"use strict\";const I=(E,T)=>Object.prototype.hasOwnProperty.call(E,T);k.exports.assign=function(E){const T=Array.prototype.slice.call(arguments,1);for(;T.length;){const n=T.shift();if(!!n){if(typeof n!=\"object\")throw new TypeError(n+\"must be non-object\");for(const g in n)I(n,g)&&(E[g]=n[g])}}return E},k.exports.flattenChunks=E=>{let T=0;for(let g=0,s=E.length;g<s;g++)T+=E[g].length;const n=new Uint8Array(T);for(let g=0,s=0,m=E.length;g<m;g++){let _=E[g];n.set(_,s),s+=_.length}return n}},373:k=>{\"use strict\";let I=!0;try{String.fromCharCode.apply(null,new Uint8Array(1))}catch(n){I=!1}const E=new Uint8Array(256);for(let n=0;n<256;n++)E[n]=n>=252?6:n>=248?5:n>=240?4:n>=224?3:n>=192?2:1;E[254]=E[254]=1,k.exports.string2buf=n=>{let g,s,m,_,C,u=n.length,v=0;for(_=0;_<u;_++)s=n.charCodeAt(_),(s&64512)===55296&&_+1<u&&(m=n.charCodeAt(_+1),(m&64512)===56320&&(s=65536+(s-55296<<10)+(m-56320),_++)),v+=s<128?1:s<2048?2:s<65536?3:4;for(g=new Uint8Array(v),C=0,_=0;C<v;_++)s=n.charCodeAt(_),(s&64512)===55296&&_+1<u&&(m=n.charCodeAt(_+1),(m&64512)===56320&&(s=65536+(s-55296<<10)+(m-56320),_++)),s<128?g[C++]=s:s<2048?(g[C++]=192|s>>>6,g[C++]=128|s&63):s<65536?(g[C++]=224|s>>>12,g[C++]=128|s>>>6&63,g[C++]=128|s&63):(g[C++]=240|s>>>18,g[C++]=128|s>>>12&63,g[C++]=128|s>>>6&63,g[C++]=128|s&63);return g};const T=(n,g)=>{if(g<65534&&n.subarray&&I)return String.fromCharCode.apply(null,n.length===g?n:n.subarray(0,g));let s=\"\";for(let m=0;m<g;m++)s+=String.fromCharCode(n[m]);return s};k.exports.buf2string=(n,g)=>{let s,m;const _=g||n.length,C=new Array(_*2);for(m=0,s=0;s<_;){let u=n[s++];if(u<128){C[m++]=u;continue}let v=E[u];if(v>4){C[m++]=65533,s+=v-1;continue}for(u&=v===2?31:v===3?15:7;v>1&&s<_;)u=u<<6|n[s++]&63,v--;if(v>1){C[m++]=65533;continue}u<65536?C[m++]=u:(u-=65536,C[m++]=55296|u>>10&1023,C[m++]=56320|u&1023)}return T(C,m)},k.exports.utf8border=(n,g)=>{g=g||n.length,g>n.length&&(g=n.length);let s=g-1;for(;s>=0&&(n[s]&192)===128;)s--;return s<0||s===0?g:s+E[n[s]]>g?s:g}},69:k=>{\"use strict\";const I=(E,T,n,g)=>{let s=E&65535|0,m=E>>>16&65535|0,_=0;for(;n!==0;){_=n>2e3?2e3:n,n-=_;do s=s+T[g++]|0,m=m+s|0;while(--_);s%=65521,m%=65521}return s|m<<16|0};k.exports=I},619:k=>{\"use strict\";k.exports={Z_NO_FLUSH:0,Z_PARTIAL_FLUSH:1,Z_SYNC_FLUSH:2,Z_FULL_FLUSH:3,Z_FINISH:4,Z_BLOCK:5,Z_TREES:6,Z_OK:0,Z_STREAM_END:1,Z_NEED_DICT:2,Z_ERRNO:-1,Z_STREAM_ERROR:-2,Z_DATA_ERROR:-3,Z_MEM_ERROR:-4,Z_BUF_ERROR:-5,Z_NO_COMPRESSION:0,Z_BEST_SPEED:1,Z_BEST_COMPRESSION:9,Z_DEFAULT_COMPRESSION:-1,Z_FILTERED:1,Z_HUFFMAN_ONLY:2,Z_RLE:3,Z_FIXED:4,Z_DEFAULT_STRATEGY:0,Z_BINARY:0,Z_TEXT:1,Z_UNKNOWN:2,Z_DEFLATED:8}},869:k=>{\"use strict\";const I=()=>{let n,g=[];for(var s=0;s<256;s++){n=s;for(var m=0;m<8;m++)n=n&1?3988292384^n>>>1:n>>>1;g[s]=n}return g},E=new Uint32Array(I()),T=(n,g,s,m)=>{const _=E,C=m+s;n^=-1;for(let u=m;u<C;u++)n=n>>>8^_[(n^g[u])&255];return n^-1};k.exports=T},401:k=>{\"use strict\";function I(){this.text=0,this.time=0,this.xflags=0,this.os=0,this.extra=null,this.extra_len=0,this.name=\"\",this.comment=\"\",this.hcrc=0,this.done=!1}k.exports=I},264:k=>{\"use strict\";k.exports=function(n,g){let s,m,_,C,u,v,l,h,c,N,f,d,M,L,j,D,A,o,i,Z,R,O,p,U;const B=n.state;s=n.next_in,p=n.input,m=s+(n.avail_in-5),_=n.next_out,U=n.output,C=_-(g-n.avail_out),u=_+(n.avail_out-257),v=B.dmax,l=B.wsize,h=B.whave,c=B.wnext,N=B.window,f=B.hold,d=B.bits,M=B.lencode,L=B.distcode,j=(1<<B.lenbits)-1,D=(1<<B.distbits)-1;e:do{d<15&&(f+=p[s++]<<d,d+=8,f+=p[s++]<<d,d+=8),A=M[f&j];t:for(;;){if(o=A>>>24,f>>>=o,d-=o,o=A>>>16&255,o===0)U[_++]=A&65535;else if(o&16){i=A&65535,o&=15,o&&(d<o&&(f+=p[s++]<<d,d+=8),i+=f&(1<<o)-1,f>>>=o,d-=o),d<15&&(f+=p[s++]<<d,d+=8,f+=p[s++]<<d,d+=8),A=L[f&D];i:for(;;){if(o=A>>>24,f>>>=o,d-=o,o=A>>>16&255,o&16){if(Z=A&65535,o&=15,d<o&&(f+=p[s++]<<d,d+=8,d<o&&(f+=p[s++]<<d,d+=8)),Z+=f&(1<<o)-1,Z>v){n.msg=\"invalid distance too far back\",B.mode=30;break e}if(f>>>=o,d-=o,o=_-C,Z>o){if(o=Z-o,o>h&&B.sane){n.msg=\"invalid distance too far back\",B.mode=30;break e}if(R=0,O=N,c===0){if(R+=l-o,o<i){i-=o;do U[_++]=N[R++];while(--o);R=_-Z,O=U}}else if(c<o){if(R+=l+c-o,o-=c,o<i){i-=o;do U[_++]=N[R++];while(--o);if(R=0,c<i){o=c,i-=o;do U[_++]=N[R++];while(--o);R=_-Z,O=U}}}else if(R+=c-o,o<i){i-=o;do U[_++]=N[R++];while(--o);R=_-Z,O=U}for(;i>2;)U[_++]=O[R++],U[_++]=O[R++],U[_++]=O[R++],i-=3;i&&(U[_++]=O[R++],i>1&&(U[_++]=O[R++]))}else{R=_-Z;do U[_++]=U[R++],U[_++]=U[R++],U[_++]=U[R++],i-=3;while(i>2);i&&(U[_++]=U[R++],i>1&&(U[_++]=U[R++]))}}else if((o&64)===0){A=L[(A&65535)+(f&(1<<o)-1)];continue i}else{n.msg=\"invalid distance code\",B.mode=30;break e}break}}else if((o&64)===0){A=M[(A&65535)+(f&(1<<o)-1)];continue t}else if(o&32){B.mode=12;break e}else{n.msg=\"invalid literal/length code\",B.mode=30;break e}break}}while(s<m&&_<u);i=d>>3,s-=i,d-=i<<3,f&=(1<<d)-1,n.next_in=s,n.next_out=_,n.avail_in=s<m?5+(m-s):5-(s-m),n.avail_out=_<u?257+(u-_):257-(_-u),B.hold=f,B.bits=d}},948:(k,I,E)=>{\"use strict\";const T=E(69),n=E(869),g=E(264),s=E(241),m=0,_=1,C=2,{Z_FINISH:u,Z_BLOCK:v,Z_TREES:l,Z_OK:h,Z_STREAM_END:c,Z_NEED_DICT:N,Z_STREAM_ERROR:f,Z_DATA_ERROR:d,Z_MEM_ERROR:M,Z_BUF_ERROR:L,Z_DEFLATED:j}=E(619),D=1,A=2,o=3,i=4,Z=5,R=6,O=7,p=8,U=9,B=10,K=11,V=12,fe=13,de=14,ne=15,ce=16,pe=17,le=18,te=19,re=20,ae=21,we=22,_e=23,ue=24,he=25,Te=26,ke=27,Oe=28,De=29,F=30,Ee=31,Pe=32,Fe=852,je=592,He=15,Re=t=>(t>>>24&255)+(t>>>8&65280)+((t&65280)<<8)+((t&255)<<24);function ze(){this.mode=0,this.last=!1,this.wrap=0,this.havedict=!1,this.flags=0,this.dmax=0,this.check=0,this.total=0,this.head=null,this.wbits=0,this.wsize=0,this.whave=0,this.wnext=0,this.window=null,this.hold=0,this.bits=0,this.length=0,this.offset=0,this.extra=0,this.lencode=null,this.distcode=null,this.lenbits=0,this.distbits=0,this.ncode=0,this.nlen=0,this.ndist=0,this.have=0,this.next=null,this.lens=new Uint16Array(320),this.work=new Uint16Array(288),this.lendyn=null,this.distdyn=null,this.sane=0,this.back=0,this.was=0}const Ie=t=>{if(!t||!t.state)return f;const x=t.state;return t.total_in=t.total_out=x.total=0,t.msg=\"\",x.wrap&&(t.adler=x.wrap&1),x.mode=D,x.last=0,x.havedict=0,x.dmax=32768,x.head=null,x.hold=0,x.bits=0,x.lencode=x.lendyn=new Int32Array(Fe),x.distcode=x.distdyn=new Int32Array(je),x.sane=1,x.back=-1,h},Ue=t=>{if(!t||!t.state)return f;const x=t.state;return x.wsize=0,x.whave=0,x.wnext=0,Ie(t)},Ce=(t,x)=>{let e;if(!t||!t.state)return f;const y=t.state;return x<0?(e=0,x=-x):(e=(x>>4)+1,x<48&&(x&=15)),x&&(x<8||x>15)?f:(y.window!==null&&y.wbits!==x&&(y.window=null),y.wrap=e,y.wbits=x,Ue(t))},Ne=(t,x)=>{if(!t)return f;const e=new ze;t.state=e,e.window=null;const y=Ce(t,x);return y!==h&&(t.state=null),y},Ye=t=>Ne(t,He);let Be=!0,Ae,Se;const Ge=t=>{if(Be){Ae=new Int32Array(512),Se=new Int32Array(32);let x=0;for(;x<144;)t.lens[x++]=8;for(;x<256;)t.lens[x++]=9;for(;x<280;)t.lens[x++]=7;for(;x<288;)t.lens[x++]=8;for(s(_,t.lens,0,288,Ae,0,t.work,{bits:9}),x=0;x<32;)t.lens[x++]=5;s(C,t.lens,0,32,Se,0,t.work,{bits:5}),Be=!1}t.lencode=Ae,t.lenbits=9,t.distcode=Se,t.distbits=5},Me=(t,x,e,y)=>{let H;const w=t.state;return w.window===null&&(w.wsize=1<<w.wbits,w.wnext=0,w.whave=0,w.window=new Uint8Array(w.wsize)),y>=w.wsize?(w.window.set(x.subarray(e-w.wsize,e),0),w.wnext=0,w.whave=w.wsize):(H=w.wsize-w.wnext,H>y&&(H=y),w.window.set(x.subarray(e-y,e-y+H),w.wnext),y-=H,y?(w.window.set(x.subarray(e-y,e),0),w.wnext=y,w.whave=w.wsize):(w.wnext+=H,w.wnext===w.wsize&&(w.wnext=0),w.whave<w.wsize&&(w.whave+=H))),0},Xe=(t,x)=>{let e,y,H,w,q,b,G,a,r,xe,z,S,be,me,Y=0,P,J,$,Q,ve,ge,X,ee;const W=new Uint8Array(4);let oe,ie;const Le=new Uint8Array([16,17,18,0,8,7,9,6,10,5,11,4,12,3,13,2,14,1,15]);if(!t||!t.state||!t.output||!t.input&&t.avail_in!==0)return f;e=t.state,e.mode===V&&(e.mode=fe),q=t.next_out,H=t.output,G=t.avail_out,w=t.next_in,y=t.input,b=t.avail_in,a=e.hold,r=e.bits,xe=b,z=G,ee=h;e:for(;;)switch(e.mode){case D:if(e.wrap===0){e.mode=fe;break}for(;r<16;){if(b===0)break e;b--,a+=y[w++]<<r,r+=8}if(e.wrap&2&&a===35615){e.check=0,W[0]=a&255,W[1]=a>>>8&255,e.check=n(e.check,W,2,0),a=0,r=0,e.mode=A;break}if(e.flags=0,e.head&&(e.head.done=!1),!(e.wrap&1)||(((a&255)<<8)+(a>>8))%31){t.msg=\"incorrect header check\",e.mode=F;break}if((a&15)!==j){t.msg=\"unknown compression method\",e.mode=F;break}if(a>>>=4,r-=4,X=(a&15)+8,e.wbits===0)e.wbits=X;else if(X>e.wbits){t.msg=\"invalid window size\",e.mode=F;break}e.dmax=1<<e.wbits,t.adler=e.check=1,e.mode=a&512?B:V,a=0,r=0;break;case A:for(;r<16;){if(b===0)break e;b--,a+=y[w++]<<r,r+=8}if(e.flags=a,(e.flags&255)!==j){t.msg=\"unknown compression method\",e.mode=F;break}if(e.flags&57344){t.msg=\"unknown header flags set\",e.mode=F;break}e.head&&(e.head.text=a>>8&1),e.flags&512&&(W[0]=a&255,W[1]=a>>>8&255,e.check=n(e.check,W,2,0)),a=0,r=0,e.mode=o;case o:for(;r<32;){if(b===0)break e;b--,a+=y[w++]<<r,r+=8}e.head&&(e.head.time=a),e.flags&512&&(W[0]=a&255,W[1]=a>>>8&255,W[2]=a>>>16&255,W[3]=a>>>24&255,e.check=n(e.check,W,4,0)),a=0,r=0,e.mode=i;case i:for(;r<16;){if(b===0)break e;b--,a+=y[w++]<<r,r+=8}e.head&&(e.head.xflags=a&255,e.head.os=a>>8),e.flags&512&&(W[0]=a&255,W[1]=a>>>8&255,e.check=n(e.check,W,2,0)),a=0,r=0,e.mode=Z;case Z:if(e.flags&1024){for(;r<16;){if(b===0)break e;b--,a+=y[w++]<<r,r+=8}e.length=a,e.head&&(e.head.extra_len=a),e.flags&512&&(W[0]=a&255,W[1]=a>>>8&255,e.check=n(e.check,W,2,0)),a=0,r=0}else e.head&&(e.head.extra=null);e.mode=R;case R:if(e.flags&1024&&(S=e.length,S>b&&(S=b),S&&(e.head&&(X=e.head.extra_len-e.length,e.head.extra||(e.head.extra=new Uint8Array(e.head.extra_len)),e.head.extra.set(y.subarray(w,w+S),X)),e.flags&512&&(e.check=n(e.check,y,S,w)),b-=S,w+=S,e.length-=S),e.length))break e;e.length=0,e.mode=O;case O:if(e.flags&2048){if(b===0)break e;S=0;do X=y[w+S++],e.head&&X&&e.length<65536&&(e.head.name+=String.fromCharCode(X));while(X&&S<b);if(e.flags&512&&(e.check=n(e.check,y,S,w)),b-=S,w+=S,X)break e}else e.head&&(e.head.name=null);e.length=0,e.mode=p;case p:if(e.flags&4096){if(b===0)break e;S=0;do X=y[w+S++],e.head&&X&&e.length<65536&&(e.head.comment+=String.fromCharCode(X));while(X&&S<b);if(e.flags&512&&(e.check=n(e.check,y,S,w)),b-=S,w+=S,X)break e}else e.head&&(e.head.comment=null);e.mode=U;case U:if(e.flags&512){for(;r<16;){if(b===0)break e;b--,a+=y[w++]<<r,r+=8}if(a!==(e.check&65535)){t.msg=\"header crc mismatch\",e.mode=F;break}a=0,r=0}e.head&&(e.head.hcrc=e.flags>>9&1,e.head.done=!0),t.adler=e.check=0,e.mode=V;break;case B:for(;r<32;){if(b===0)break e;b--,a+=y[w++]<<r,r+=8}t.adler=e.check=Re(a),a=0,r=0,e.mode=K;case K:if(e.havedict===0)return t.next_out=q,t.avail_out=G,t.next_in=w,t.avail_in=b,e.hold=a,e.bits=r,N;t.adler=e.check=1,e.mode=V;case V:if(x===v||x===l)break e;case fe:if(e.last){a>>>=r&7,r-=r&7,e.mode=ke;break}for(;r<3;){if(b===0)break e;b--,a+=y[w++]<<r,r+=8}switch(e.last=a&1,a>>>=1,r-=1,a&3){case 0:e.mode=de;break;case 1:if(Ge(e),e.mode=re,x===l){a>>>=2,r-=2;break e}break;case 2:e.mode=pe;break;case 3:t.msg=\"invalid block type\",e.mode=F}a>>>=2,r-=2;break;case de:for(a>>>=r&7,r-=r&7;r<32;){if(b===0)break e;b--,a+=y[w++]<<r,r+=8}if((a&65535)!==(a>>>16^65535)){t.msg=\"invalid stored block lengths\",e.mode=F;break}if(e.length=a&65535,a=0,r=0,e.mode=ne,x===l)break e;case ne:e.mode=ce;case ce:if(S=e.length,S){if(S>b&&(S=b),S>G&&(S=G),S===0)break e;H.set(y.subarray(w,w+S),q),b-=S,w+=S,G-=S,q+=S,e.length-=S;break}e.mode=V;break;case pe:for(;r<14;){if(b===0)break e;b--,a+=y[w++]<<r,r+=8}if(e.nlen=(a&31)+257,a>>>=5,r-=5,e.ndist=(a&31)+1,a>>>=5,r-=5,e.ncode=(a&15)+4,a>>>=4,r-=4,e.nlen>286||e.ndist>30){t.msg=\"too many length or distance symbols\",e.mode=F;break}e.have=0,e.mode=le;case le:for(;e.have<e.ncode;){for(;r<3;){if(b===0)break e;b--,a+=y[w++]<<r,r+=8}e.lens[Le[e.have++]]=a&7,a>>>=3,r-=3}for(;e.have<19;)e.lens[Le[e.have++]]=0;if(e.lencode=e.lendyn,e.lenbits=7,oe={bits:e.lenbits},ee=s(m,e.lens,0,19,e.lencode,0,e.work,oe),e.lenbits=oe.bits,ee){t.msg=\"invalid code lengths set\",e.mode=F;break}e.have=0,e.mode=te;case te:for(;e.have<e.nlen+e.ndist;){for(;Y=e.lencode[a&(1<<e.lenbits)-1],P=Y>>>24,J=Y>>>16&255,$=Y&65535,!(P<=r);){if(b===0)break e;b--,a+=y[w++]<<r,r+=8}if($<16)a>>>=P,r-=P,e.lens[e.have++]=$;else{if($===16){for(ie=P+2;r<ie;){if(b===0)break e;b--,a+=y[w++]<<r,r+=8}if(a>>>=P,r-=P,e.have===0){t.msg=\"invalid bit length repeat\",e.mode=F;break}X=e.lens[e.have-1],S=3+(a&3),a>>>=2,r-=2}else if($===17){for(ie=P+3;r<ie;){if(b===0)break e;b--,a+=y[w++]<<r,r+=8}a>>>=P,r-=P,X=0,S=3+(a&7),a>>>=3,r-=3}else{for(ie=P+7;r<ie;){if(b===0)break e;b--,a+=y[w++]<<r,r+=8}a>>>=P,r-=P,X=0,S=11+(a&127),a>>>=7,r-=7}if(e.have+S>e.nlen+e.ndist){t.msg=\"invalid bit length repeat\",e.mode=F;break}for(;S--;)e.lens[e.have++]=X}}if(e.mode===F)break;if(e.lens[256]===0){t.msg=\"invalid code -- missing end-of-block\",e.mode=F;break}if(e.lenbits=9,oe={bits:e.lenbits},ee=s(_,e.lens,0,e.nlen,e.lencode,0,e.work,oe),e.lenbits=oe.bits,ee){t.msg=\"invalid literal/lengths set\",e.mode=F;break}if(e.distbits=6,e.distcode=e.distdyn,oe={bits:e.distbits},ee=s(C,e.lens,e.nlen,e.ndist,e.distcode,0,e.work,oe),e.distbits=oe.bits,ee){t.msg=\"invalid distances set\",e.mode=F;break}if(e.mode=re,x===l)break e;case re:e.mode=ae;case ae:if(b>=6&&G>=258){t.next_out=q,t.avail_out=G,t.next_in=w,t.avail_in=b,e.hold=a,e.bits=r,g(t,z),q=t.next_out,H=t.output,G=t.avail_out,w=t.next_in,y=t.input,b=t.avail_in,a=e.hold,r=e.bits,e.mode===V&&(e.back=-1);break}for(e.back=0;Y=e.lencode[a&(1<<e.lenbits)-1],P=Y>>>24,J=Y>>>16&255,$=Y&65535,!(P<=r);){if(b===0)break e;b--,a+=y[w++]<<r,r+=8}if(J&&(J&240)===0){for(Q=P,ve=J,ge=$;Y=e.lencode[ge+((a&(1<<Q+ve)-1)>>Q)],P=Y>>>24,J=Y>>>16&255,$=Y&65535,!(Q+P<=r);){if(b===0)break e;b--,a+=y[w++]<<r,r+=8}a>>>=Q,r-=Q,e.back+=Q}if(a>>>=P,r-=P,e.back+=P,e.length=$,J===0){e.mode=Te;break}if(J&32){e.back=-1,e.mode=V;break}if(J&64){t.msg=\"invalid literal/length code\",e.mode=F;break}e.extra=J&15,e.mode=we;case we:if(e.extra){for(ie=e.extra;r<ie;){if(b===0)break e;b--,a+=y[w++]<<r,r+=8}e.length+=a&(1<<e.extra)-1,a>>>=e.extra,r-=e.extra,e.back+=e.extra}e.was=e.length,e.mode=_e;case _e:for(;Y=e.distcode[a&(1<<e.distbits)-1],P=Y>>>24,J=Y>>>16&255,$=Y&65535,!(P<=r);){if(b===0)break e;b--,a+=y[w++]<<r,r+=8}if((J&240)===0){for(Q=P,ve=J,ge=$;Y=e.distcode[ge+((a&(1<<Q+ve)-1)>>Q)],P=Y>>>24,J=Y>>>16&255,$=Y&65535,!(Q+P<=r);){if(b===0)break e;b--,a+=y[w++]<<r,r+=8}a>>>=Q,r-=Q,e.back+=Q}if(a>>>=P,r-=P,e.back+=P,J&64){t.msg=\"invalid distance code\",e.mode=F;break}e.offset=$,e.extra=J&15,e.mode=ue;case ue:if(e.extra){for(ie=e.extra;r<ie;){if(b===0)break e;b--,a+=y[w++]<<r,r+=8}e.offset+=a&(1<<e.extra)-1,a>>>=e.extra,r-=e.extra,e.back+=e.extra}if(e.offset>e.dmax){t.msg=\"invalid distance too far back\",e.mode=F;break}e.mode=he;case he:if(G===0)break e;if(S=z-G,e.offset>S){if(S=e.offset-S,S>e.whave&&e.sane){t.msg=\"invalid distance too far back\",e.mode=F;break}S>e.wnext?(S-=e.wnext,be=e.wsize-S):be=e.wnext-S,S>e.length&&(S=e.length),me=e.window}else me=H,be=q-e.offset,S=e.length;S>G&&(S=G),G-=S,e.length-=S;do H[q++]=me[be++];while(--S);e.length===0&&(e.mode=ae);break;case Te:if(G===0)break e;H[q++]=e.length,G--,e.mode=ae;break;case ke:if(e.wrap){for(;r<32;){if(b===0)break e;b--,a|=y[w++]<<r,r+=8}if(z-=G,t.total_out+=z,e.total+=z,z&&(t.adler=e.check=e.flags?n(e.check,H,z,q-z):T(e.check,H,z,q-z)),z=G,(e.flags?a:Re(a))!==e.check){t.msg=\"incorrect data check\",e.mode=F;break}a=0,r=0}e.mode=Oe;case Oe:if(e.wrap&&e.flags){for(;r<32;){if(b===0)break e;b--,a+=y[w++]<<r,r+=8}if(a!==(e.total&4294967295)){t.msg=\"incorrect length check\",e.mode=F;break}a=0,r=0}e.mode=De;case De:ee=c;break e;case F:ee=d;break e;case Ee:return M;case Pe:default:return f}return t.next_out=q,t.avail_out=G,t.next_in=w,t.avail_in=b,e.hold=a,e.bits=r,(e.wsize||z!==t.avail_out&&e.mode<F&&(e.mode<ke||x!==u))&&Me(t,t.output,t.next_out,z-t.avail_out)?(e.mode=Ee,M):(xe-=t.avail_in,z-=t.avail_out,t.total_in+=xe,t.total_out+=z,e.total+=z,e.wrap&&z&&(t.adler=e.check=e.flags?n(e.check,H,z,t.next_out-z):T(e.check,H,z,t.next_out-z)),t.data_type=e.bits+(e.last?64:0)+(e.mode===V?128:0)+(e.mode===re||e.mode===ne?256:0),(xe===0&&z===0||x===u)&&ee===h&&(ee=L),ee)},Ke=t=>{if(!t||!t.state)return f;let x=t.state;return x.window&&(x.window=null),t.state=null,h},Ve=(t,x)=>{if(!t||!t.state)return f;const e=t.state;return(e.wrap&2)===0?f:(e.head=x,x.done=!1,h)},We=(t,x)=>{const e=x.length;let y,H,w;return!t||!t.state||(y=t.state,y.wrap!==0&&y.mode!==K)?f:y.mode===K&&(H=1,H=T(H,x,e,0),H!==y.check)?d:(w=Me(t,x,e,e),w?(y.mode=Ee,M):(y.havedict=1,h))};k.exports.inflateReset=Ue,k.exports.inflateReset2=Ce,k.exports.inflateResetKeep=Ie,k.exports.inflateInit=Ye,k.exports.inflateInit2=Ne,k.exports.inflate=Xe,k.exports.inflateEnd=Ke,k.exports.inflateGetHeader=Ve,k.exports.inflateSetDictionary=We,k.exports.inflateInfo=\"pako inflate (from Nodeca project)\"},241:k=>{\"use strict\";const m=new Uint16Array([3,4,5,6,7,8,9,10,11,13,15,17,19,23,27,31,35,43,51,59,67,83,99,115,131,163,195,227,258,0,0]),_=new Uint8Array([16,16,16,16,16,16,16,16,17,17,17,17,18,18,18,18,19,19,19,19,20,20,20,20,21,21,21,21,16,72,78]),C=new Uint16Array([1,2,3,4,5,7,9,13,17,25,33,49,65,97,129,193,257,385,513,769,1025,1537,2049,3073,4097,6145,8193,12289,16385,24577,0,0]),u=new Uint8Array([16,16,16,16,17,17,18,18,19,19,20,20,21,21,22,22,23,23,24,24,25,25,26,26,27,27,28,28,29,29,64,64]),v=(l,h,c,N,f,d,M,L)=>{const j=L.bits;let D=0,A=0,o=0,i=0,Z=0,R=0,O=0,p=0,U=0,B=0,K,V,fe,de,ne,ce=null,pe=0,le;const te=new Uint16Array(15+1),re=new Uint16Array(15+1);let ae=null,we=0,_e,ue,he;for(D=0;D<=15;D++)te[D]=0;for(A=0;A<N;A++)te[h[c+A]]++;for(Z=j,i=15;i>=1&&te[i]===0;i--);if(Z>i&&(Z=i),i===0)return f[d++]=1<<24|64<<16|0,f[d++]=1<<24|64<<16|0,L.bits=1,0;for(o=1;o<i&&te[o]===0;o++);for(Z<o&&(Z=o),p=1,D=1;D<=15;D++)if(p<<=1,p-=te[D],p<0)return-1;if(p>0&&(l===0||i!==1))return-1;for(re[1]=0,D=1;D<15;D++)re[D+1]=re[D]+te[D];for(A=0;A<N;A++)h[c+A]!==0&&(M[re[h[c+A]]++]=A);if(l===0?(ce=ae=M,le=19):l===1?(ce=m,pe-=257,ae=_,we-=257,le=256):(ce=C,ae=u,le=-1),B=0,A=0,D=o,ne=d,R=Z,O=0,fe=-1,U=1<<Z,de=U-1,l===1&&U>852||l===2&&U>592)return 1;for(;;){_e=D-O,M[A]<le?(ue=0,he=M[A]):M[A]>le?(ue=ae[we+M[A]],he=ce[pe+M[A]]):(ue=32+64,he=0),K=1<<D-O,V=1<<R,o=V;do V-=K,f[ne+(B>>O)+V]=_e<<24|ue<<16|he|0;while(V!==0);for(K=1<<D-1;B&K;)K>>=1;if(K!==0?(B&=K-1,B+=K):B=0,A++,--te[D]===0){if(D===i)break;D=h[c+M[A]]}if(D>Z&&(B&de)!==fe){for(O===0&&(O=Z),ne+=o,R=D-O,p=1<<R;R+O<i&&(p-=te[R+O],!(p<=0));)R++,p<<=1;if(U+=1<<R,l===1&&U>852||l===2&&U>592)return 1;fe=B&de,f[fe]=Z<<24|R<<16|ne-d|0}}return B!==0&&(f[ne+B]=D-O<<24|64<<16|0),L.bits=Z,0};k.exports=v},898:k=>{\"use strict\";k.exports={2:\"need dictionary\",1:\"stream end\",0:\"\",\"-1\":\"file error\",\"-2\":\"stream error\",\"-3\":\"data error\",\"-4\":\"insufficient memory\",\"-5\":\"buffer error\",\"-6\":\"incompatible version\"}},292:k=>{\"use strict\";function I(){this.input=null,this.next_in=0,this.avail_in=0,this.total_in=0,this.output=null,this.next_out=0,this.avail_out=0,this.total_out=0,this.msg=\"\",this.state=null,this.data_type=2,this.adler=0}k.exports=I},330:(k,I,E)=>{\"use strict\";E.d(I,{default:()=>C});var T=E(829),n=E(861),g=E.n(n),s=E(843);function m(u){if(u.__type__==\"npy\"){var v;if(window.obj=u,u.hasOwnProperty(\"zdata\")){const f=Uint8Array.from(window.atob(u.zdata),d=>d.charCodeAt(0));v=(0,s.rr)(f)}else v=Uint8Array.from(window.atob(u.data),f=>f.charCodeAt(0));var l=(0,T.g)(v.buffer);if(l=n(l.data,l.shape),u.hasOwnProperty(\"min\")){let f=l.dtype===\"uint8\"?255:65535;for(var h=1,c=0;c<l.shape.length;c++)h=h*l.shape[c];for(var N=n(new Float32Array(h),l.shape),c=0;c<l.data.length;c++)N.data[c]=u.min+(u.max-u.min)*l.data[c]/f;return N}else return l}else return{}}function _(u){if(Array.isArray(u)){var v=[];for(var l of u)v.push(_(l));return v}else if(u instanceof Object){if(u.hasOwnProperty(\"__type__\"))return m(u);var v={};for(var h of Object.keys(u))v[h]=_(u[h]);return v}else return u}const C=loader={unpack_obj:_}}},ye={};function se(k){if(ye[k])return ye[k].exports;var I=ye[k]={exports:{}};return Ze[k](I,I.exports,se),I.exports}return se.n=k=>{var I=k&&k.__esModule?()=>k.default:()=>k;return se.d(I,{a:I}),I},se.d=(k,I)=>{for(var E in I)se.o(I,E)&&!se.o(k,E)&&Object.defineProperty(k,E,{enumerable:!0,get:I[E]})},se.o=(k,I)=>Object.prototype.hasOwnProperty.call(k,I),se(330)})().default;\n",
              "</script>\n",
              "<script>var AttentionMulti;AttentionMulti=(()=>{\"use strict\";var wt={143:(B,P,ee)=>{ee.d(P,{default:()=>_n});function L(){}const ge=e=>e;function Ft(e,t){for(const n in t)e[n]=t[n];return e}function qt(e){return e&&typeof e==\"object\"&&typeof e.then==\"function\"}function wn(e,t,n,o,i){e.__svelte_meta={loc:{file:t,line:n,column:o,char:i}}}function Ge(e){return e()}function Se(){return Object.create(null)}function R(e){e.forEach(Ge)}function re(e){return typeof e==\"function\"}function ze(e,t){return e!=e?t==t:e!==t||e&&typeof e==\"object\"||typeof e==\"function\"}function Fn(e,t){return e!=e?t==t:e!==t}function Ke(e){return Object.keys(e).length===0}function qn(e,t){if(e!=null&&typeof e.subscribe!=\"function\")throw new Error(`'${t}' is not a store with a 'subscribe' method`)}function Qe(e,...t){if(e==null)return L;const n=e.subscribe(...t);return n.unsubscribe?()=>n.unsubscribe():n}function En(e){let t;return Qe(e,n=>t=n)(),t}function Sn(e,t,n){e.$$.on_destroy.push(Qe(t,n))}function Et(e,t,n,o){if(e){const i=Me(e,t,n,o);return e[0](i)}}function Me(e,t,n,o){return e[1]&&o?Ft(n.ctx.slice(),e[1](o(t))):n.ctx}function Ze(e,t,n,o){if(e[2]&&o){const i=e[2](o(n));if(t.dirty===void 0)return i;if(typeof i==\"object\"){const s=[],l=Math.max(t.dirty.length,i.length);for(let r=0;r<l;r+=1)s[r]=t.dirty[r]|i[r];return s}return t.dirty|i}return t.dirty}function St(e,t,n,o,i,s,l){const r=Ze(t,o,i,s);if(r){const u=Me(t,n,o,l);e.p(u,r)}}function zn(e,t,n,o,i,s,l,r){const u=l(i)|Ze(t,o,i,s);if(u){const a=Me(t,n,o,r);e.p(a,u)}}function Mn(e){const t={};for(const n in e)n[0]!==\"$\"&&(t[n]=e[n]);return t}function Cn(e,t){const n={};t=new Set(t);for(const o in e)!t.has(o)&&o[0]!==\"$\"&&(n[o]=e[o]);return n}function An(e){const t={};for(const n in e)t[n]=!0;return t}function Dn(e){let t=!1;return function(...n){t||(t=!0,e.call(this,...n))}}function On(e){return e==null?\"\":e}function xn(e,t,n=t){return e.set(n),t}const zt=(e,t)=>Object.prototype.hasOwnProperty.call(e,t);function Tn(e){return e&&re(e.destroy)?e.destroy:L}const jn=typeof window!=\"undefined\";let ue=null,pe=null;function Ln(e){ue=e}function Nn(e){pe=e}const G=new Set;function $e(e){G.forEach(t=>{t.c(e)||(G.delete(t),t.f())}),G.size!==0&&pe($e)}function Pn(){G.clear()}function me(e){let t;return G.size===0&&pe($e),{promise:new Promise(n=>{G.add(t={c:e,f:n})}),abort(){G.delete(t)}}}function S(e,t){e.appendChild(t)}function C(e,t,n){e.insertBefore(t,n||null)}function M(e){e.parentNode.removeChild(e)}function et(e,t){for(let n=0;n<e.length;n+=1)e[n]&&e[n].d(t)}function z(e){return document.createElement(e)}function Rn(e,t){return document.createElement(e,{is:t})}function Bn(e,t){const n={};for(const o in e)zt(e,o)&&t.indexOf(o)===-1&&(n[o]=e[o]);return n}function Mt(e){return document.createElementNS(\"http://www.w3.org/2000/svg\",e)}function N(e){return document.createTextNode(e)}function j(){return N(\" \")}function Ct(){return N(\"\")}function H(e,t,n,o){return e.addEventListener(t,n,o),()=>e.removeEventListener(t,n,o)}function Hn(e){return function(t){return t.preventDefault(),e.call(this,t)}}function In(e){return function(t){return t.stopPropagation(),e.call(this,t)}}function Vn(e){return function(t){t.target===this&&e.call(this,t)}}function F(e,t,n){n==null?e.removeAttribute(t):e.getAttribute(t)!==n&&e.setAttribute(t,n)}function Wn(e,t){const n=Object.getOwnPropertyDescriptors(e.__proto__);for(const o in t)t[o]==null?e.removeAttribute(o):o===\"style\"?e.style.cssText=t[o]:o===\"__value\"?e.value=e[o]=t[o]:n[o]&&n[o].set?e[o]=t[o]:F(e,o,t[o])}function Yn(e,t){for(const n in t)F(e,n,t[n])}function Un(e,t,n){t in e?e[t]=n:F(e,t,n)}function Jn(e,t,n){e.setAttributeNS(\"http://www.w3.org/1999/xlink\",t,n)}function Xn(e,t,n){const o=new Set;for(let i=0;i<e.length;i+=1)e[i].checked&&o.add(e[i].__value);return n||o.delete(t),Array.from(o)}function Gn(e){return e===\"\"?null:+e}function Kn(e){const t=[];for(let n=0;n<e.length;n+=1)t.push({start:e.start(n),end:e.end(n)});return t}function At(e){return Array.from(e.childNodes)}function Qn(e,t,n,o){for(let i=0;i<e.length;i+=1){const s=e[i];if(s.nodeName===t){let l=0;const r=[];for(;l<s.attributes.length;){const u=s.attributes[l++];n[u.name]||r.push(u.name)}for(let u=0;u<r.length;u++)s.removeAttribute(r[u]);return e.splice(i,1)[0]}}return o?Mt(t):z(t)}function Dt(e,t){for(let n=0;n<e.length;n+=1){const o=e[n];if(o.nodeType===3)return o.data=\"\"+t,e.splice(n,1)[0]}return N(t)}function Zn(e){return Dt(e,\" \")}function ve(e,t){t=\"\"+t,e.wholeText!==t&&(e.data=t)}function $n(e,t){e.value=t==null?\"\":t}function eo(e,t){try{e.type=t}catch(n){}}function O(e,t,n,o){e.style.setProperty(t,n,o?\"important\":\"\")}function to(e,t){for(let n=0;n<e.options.length;n+=1){const o=e.options[n];if(o.__value===t){o.selected=!0;return}}}function no(e,t){for(let n=0;n<e.options.length;n+=1){const o=e.options[n];o.selected=~t.indexOf(o.__value)}}function oo(e){const t=e.querySelector(\":checked\")||e.options[0];return t&&t.__value}function io(e){return[].map.call(e.querySelectorAll(\":checked\"),t=>t.__value)}let ke;function Ot(){if(ke===void 0){ke=!1;try{typeof window!=\"undefined\"&&window.parent&&window.parent.document}catch(e){ke=!0}}return ke}function lo(e,t){getComputedStyle(e).position===\"static\"&&(e.style.position=\"relative\");const o=z(\"iframe\");o.setAttribute(\"style\",\"display: block; position: absolute; top: 0; left: 0; width: 100%; height: 100%; overflow: hidden; border: 0; opacity: 0; pointer-events: none; z-index: -1;\"),o.setAttribute(\"aria-hidden\",\"true\"),o.tabIndex=-1;const i=Ot();let s;return i?(o.src=\"data:text/html,<script>onresize=function(){parent.postMessage(0,'*')}<\\/script>\",s=H(window,\"message\",l=>{l.source===o.contentWindow&&t()})):(o.src=\"about:blank\",o.onload=()=>{s=H(o.contentWindow,\"resize\",t)}),S(e,o),()=>{(i||s&&o.contentWindow)&&s(),M(o)}}function so(e,t,n){e.classList[n?\"add\":\"remove\"](t)}function Ce(e,t){const n=document.createEvent(\"CustomEvent\");return n.initCustomEvent(e,!1,!1,t),n}function ro(e,t=document.body){return Array.from(t.querySelectorAll(e))}class uo{constructor(t=null){this.a=t,this.e=this.n=null}m(t,n,o=null){this.e||(this.e=z(n.nodeName),this.t=n,this.h(t)),this.i(o)}h(t){this.e.innerHTML=t,this.n=Array.from(this.e.childNodes)}i(t){for(let n=0;n<this.n.length;n+=1)C(this.t,this.n[n],t)}p(t){this.d(),this.h(t),this.i(this.a)}d(){this.n.forEach(M)}}function co(e){const t={};for(const n of e)t[n.name]=n.value;return t}function ao(e){const t={};return e.childNodes.forEach(n=>{t[n.slot||\"default\"]=!0}),t}const Ae=new Set;let be=0;function xt(e){let t=5381,n=e.length;for(;n--;)t=(t<<5)-t^e.charCodeAt(n);return t>>>0}function ce(e,t,n,o,i,s,l,r=0){const u=16.666/o;let a=`{\n",
              "`;for(let c=0;c<=1;c+=u){const _=t+(n-t)*s(c);a+=c*100+`%{${l(_,1-_)}}\n",
              "`}const d=a+`100% {${l(n,1-n)}}\n",
              "}`,h=`__svelte_${xt(d)}_${r}`,g=e.ownerDocument;Ae.add(g);const p=g.__svelte_stylesheet||(g.__svelte_stylesheet=g.head.appendChild(z(\"style\")).sheet),f=g.__svelte_rules||(g.__svelte_rules={});f[h]||(f[h]=!0,p.insertRule(`@keyframes ${h} ${d}`,p.cssRules.length));const m=e.style.animation||\"\";return e.style.animation=`${m?`${m}, `:\"\"}${h} ${o}ms linear ${i}ms 1 both`,be+=1,h}function ae(e,t){const n=(e.style.animation||\"\").split(\", \"),o=n.filter(t?s=>s.indexOf(t)<0:s=>s.indexOf(\"__svelte\")===-1),i=n.length-o.length;i&&(e.style.animation=o.join(\", \"),be-=i,be||Tt())}function Tt(){pe(()=>{be||(Ae.forEach(e=>{const t=e.__svelte_stylesheet;let n=t.cssRules.length;for(;n--;)t.deleteRule(n);e.__svelte_rules={}}),Ae.clear())})}function fo(e,t,n,o){if(!t)return L;const i=e.getBoundingClientRect();if(t.left===i.left&&t.right===i.right&&t.top===i.top&&t.bottom===i.bottom)return L;const{delay:s=0,duration:l=300,easing:r=ge,start:u=ue()+s,end:a=u+l,tick:d=L,css:h}=n(e,{from:t,to:i},o);let g=!0,p=!1,f;function m(){h&&(f=ce(e,0,1,l,s,r,h)),s||(p=!0)}function c(){h&&ae(e,f),g=!1}return me(_=>{if(!p&&_>=u&&(p=!0),p&&_>=a&&(d(1,0),c()),!g)return!1;if(p){const v=_-u,y=0+1*r(v/l);d(y,1-y)}return!0}),m(),d(0,1),c}function _o(e){const t=getComputedStyle(e);if(t.position!==\"absolute\"&&t.position!==\"fixed\"){const{width:n,height:o}=t,i=e.getBoundingClientRect();e.style.position=\"absolute\",e.style.width=n,e.style.height=o,jt(e,i)}}function jt(e,t){const n=e.getBoundingClientRect();if(t.left!==n.left||t.top!==n.top){const o=getComputedStyle(e),i=o.transform===\"none\"?\"\":o.transform;e.style.transform=`${i} translate(${t.left-n.left}px, ${t.top-n.top}px)`}}let fe;function I(e){fe=e}function U(){if(!fe)throw new Error(\"Function called outside component initialization\");return fe}function ho(e){U().$$.before_update.push(e)}function Lt(e){U().$$.on_mount.push(e)}function go(e){U().$$.after_update.push(e)}function po(e){U().$$.on_destroy.push(e)}function mo(){const e=U();return(t,n)=>{const o=e.$$.callbacks[t];if(o){const i=Ce(t,n);o.slice().forEach(s=>{s.call(e,i)})}}}function vo(e,t){U().$$.context.set(e,t)}function ko(e){return U().$$.context.get(e)}function bo(e){return U().$$.context.has(e)}function yo(e,t){const n=e.$$.callbacks[t.type];n&&n.slice().forEach(o=>o(t))}const de=[],wo={enabled:!1},_e=[],ye=[],De=[],tt=Promise.resolve();let Oe=!1;function nt(){Oe||(Oe=!0,tt.then(je))}function Fo(){return nt(),tt}function te(e){ye.push(e)}function ot(e){De.push(e)}let xe=!1;const Te=new Set;function je(){if(!xe){xe=!0;do{for(let e=0;e<de.length;e+=1){const t=de[e];I(t),Nt(t.$$)}for(I(null),de.length=0;_e.length;)_e.pop()();for(let e=0;e<ye.length;e+=1){const t=ye[e];Te.has(t)||(Te.add(t),t())}ye.length=0}while(de.length);for(;De.length;)De.pop()();Oe=!1,xe=!1,Te.clear()}}function Nt(e){if(e.fragment!==null){e.update(),R(e.before_update);const t=e.dirty;e.dirty=[-1],e.fragment&&e.fragment.p(e.ctx,t),e.after_update.forEach(te)}}let he;function Le(){return he||(he=Promise.resolve(),he.then(()=>{he=null})),he}function K(e,t,n){e.dispatchEvent(Ce(`${t?\"intro\":\"outro\"}${n}`))}const we=new Set;let V;function ne(){V={r:0,c:[],p:V}}function oe(){V.r||R(V.c),V=V.p}function D(e,t){e&&e.i&&(we.delete(e),e.i(t))}function x(e,t,n,o){if(e&&e.o){if(we.has(e))return;we.add(e),V.c.push(()=>{we.delete(e),o&&(n&&e.d(1),o())}),e.o(t)}}const Ne={duration:0};function qo(e,t,n){let o=t(e,n),i=!1,s,l,r=0;function u(){s&&ae(e,s)}function a(){const{delay:h=0,duration:g=300,easing:p=ge,tick:f=L,css:m}=o||Ne;m&&(s=ce(e,0,1,g,h,p,m,r++)),f(0,1);const c=ue()+h,_=c+g;l&&l.abort(),i=!0,te(()=>K(e,!0,\"start\")),l=me(v=>{if(i){if(v>=_)return f(1,0),K(e,!0,\"end\"),u(),i=!1;if(v>=c){const y=p((v-c)/g);f(y,1-y)}}return i})}let d=!1;return{start(){d||(ae(e),re(o)?(o=o(),Le().then(a)):a())},invalidate(){d=!1},end(){i&&(u(),i=!1)}}}function Eo(e,t,n){let o=t(e,n),i=!0,s;const l=V;l.r+=1;function r(){const{delay:u=0,duration:a=300,easing:d=ge,tick:h=L,css:g}=o||Ne;g&&(s=ce(e,1,0,a,u,d,g));const p=ue()+u,f=p+a;te(()=>K(e,!1,\"start\")),me(m=>{if(i){if(m>=f)return h(0,1),K(e,!1,\"end\"),--l.r||R(l.c),!1;if(m>=p){const c=d((m-p)/a);h(1-c,c)}}return i})}return re(o)?Le().then(()=>{o=o(),r()}):r(),{end(u){u&&o.tick&&o.tick(1,0),i&&(s&&ae(e,s),i=!1)}}}function So(e,t,n,o){let i=t(e,n),s=o?0:1,l=null,r=null,u=null;function a(){u&&ae(e,u)}function d(g,p){const f=g.b-s;return p*=Math.abs(f),{a:s,b:g.b,d:f,duration:p,start:g.start,end:g.start+p,group:g.group}}function h(g){const{delay:p=0,duration:f=300,easing:m=ge,tick:c=L,css:_}=i||Ne,v={start:ue()+p,b:g};g||(v.group=V,V.r+=1),l||r?r=v:(_&&(a(),u=ce(e,s,g,f,p,m,_)),g&&c(0,1),l=d(v,f),te(()=>K(e,g,\"start\")),me(y=>{if(r&&y>r.start&&(l=d(r,f),r=null,K(e,l.b,\"start\"),_&&(a(),u=ce(e,s,l.b,l.duration,0,m,i.css))),l){if(y>=l.end)c(s=l.b,1-s),K(e,l.b,\"end\"),r||(l.b?a():--l.group.r||R(l.group.c)),l=null;else if(y>=l.start){const q=y-l.start;s=l.a+l.d*m(q/l.duration),c(s,1-s)}}return!!(l||r)}))}return{run(g){re(i)?Le().then(()=>{i=i(),h(g)}):h(g)},end(){a(),l=r=null}}}function zo(e,t){const n=t.token={};function o(i,s,l,r){if(t.token!==n)return;t.resolved=r;let u=t.ctx;l!==void 0&&(u=u.slice(),u[l]=r);const a=i&&(t.current=i)(u);let d=!1;t.block&&(t.blocks?t.blocks.forEach((h,g)=>{g!==s&&h&&(ne(),x(h,1,1,()=>{t.blocks[g]===h&&(t.blocks[g]=null)}),oe())}):t.block.d(1),a.c(),D(a,1),a.m(t.mount(),t.anchor),d=!0),t.block=a,t.blocks&&(t.blocks[s]=a),d&&je()}if(qt(e)){const i=U();if(e.then(s=>{I(i),o(t.then,1,t.value,s),I(null)},s=>{if(I(i),o(t.catch,2,t.error,s),I(null),!t.hasCatch)throw s}),t.current!==t.pending)return o(t.pending,0),!0}else{if(t.current!==t.then)return o(t.then,1,t.value,e),!0;t.resolved=e}}const Mo=typeof window!=\"undefined\"?window:typeof globalThis!=\"undefined\"?globalThis:global;function Pt(e,t){e.d(1),t.delete(e.key)}function Rt(e,t){x(e,1,1,()=>{t.delete(e.key)})}function Co(e,t){e.f(),Pt(e,t)}function Ao(e,t){e.f(),Rt(e,t)}function Do(e,t,n,o,i,s,l,r,u,a,d,h){let g=e.length,p=s.length,f=g;const m={};for(;f--;)m[e[f].key]=f;const c=[],_=new Map,v=new Map;for(f=p;f--;){const b=h(i,s,f),k=n(b);let w=l.get(k);w?o&&w.p(b,t):(w=a(k,b),w.c()),_.set(k,c[f]=w),k in m&&v.set(k,Math.abs(f-m[k]))}const y=new Set,q=new Set;function T(b){D(b,1),b.m(r,d),l.set(b.key,b),d=b.first,p--}for(;g&&p;){const b=c[p-1],k=e[g-1],w=b.key,A=k.key;b===k?(d=b.first,g--,p--):_.has(A)?!l.has(w)||y.has(w)?T(b):q.has(A)?g--:v.get(w)>v.get(A)?(q.add(w),T(b)):(y.add(A),g--):(u(k,l),g--)}for(;g--;){const b=e[g];_.has(b.key)||u(b,l)}for(;p;)T(c[p-1]);return c}function Oo(e,t,n,o){const i=new Set;for(let s=0;s<t.length;s++){const l=o(n(e,t,s));if(i.has(l))throw new Error(\"Cannot have duplicate keys in a keyed each\");i.add(l)}}function xo(e,t){const n={},o={},i={$$scope:1};let s=e.length;for(;s--;){const l=e[s],r=t[s];if(r){for(const u in l)u in r||(o[u]=1);for(const u in r)i[u]||(n[u]=r[u],i[u]=1);e[s]=r}else for(const u in l)i[u]=1}for(const l in o)l in n||(n[l]=void 0);return n}function To(e){return typeof e==\"object\"&&e!==null?e:{}}const Bt=new Set([\"allowfullscreen\",\"allowpaymentrequest\",\"async\",\"autofocus\",\"autoplay\",\"checked\",\"controls\",\"default\",\"defer\",\"disabled\",\"formnovalidate\",\"hidden\",\"ismap\",\"loop\",\"multiple\",\"muted\",\"nomodule\",\"novalidate\",\"open\",\"playsinline\",\"readonly\",\"required\",\"reversed\",\"selected\"]),Ht=/[\\s'\">/=\\u{FDD0}-\\u{FDEF}\\u{FFFE}\\u{FFFF}\\u{1FFFE}\\u{1FFFF}\\u{2FFFE}\\u{2FFFF}\\u{3FFFE}\\u{3FFFF}\\u{4FFFE}\\u{4FFFF}\\u{5FFFE}\\u{5FFFF}\\u{6FFFE}\\u{6FFFF}\\u{7FFFE}\\u{7FFFF}\\u{8FFFE}\\u{8FFFF}\\u{9FFFE}\\u{9FFFF}\\u{AFFFE}\\u{AFFFF}\\u{BFFFE}\\u{BFFFF}\\u{CFFFE}\\u{CFFFF}\\u{DFFFE}\\u{DFFFF}\\u{EFFFE}\\u{EFFFF}\\u{FFFFE}\\u{FFFFF}\\u{10FFFE}\\u{10FFFF}]/u;function jo(e,t){const n=Object.assign({},...e);t&&(n.class==null?n.class=t:n.class+=\" \"+t);let o=\"\";return Object.keys(n).forEach(i=>{if(Ht.test(i))return;const s=n[i];s===!0?o+=\" \"+i:Bt.has(i.toLowerCase())?s&&(o+=\" \"+i):s!=null&&(o+=` ${i}=\"${String(s).replace(/\"/g,\"&#34;\").replace(/'/g,\"&#39;\")}\"`)}),o}const It={'\"':\"&quot;\",\"'\":\"&#39;\",\"&\":\"&amp;\",\"<\":\"&lt;\",\">\":\"&gt;\"};function Vt(e){return String(e).replace(/[\"'&<>]/g,t=>It[t])}function Lo(e,t){let n=\"\";for(let o=0;o<e.length;o+=1)n+=t(e[o],o);return n}const No={$$render:()=>\"\"};function Po(e,t){if(!e||!e.$$render)throw t===\"svelte:component\"&&(t+=\" this={...}\"),new Error(`<${t}> is not a valid SSR component. You may need to review your build config to ensure that dependencies are compiled, rather than imported as pre-compiled modules`);return e}function Ro(e,t,n,o){return console.log(`{@debug} ${e?e+\" \":\"\"}(${t}:${n})`),console.log(o),\"\"}let Pe;function Bo(e){function t(n,o,i,s){const l=fe,r={on_destroy:Pe,context:new Map(l?l.$$.context:[]),on_mount:[],before_update:[],after_update:[],callbacks:Se()};I({$$:r});const u=e(n,o,i,s);return I(l),u}return{render:(n={},o={})=>{Pe=[];const i={title:\"\",head:\"\",css:new Set},s=t(i,n,{},o);return R(Pe),{html:s,css:{code:Array.from(i.css).map(l=>l.code).join(`\n",
              "`),map:null},head:i.title+i.head}},$$render:t}}function Ho(e,t,n){return t==null||n&&!t?\"\":` ${e}${t===!0?\"\":`=${typeof t==\"string\"?JSON.stringify(Vt(t)):`\"${t}\"`}`}`}function Io(e){return e?` class=\"${e}\"`:\"\"}function it(e,t,n){const o=e.$$.props[t];o!==void 0&&(e.$$.bound[o]=n,n(e.$$.ctx[o]))}function ie(e){e&&e.c()}function Vo(e,t){e&&e.l(t)}function Q(e,t,n){const{fragment:o,on_mount:i,on_destroy:s,after_update:l}=e.$$;o&&o.m(t,n),te(()=>{const r=i.map(Ge).filter(re);s?s.push(...r):R(r),e.$$.on_mount=[]}),l.forEach(te)}function J(e,t){const n=e.$$;n.fragment!==null&&(R(n.on_destroy),n.fragment&&n.fragment.d(t),n.on_destroy=n.fragment=null,n.ctx=[])}function Wt(e,t){e.$$.dirty[0]===-1&&(de.push(e),nt(),e.$$.dirty.fill(0)),e.$$.dirty[t/31|0]|=1<<t%31}function Re(e,t,n,o,i,s,l=[-1]){const r=fe;I(e);const u=t.props||{},a=e.$$={fragment:null,ctx:null,props:s,update:L,not_equal:i,bound:Se(),on_mount:[],on_destroy:[],before_update:[],after_update:[],context:new Map(r?r.$$.context:[]),callbacks:Se(),dirty:l,skip_bound:!1};let d=!1;if(a.ctx=n?n(e,u,(h,g,...p)=>{const f=p.length?p[0]:g;return a.ctx&&i(a.ctx[h],a.ctx[h]=f)&&(!a.skip_bound&&a.bound[h]&&a.bound[h](f),d&&Wt(e,h)),g}):[],a.update(),d=!0,R(a.before_update),a.fragment=o?o(a.ctx):!1,t.target){if(t.hydrate){const h=At(t.target);a.fragment&&a.fragment.l(h),h.forEach(M)}else a.fragment&&a.fragment.c();t.intro&&D(e.$$.fragment),Q(e,t.target,t.anchor),je()}I(r)}let Yt;typeof HTMLElement==\"function\"&&(Yt=class extends HTMLElement{constructor(){super(),this.attachShadow({mode:\"open\"})}connectedCallback(){for(const e in this.$$.slotted)this.appendChild(this.$$.slotted[e])}attributeChangedCallback(e,t,n){this[e]=n}$destroy(){J(this,1),this.$destroy=L}$on(e,t){const n=this.$$.callbacks[e]||(this.$$.callbacks[e]=[]);return n.push(t),()=>{const o=n.indexOf(t);o!==-1&&n.splice(o,1)}}$set(e){this.$$set&&!Ke(e)&&(this.$$.skip_bound=!0,this.$$set(e),this.$$.skip_bound=!1)}});class Be{$destroy(){J(this,1),this.$destroy=L}$on(t,n){const o=this.$$.callbacks[t]||(this.$$.callbacks[t]=[]);return o.push(n),()=>{const i=o.indexOf(n);i!==-1&&o.splice(i,1)}}$set(t){this.$$set&&!Ke(t)&&(this.$$.skip_bound=!0,this.$$set(t),this.$$.skip_bound=!1)}}function W(e,t){document.dispatchEvent(Ce(e,Object.assign({version:\"3.31.2\"},t)))}function Wo(e,t){W(\"SvelteDOMInsert\",{target:e,node:t}),S(e,t)}function Yo(e,t,n){W(\"SvelteDOMInsert\",{target:e,node:t,anchor:n}),C(e,t,n)}function He(e){W(\"SvelteDOMRemove\",{node:e}),M(e)}function Uo(e,t){for(;e.nextSibling&&e.nextSibling!==t;)He(e.nextSibling)}function Jo(e){for(;e.previousSibling;)He(e.previousSibling)}function Xo(e){for(;e.nextSibling;)He(e.nextSibling)}function Go(e,t,n,o,i,s){const l=o===!0?[\"capture\"]:o?Array.from(Object.keys(o)):[];i&&l.push(\"preventDefault\"),s&&l.push(\"stopPropagation\"),W(\"SvelteDOMAddEventListener\",{node:e,event:t,handler:n,modifiers:l});const r=H(e,t,n,o);return()=>{W(\"SvelteDOMRemoveEventListener\",{node:e,event:t,handler:n,modifiers:l}),r()}}function Ko(e,t,n){F(e,t,n),n==null?W(\"SvelteDOMRemoveAttribute\",{node:e,attribute:t}):W(\"SvelteDOMSetAttribute\",{node:e,attribute:t,value:n})}function Qo(e,t,n){e[t]=n,W(\"SvelteDOMSetProperty\",{node:e,property:t,value:n})}function Zo(e,t,n){e.dataset[t]=n,W(\"SvelteDOMSetDataset\",{node:e,property:t,value:n})}function $o(e,t){t=\"\"+t,e.wholeText!==t&&(W(\"SvelteDOMSetData\",{node:e,data:t}),e.data=t)}function ei(e){if(typeof e!=\"string\"&&!(e&&typeof e==\"object\"&&\"length\"in e)){let t=\"{#each} only iterates over array-like objects.\";throw typeof Symbol==\"function\"&&e&&Symbol.iterator in e&&(t+=\" You can use a spread to convert this iterable into an array.\"),new Error(t)}}function ti(e,t,n){for(const o of Object.keys(t))~n.indexOf(o)||console.warn(`<${e}> received an unexpected slot \"${o}\".`)}class ni extends null{constructor(t){if(!t||!t.target&&!t.$$inline)throw new Error(\"'target' is a required option\");super()}$destroy(){super.$destroy(),this.$destroy=()=>{console.warn(\"Component was already destroyed\")}}$capture_state(){}$inject_state(){}}class oi extends null{constructor(t){super(t)}}function ii(e){const t=Date.now();return()=>{if(Date.now()-t>e)throw new Error(\"Infinite loop detected\")}}function li(e,t){return e.map((n,o)=>n+t[o])}function si(e,t){return t.map(n=>e*n)}function Ut(e,t,n){return e.map((o,i)=>(1-n)*o+n*t[i])}function lt(e,t=2){if(!(\"length\"in e))return Jt(e,t);for(var n=0,o=0;o<e.length;o++)n+=Math.pow(Math.abs(e[o]),t);return Math.pow(n,1/t)}function Jt(e,t=2){for(var n=0,o=0;o<e.shape[0];o++)n+=Math.pow(Math.abs(e.get(o)),t);return Math.pow(n,1/t)}function Ie(e,t=2){var n=lt(e,t);return e.map(o=>o/(1e-4+n))}function Xt(e){for(var t=[[1,0,0],[1,1,0],[0,1,0],[0,1,1],[0,0,1],[1,0,1]].map(l=>Ie(l,1));e<0;)e+=360;e=e%360;var n=360/t.length,o=Math.floor(e/n),i=(e-o*n)/n,s=Ut(t[o],t[(o+1)%t.length],i);return s=Ie(s,1),s}const Ve=[];function Gt(e){if(e in Ve)return Ve[e];let t=[];for(let n=0;n<e;n++){const o=360*n/e;t.push(Xt(o))}return Ve[e]=t,t}function st(e){return`rgb(${255*e[0]}, ${255*e[1]}, ${255*e[2]})`}function rt(e,t=[.98,.98,.98],n=void 0,o=void 0){const i=\"length\"in e?e.length:e.shape[0],s=\"length\"in e?g=>e[g]:g=>e.get(g);if(o==null&&(o=Gt(i)),console.log(\"Hues\",o),n==null){for(var l=[0,0,0],r=0;r<i;r++){const g=s(r);if(g!=0)for(var u=o[r],a=0;a<3;a++)l[a]+=g*u[a]}l=Ie(l,1);for(var d=lt(e,2),d=Math.max(0,Math.min(1,d)),a=0;a<3;a++)l[a]=d*l[a]+(1-d)*t[a];return l}else{for(var r=n,h=o[r],l=[0,0,0],a=0;a<3;a++)l[a]=s(r)*h[a]+(1-s(r))*t[a];return l}}function We(e,t=[.98,.98,.98],n=void 0,o=void 0){var i=rt(e,t,n,o);return st(i)}function Kt(e,t=[.98,.98,.98]){if(e>=0)for(var n=[0,.7,0],o=[0,0,0],i=0;i<3;i++)o[i]=e*n[i]+(1-e)*t[i];else for(var n=[1,0,0],o=[0,0,0],i=0;i<3;i++)o[i]=-e*n[i]+(1+e)*t[i];return console.log(\"Neuron color\",e,o),o}function ri(e,t=[.98,.98,.98]){var n=Kt(e,t);return st(n)}function Qt(){var e=z(\"style\");e.id=\"svelte-1vzuzhc-style\",e.textContent=\".container.svelte-1vzuzhc.svelte-1vzuzhc{position:relative;border:1px solid #aaa}.container.svelte-1vzuzhc>.svelte-1vzuzhc{position:absolute;width:100%;left:0px}.container.svelte-1vzuzhc canvas.svelte-1vzuzhc{top:0px;height:100%;image-rendering:pixelated}.container.svelte-1vzuzhc .focus-top.svelte-1vzuzhc,.container.svelte-1vzuzhc .focus-bottom.svelte-1vzuzhc{background:#aaa;opacity:0.3}.container.svelte-1vzuzhc .focus-top.svelte-1vzuzhc{top:0px}.container.svelte-1vzuzhc .focus-bottom.svelte-1vzuzhc{bottom:0px}\",S(document.head,e)}function ut(e){let t,n,o;return{c(){t=z(\"div\"),n=j(),o=z(\"div\"),F(t,\"class\",\"focus-top svelte-1vzuzhc\"),O(t,\"height\",e[2]*e[3]/e[0].shape[0]+\"px\"),F(o,\"class\",\"focus-bottom svelte-1vzuzhc\"),O(o,\"height\",e[2]*(1-(e[3]+1)/e[0].shape[0])+\"px\")},m(i,s){C(i,t,s),C(i,n,s),C(i,o,s)},p(i,s){s&13&&O(t,\"height\",i[2]*i[3]/i[0].shape[0]+\"px\"),s&13&&O(o,\"height\",i[2]*(1-(i[3]+1)/i[0].shape[0])+\"px\")},d(i){i&&M(t),i&&M(n),i&&M(o)}}}function Zt(e){let t,n,o,i=e[3]!=null&&ut(e);return{c(){t=z(\"div\"),n=z(\"canvas\"),o=j(),i&&i.c(),O(n,\"width\",e[1]+\"px\"),O(n,\"height\",e[2]+\"px\"),F(n,\"class\",\"svelte-1vzuzhc\"),F(t,\"class\",\"container svelte-1vzuzhc\"),O(t,\"width\",e[1]+\"px\"),O(t,\"height\",e[2]+\"px\")},m(s,l){C(s,t,l),S(t,n),e[8](n),S(t,o),i&&i.m(t,null)},p(s,[l]){l&2&&O(n,\"width\",s[1]+\"px\"),l&4&&O(n,\"height\",s[2]+\"px\"),s[3]!=null?i?i.p(s,l):(i=ut(s),i.c(),i.m(t,null)):i&&(i.d(1),i=null),l&2&&O(t,\"width\",s[1]+\"px\"),l&4&&O(t,\"height\",s[2]+\"px\")},i:L,o:L,d(s){s&&M(t),e[8](null),i&&i.d()}}}function $t(e,t,n){let{array:o}=t,{width:i}=t,{height:s}=t,{hues:l}=t,{focus_token:r}=t,{isolate_channel:u=void 0}=t,{color_map:a=rt}=t,d;function h(f,m,c,_=void 0,v=void 0){if(m<c)return[255,255,255];var y=f.pick(m,c,null),q=a(y,void 0,_,v);return q.map(T=>255*T)}function g(f,m,c=void 0,_=void 0){if(!(f==null||m==null)){f.width=m.shape[0],f.height=m.shape[1];for(var v=f.getContext(\"2d\"),y=v.getImageData(0,0,f.width,f.height),q=0;q<f.width;q++)for(var T=0;T<f.height;T++){for(var b=q*f.width+T,k=h(m,q,T,c,_=_),w=0;w<3;w++)y.data[4*b+w]=k[w];y.data[4*b+3]=255}v.putImageData(y,0,0)}}Lt(()=>g(d,o,u));function p(f){_e[f?\"unshift\":\"push\"](()=>{d=f,n(4,d)})}return e.$$set=f=>{\"array\"in f&&n(0,o=f.array),\"width\"in f&&n(1,i=f.width),\"height\"in f&&n(2,s=f.height),\"hues\"in f&&n(5,l=f.hues),\"focus_token\"in f&&n(3,r=f.focus_token),\"isolate_channel\"in f&&n(6,u=f.isolate_channel),\"color_map\"in f&&n(7,a=f.color_map)},e.$$.update=()=>{if(e.$$.dirty&113){e:g(d,o,u,l)}},[o,i,s,r,d,l,u,a,p]}class en extends Be{constructor(t){super(),document.getElementById(\"svelte-1vzuzhc-style\")||Qt(),Re(this,t,$t,Zt,ze,{array:0,width:1,height:2,hues:5,focus_token:3,isolate_channel:6,color_map:7})}}const Fe=en;function ct(e,t){return e.mode==\"soft\"&&(e.value=t),e}function tn(e,t){if(e.mode==\"soft\")e.value=t,e.mode=\"hard\";else if(e.mode==\"hard\"&&e.value!=t)e.value=t;else return nn(e);return e}function nn(e){return e.value=void 0,e.mode=\"soft\",e}function on(e){let t,n,o,i;const s=e[4].default,l=Et(s,e,e[3],null);return{c(){t=z(\"div\"),l&&l.c(),F(t,\"style\",e[2])},m(r,u){C(r,t,u),l&&l.m(t,null),n=!0,o||(i=[H(t,\"mouseover\",e[5]),H(t,\"click\",e[6]),H(t,\"mouseout\",e[7])],o=!0)},p(r,[u]){l&&l.p&&u&8&&St(l,s,r,r[3],u,null,null),(!n||u&4)&&F(t,\"style\",r[2])},i(r){n||(D(l,r),n=!0)},o(r){x(l,r),n=!1},d(r){r&&M(t),l&&l.d(r),o=!1,R(i)}}}function ln(e,t,n){let{$$slots:o={},$$scope:i}=t,{lock:s}=t,{set_value:l}=t,{style:r=\"\"}=t;const u=()=>{n(0,s=ct(s,l))},a=()=>{n(0,s=tn(s,l))},d=()=>{n(0,s=ct(s,void 0))};return e.$$set=h=>{\"lock\"in h&&n(0,s=h.lock),\"set_value\"in h&&n(1,l=h.set_value),\"style\"in h&&n(2,r=h.style),\"$$scope\"in h&&n(3,i=h.$$scope)},[s,l,r,i,o,u,a,d]}class sn extends Be{constructor(t){super(),Re(this,t,ln,on,ze,{lock:0,set_value:1,style:2})}}const at=sn;function rn(){var e=z(\"style\");e.id=\"svelte-xqk9oe-style\",e.textContent=\".attn-container.svelte-xqk9oe.svelte-xqk9oe.svelte-xqk9oe{display:grid;grid-template-rows:[title] min-content [main] min-content;grid-template-columns:[big-attn] min-content [heads] minmax(min-content, 624px);gap:12px}.figcaption.svelte-xqk9oe.svelte-xqk9oe.svelte-xqk9oe{color:#888;grid-row:title;white-space:nowrap}.tokens-container.svelte-xqk9oe.svelte-xqk9oe.svelte-xqk9oe{display:grid;grid-template-rows:[title] min-content [main] min-content;grid-template-columns:[left] min-content [right] minmax(min-content, 800px) [end];gap:12px;margin-top:24px;color:white}.tokens.svelte-xqk9oe.svelte-xqk9oe.svelte-xqk9oe{grid-row:main;grid-column-start:left;grid-column-end:end;cursor:pointer;height:min-content;line-height:110%}.tokens.svelte-xqk9oe .token.svelte-xqk9oe.svelte-xqk9oe{white-space:pre-wrap}.tokens.svelte-xqk9oe .selected.svelte-xqk9oe.svelte-xqk9oe{border:1px solid #999;z-index:10}.tokens.svelte-xqk9oe .token.svelte-xqk9oe.svelte-xqk9oe:not(.selected){z-index:0;padding:1px}.hover-mode.svelte-xqk9oe.svelte-xqk9oe.svelte-xqk9oe,.hover-mode-text.svelte-xqk9oe.svelte-xqk9oe.svelte-xqk9oe,.info-mode.svelte-xqk9oe.svelte-xqk9oe.svelte-xqk9oe,.info-mode-text.svelte-xqk9oe.svelte-xqk9oe.svelte-xqk9oe{color:#888;grid-row:title;grid-column:settings;cursor:pointer}.hover-mode-text.svelte-xqk9oe.svelte-xqk9oe.svelte-xqk9oe,.info-mode-text.svelte-xqk9oe.svelte-xqk9oe.svelte-xqk9oe{margin-right:8px}.heads.svelte-xqk9oe.svelte-xqk9oe.svelte-xqk9oe{grid-column:heads;grid-row:main;display:flex;flex-direction:row;flex-wrap:wrap;gap:6px;height:min-content}.heads.svelte-xqk9oe .head-icon.svelte-xqk9oe.svelte-xqk9oe{position:relative;width:62px;height:62px}.heads.svelte-xqk9oe .head-icon.svelte-xqk9oe>.svelte-xqk9oe{position:absolute;right:0px;top:0px}.heads.svelte-xqk9oe .head-icon .head-label.svelte-xqk9oe.svelte-xqk9oe{background:#333;color:#eee;font-size:65%;padding:1px;border-bottom-left-radius:2px;padding-left:4px;padding-right:2px;min-width:14px;opacity:0.75}\",S(document.head,e)}function ft(e,t,n){const o=e.slice();return o[32]=t[n],o[34]=n,o}function dt(e,t,n){const o=e.slice();return o[35]=t[n],o}function _t(e){let t,n=e[15][e[10]]+\"\",o,i;return{c(){t=N(\"(\"),o=N(n),i=N(\")\")},m(s,l){C(s,t,l),C(s,o,l),C(s,i,l)},p(s,l){l[0]&33792&&n!==(n=s[15][s[10]]+\"\")&&ve(o,n)},d(s){s&&M(t),s&&M(o),s&&M(i)}}}function ht(e){let t,n,o,i;return n=new Fe({props:{array:e[7],width:\"200\",height:\"200\",focus_token:e[9],isolate_channel:e[10]}}),{c(){t=z(\"div\"),ie(n.$$.fragment),F(t,\"style\",o=\"grid-column: big-attn; grid-row: main; \"+(e[11]?\"\":\"display:none;\"))},m(s,l){C(s,t,l),Q(n,t,null),i=!0},p(s,l){const r={};l[0]&128&&(r.array=s[7]),l[0]&512&&(r.focus_token=s[9]),l[0]&1024&&(r.isolate_channel=s[10]),n.$set(r),(!i||l[0]&2048&&o!==(o=\"grid-column: big-attn; grid-row: main; \"+(s[11]?\"\":\"display:none;\")))&&F(t,\"style\",o)},i(s){i||(D(n.$$.fragment,s),i=!0)},o(s){x(n.$$.fragment,s),i=!1},d(s){s&&M(t),J(n)}}}function gt(e){let t,n,o,i,s=le(e[12].shape[2]),l=[];for(let u=0;u<s.length;u+=1)l[u]=pt(dt(e,s,u));const r=u=>x(l[u],1,1,()=>{l[u]=null});return{c(){t=z(\"div\"),t.textContent=\"Attention Heads (hover to focus, click to lock)\",n=j(),o=z(\"div\");for(let u=0;u<l.length;u+=1)l[u].c();F(t,\"class\",\"figcaption svelte-xqk9oe\"),O(t,\"grid-column\",\"heads\"),F(o,\"class\",\"heads svelte-xqk9oe\")},m(u,a){C(u,t,a),C(u,n,a),C(u,o,a);for(let d=0;d<l.length;d+=1)l[d].m(o,null);i=!0},p(u,a){if(a[0]&122566){s=le(u[12].shape[2]);let d;for(d=0;d<s.length;d+=1){const h=dt(u,s,d);l[d]?(l[d].p(h,a),D(l[d],1)):(l[d]=pt(h),l[d].c(),D(l[d],1),l[d].m(o,null))}for(ne(),d=s.length;d<l.length;d+=1)r(d);oe()}},i(u){if(!i){for(let a=0;a<s.length;a+=1)D(l[a]);i=!0}},o(u){l=l.filter(Boolean);for(let a=0;a<l.length;a+=1)x(l[a]);i=!1},d(u){u&&M(t),u&&M(n),u&&M(o),et(l,u)}}}function un(e){let t,n,o,i,s=(e[15][e[35]]!=null?e[15][e[35]]:\"&nbsp\")+\"\",l,r,u,a,d,h,g=(e[15][e[35]]!=null?e[15][e[35]]:\"&nbsp\")+\"\",p,f,m;return n=new Fe({props:{array:e[7],width:\"60\",height:\"60\",isolate_channel:e[35]}}),a=new Fe({props:{array:e[6],width:\"60\",height:\"60\",isolate_channel:e[35]}}),{c(){t=z(\"div\"),ie(n.$$.fragment),o=j(),i=z(\"div\"),r=j(),u=z(\"div\"),ie(a.$$.fragment),d=j(),h=z(\"div\"),f=j(),F(i,\"class\",\"head-label svelte-xqk9oe\"),O(i,\"background\",e[14][e[35]]),F(t,\"class\",\"head-icon svelte-xqk9oe\"),F(t,\"style\",l=\"opacity: \"+(e[10]!=null&&e[10]!=e[35]?\"0.2\":e[16](e[35],e[9],e[2]))+`;\n",
              "                        `+(e[11]?\"\":\"display:none;\")),F(h,\"class\",\"head-label svelte-xqk9oe\"),O(h,\"background\",e[14][e[35]]),F(u,\"class\",\"head-icon svelte-xqk9oe\"),F(u,\"style\",p=\"opacity: \"+(e[10]!=null&&e[10]!=e[35]?\"0.2\":e[16](e[35],e[9],e[2]))+`;\n",
              "                        `+(e[11]?\"display:none;\":\"\"))},m(c,_){C(c,t,_),Q(n,t,null),S(t,o),S(t,i),i.innerHTML=s,C(c,r,_),C(c,u,_),Q(a,u,null),S(u,d),S(u,h),h.innerHTML=g,C(c,f,_),m=!0},p(c,_){const v={};_[0]&128&&(v.array=c[7]),_[0]&4096&&(v.isolate_channel=c[35]),n.$set(v),(!m||_[0]&36864)&&s!==(s=(c[15][c[35]]!=null?c[15][c[35]]:\"&nbsp\")+\"\")&&(i.innerHTML=s),(!m||_[0]&20480)&&O(i,\"background\",c[14][c[35]]),(!m||_[0]&7684&&l!==(l=\"opacity: \"+(c[10]!=null&&c[10]!=c[35]?\"0.2\":c[16](c[35],c[9],c[2]))+`;\n",
              "                        `+(c[11]?\"\":\"display:none;\")))&&F(t,\"style\",l);const y={};_[0]&64&&(y.array=c[6]),_[0]&4096&&(y.isolate_channel=c[35]),a.$set(y),(!m||_[0]&36864)&&g!==(g=(c[15][c[35]]!=null?c[15][c[35]]:\"&nbsp\")+\"\")&&(h.innerHTML=g),(!m||_[0]&20480)&&O(h,\"background\",c[14][c[35]]),(!m||_[0]&7684&&p!==(p=\"opacity: \"+(c[10]!=null&&c[10]!=c[35]?\"0.2\":c[16](c[35],c[9],c[2]))+`;\n",
              "                        `+(c[11]?\"display:none;\":\"\")))&&F(u,\"style\",p)},i(c){m||(D(n.$$.fragment,c),D(a.$$.fragment,c),m=!0)},o(c){x(n.$$.fragment,c),x(a.$$.fragment,c),m=!1},d(c){c&&M(t),J(n),c&&M(r),c&&M(u),J(a),c&&M(f)}}}function pt(e){let t,n,o;function i(l){e[22].call(null,l)}let s={set_value:e[35],$$slots:{default:[un]},$$scope:{ctx:e}};return e[1]!==void 0&&(s.lock=e[1]),t=new at({props:s}),_e.push(()=>it(t,\"lock\",i)),{c(){ie(t.$$.fragment)},m(l,r){Q(t,l,r),o=!0},p(l,r){const u={};r[0]&4096&&(u.set_value=l[35]),r[0]&57028|r[1]&128&&(u.$$scope={dirty:r,ctx:l}),!n&&r[0]&2&&(n=!0,u.lock=l[1],ot(()=>n=!1)),t.$set(u)},i(l){o||(D(t.$$.fragment,l),o=!0)},o(l){x(t.$$.fragment,l),o=!1},d(l){J(t,l)}}}function mt(e){let t,n,o,i,s,l,r,u,a,d,h,g,p=e[2]?\"target\":\"source\",f,m,c,_,v,y=e[5],q=[];for(let k=0;k<y.length;k+=1)q[k]=vt(ft(e,y,k));const T=k=>x(q[k],1,1,()=>{q[k]=null});let b=e[7]!==void 0&&kt(e);return{c(){t=z(\"div\"),n=z(\"div\"),n.textContent=\"Tokens (hover to focus, click to lock)\",o=j(),i=z(\"div\");for(let k=0;k<q.length;k+=1)q[k].c();s=j(),l=z(\"div\"),r=z(\"nobr\"),u=z(\"input\"),a=j(),d=z(\"span\"),h=N(`Selected is\n",
              "            `),g=z(\"b\"),f=N(p),m=j(),b&&b.c(),F(n,\"class\",\"figcaption svelte-xqk9oe\"),O(n,\"grid-column\",\"left\"),F(i,\"class\",\"tokens svelte-xqk9oe\"),F(u,\"class\",\"hover-mode svelte-xqk9oe\"),F(u,\"type\",\"checkbox\"),F(d,\"class\",\"hover-mode-text svelte-xqk9oe\"),O(d,\"white-space\",\"nowrap\"),F(l,\"class\",\"toggle\"),F(t,\"class\",\"tokens-container svelte-xqk9oe\")},m(k,w){C(k,t,w),S(t,n),S(t,o),S(t,i);for(let A=0;A<q.length;A+=1)q[A].m(i,null);S(t,s),S(t,l),S(l,r),S(r,u),u.checked=e[2],S(r,a),S(r,d),S(d,h),S(d,g),S(g,f),S(r,m),b&&b.m(r,null),c=!0,_||(v=[H(u,\"change\",e[24]),H(d,\"click\",e[25])],_=!0)},p(k,w){if(w[0]&561){y=k[5];let A;for(A=0;A<y.length;A+=1){const qe=ft(k,y,A);q[A]?(q[A].p(qe,w),D(q[A],1)):(q[A]=vt(qe),q[A].c(),D(q[A],1),q[A].m(i,null))}for(ne(),A=y.length;A<q.length;A+=1)T(A);oe()}w[0]&4&&(u.checked=k[2]),(!c||w[0]&4)&&p!==(p=k[2]?\"target\":\"source\")&&ve(f,p),k[7]!==void 0?b?b.p(k,w):(b=kt(k),b.c(),b.m(r,null)):b&&(b.d(1),b=null)},i(k){if(!c){for(let w=0;w<y.length;w+=1)D(q[w]);c=!0}},o(k){q=q.filter(Boolean);for(let w=0;w<q.length;w+=1)x(q[w]);c=!1},d(k){k&&M(t),et(q,k),b&&b.d(),_=!1,R(v)}}}function cn(e){let t,n=e[32]+\"\",o,i;return{c(){t=z(\"span\"),o=N(n),F(t,\"class\",i=\"token \"+(e[34]==e[9]?\"selected\":\"\")+\" svelte-xqk9oe\"),O(t,\"background\",e[4][e[34]])},m(s,l){C(s,t,l),S(t,o)},p(s,l){l[0]&32&&n!==(n=s[32]+\"\")&&ve(o,n),l[0]&512&&i!==(i=\"token \"+(s[34]==s[9]?\"selected\":\"\")+\" svelte-xqk9oe\")&&F(t,\"class\",i),l[0]&16&&O(t,\"background\",s[4][s[34]])},d(s){s&&M(t)}}}function vt(e){let t,n,o;function i(l){e[23].call(null,l)}let s={set_value:e[34],style:\"display: inline\",$$slots:{default:[cn]},$$scope:{ctx:e}};return e[0]!==void 0&&(s.lock=e[0]),t=new at({props:s}),_e.push(()=>it(t,\"lock\",i)),{c(){ie(t.$$.fragment)},m(l,r){Q(t,l,r),o=!0},p(l,r){const u={};r[0]&560|r[1]&128&&(u.$$scope={dirty:r,ctx:l}),!n&&r[0]&1&&(n=!0,u.lock=l[0],ot(()=>n=!1)),t.$set(u)},i(l){o||(D(t.$$.fragment,l),o=!0)},o(l){x(t.$$.fragment,l),o=!1},d(l){J(t,l)}}}function kt(e){let t,n,o,i,s,l=e[3]?\"info-weighted\":\"unmodified\",r,u,a;return{c(){t=z(\"input\"),n=j(),o=z(\"span\"),i=N(`Attention is\n",
              "            `),s=z(\"b\"),r=N(l),F(t,\"class\",\"info-mode svelte-xqk9oe\"),F(t,\"type\",\"checkbox\"),F(o,\"class\",\"info-mode-text svelte-xqk9oe\"),O(o,\"white-space\",\"nowrap\")},m(d,h){C(d,t,h),t.checked=e[3],C(d,n,h),C(d,o,h),S(o,i),S(o,s),S(s,r),u||(a=[H(t,\"change\",e[26]),H(o,\"click\",e[27])],u=!0)},p(d,h){h[0]&8&&(t.checked=d[3]),h[0]&8&&l!==(l=d[3]?\"info-weighted\":\"unmodified\")&&ve(r,l)},d(d){d&&M(t),d&&M(n),d&&M(o),u=!1,R(a)}}}function an(e){let t,n,o,i,s,l,r,u,a,d,h,g,p=e[10]!=null&&_t(e),f=e[7]!==void 0&&ht(e);r=new Fe({props:{array:e[6],width:\"200\",height:\"200\",focus_token:e[9],isolate_channel:e[10]}});let m=e[13]>1&&gt(e),c=e[8]&&mt(e);return{c(){t=z(\"div\"),n=z(\"div\"),o=N(`Attention Pattern\n",
              "        `),p&&p.c(),i=j(),f&&f.c(),s=j(),l=z(\"div\"),ie(r.$$.fragment),a=j(),m&&m.c(),d=j(),c&&c.c(),h=Ct(),F(n,\"class\",\"figcaption svelte-xqk9oe\"),O(n,\"grid-column\",\"big-attn\"),F(l,\"style\",u=\"grid-column: big-attn; grid-row: main; \"+(e[11]?\"display:none\":\"\")),F(t,\"class\",\"attn-container svelte-xqk9oe\")},m(_,v){C(_,t,v),S(t,n),S(n,o),p&&p.m(n,null),S(t,i),f&&f.m(t,null),S(t,s),S(t,l),Q(r,l,null),S(t,a),m&&m.m(t,null),C(_,d,v),c&&c.m(_,v),C(_,h,v),g=!0},p(_,v){_[10]!=null?p?p.p(_,v):(p=_t(_),p.c(),p.m(n,null)):p&&(p.d(1),p=null),_[7]!==void 0?f?(f.p(_,v),v[0]&128&&D(f,1)):(f=ht(_),f.c(),D(f,1),f.m(t,s)):f&&(ne(),x(f,1,1,()=>{f=null}),oe());const y={};v[0]&64&&(y.array=_[6]),v[0]&512&&(y.focus_token=_[9]),v[0]&1024&&(y.isolate_channel=_[10]),r.$set(y),(!g||v[0]&2048&&u!==(u=\"grid-column: big-attn; grid-row: main; \"+(_[11]?\"display:none\":\"\")))&&F(l,\"style\",u),_[13]>1?m?(m.p(_,v),v[0]&8192&&D(m,1)):(m=gt(_),m.c(),D(m,1),m.m(t,null)):m&&(ne(),x(m,1,1,()=>{m=null}),oe()),_[8]?c?(c.p(_,v),v[0]&256&&D(c,1)):(c=mt(_),c.c(),D(c,1),c.m(h.parentNode,h)):c&&(ne(),x(c,1,1,()=>{c=null}),oe())},i(_){g||(D(f),D(r.$$.fragment,_),D(m),D(c),g=!0)},o(_){x(f),x(r.$$.fragment,_),x(m),x(c),g=!1},d(_){_&&M(t),p&&p.d(),f&&f.d(),J(r),m&&m.d(),_&&M(d),c&&c.d(_),_&&M(h)}}}function le(e){return[...Array(e).keys()]}function bt(e){if(e!==void 0){for(var t=[],n=0;n<e.shape[0];n++){t.push([]);for(var o=0;o<e.shape[2];o++){for(var i=0,s=0;s<e.shape[1];s++)i=Math.max(i,e.pick(n,s,o));t[n].push(i)}}return t}}function yt(e){if(e!==void 0){for(var t=[],n=0;n<e.shape[0];n++){t.push([]);for(var o=0;o<e.shape[2];o++){for(var i=0,s=0;s<e.shape[1];s++)i=Math.max(i,e.pick(s,n,o));t[n].push(i)}}return t}}function fn(e,t,n){let o,i,s,l,r,u,a,d,h,g,p,f,m,{tokens:c}=t,{attention:_}=t,{info_weighted:v}=t,{head_labels:y}=t,{show_tokens:q=!0}=t,{focus_token_lock:T={value:void 0,mode:\"soft\"}}=t,{focus_head_lock:b={value:void 0,mode:\"soft\"}}=t,{hover_token_is_target:k=!1}=t,{_show_info_weighted:w=!1}=t;function A(E,Y,X,Z=void 0){if(Y<X)return\"#FFF\";var se=E.pick(Y,X,null);return We(se,void 0,Z)}function qe(E,Y,X){if(Y==null)var Z=1;else var se=X?g:h,Z=Math.max(0,Math.min(1,se[Y][E]));return\"\"+Z}function hn(E,Y,X,Z=void 0,se){if(Y==null){var yn=se?g:h;return We(yn[X],void 0,Z)}let Ue,Je;se?(Ue=X,Je=Y):(Ue=Y,Je=X);let Xe=A(E,Ue,Je,Z);return Xe===\"#FFF\"&&(Xe=\"#DDD\"),Xe}let{all_token_colors:Ye}=t;function gn(E){b=E,n(1,b)}function pn(E){T=E,n(0,T)}function mn(){k=this.checked,n(2,k)}const vn=()=>n(2,k=k^!0);function kn(){w=this.checked,n(3,w)}const bn=()=>n(3,w=w^!0);return e.$$set=E=>{\"tokens\"in E&&n(5,c=E.tokens),\"attention\"in E&&n(6,_=E.attention),\"info_weighted\"in E&&n(7,v=E.info_weighted),\"head_labels\"in E&&n(17,y=E.head_labels),\"show_tokens\"in E&&n(8,q=E.show_tokens),\"focus_token_lock\"in E&&n(0,T=E.focus_token_lock),\"focus_head_lock\"in E&&n(1,b=E.focus_head_lock),\"hover_token_is_target\"in E&&n(2,k=E.hover_token_is_target),\"_show_info_weighted\"in E&&n(3,w=E._show_info_weighted),\"all_token_colors\"in E&&n(4,Ye=E.all_token_colors)},e.$$.update=()=>{if(e.$$.dirty[0]&1){e:n(9,o=T.value)}if(e.$$.dirty[0]&2){e:n(10,i=b.value)}if(e.$$.dirty[0]&136){e:n(11,s=w&&v!==void 0)}if(e.$$.dirty[0]&2240){e:n(12,l=s?v:_)}if(e.$$.dirty[0]&4096){e:window.attention_show=l}if(e.$$.dirty[0]&64){e:n(18,r=bt(_))}if(e.$$.dirty[0]&64){e:n(19,u=yt(_))}if(e.$$.dirty[0]&128){e:n(20,a=bt(v))}if(e.$$.dirty[0]&128){e:n(21,d=yt(v))}if(e.$$.dirty[0]&1312768){e:h=s?a:r}if(e.$$.dirty[0]&2623488){e:g=s?d:u}if(e.$$.dirty[0]&64){e:n(13,p=_.shape[2])}if(e.$$.dirty[0]&8192){e:n(14,f=le(p).map(E=>We(le(p).map(Y=>1),void 0,E)))}if(e.$$.dirty[0]&139264){e:n(15,m=y!=null?y:le(p))}if(e.$$.dirty[0]&5668){e:n(4,Ye=le(c.length).map(E=>hn(l,o,E,i,k)))}},[T,b,k,w,Ye,c,_,v,q,o,i,s,l,p,f,m,qe,y,r,u,a,d,gn,pn,mn,vn,kn,bn]}class dn extends Be{constructor(t){super(),document.getElementById(\"svelte-xqk9oe-style\")||rn(),Re(this,t,fn,an,ze,{tokens:5,attention:6,info_weighted:7,head_labels:17,show_tokens:8,focus_token_lock:0,focus_head_lock:1,hover_token_is_target:2,_show_info_weighted:3,all_token_colors:4},[-1,-1])}}const _n=dn}},Ee={};function $(B){if(Ee[B])return Ee[B].exports;var P=Ee[B]={exports:{}};return wt[B](P,P.exports,$),P.exports}return $.d=(B,P)=>{for(var ee in P)$.o(P,ee)&&!$.o(B,ee)&&Object.defineProperty(B,ee,{enumerable:!0,get:P[ee]})},$.o=(B,P)=>Object.prototype.hasOwnProperty.call(B,P),$(143)})().default;\n",
              "</script>\n",
              "        \n",
              "        <div id=\"AttentionMulti_37d76c3\"></div>\n",
              "        <script>\n",
              "        ( () => {\n",
              "            var data = {\n",
              "\"tokens\": [\n",
              "\"66\",\n",
              "\"36\",\n",
              "\"18\",\n",
              "\"86\",\n",
              "\"48\",\n",
              "\"19\",\n",
              "\"24\",\n",
              "\"76\",\n",
              "\"17\",\n",
              "\"64\",\n",
              "\"19\",\n",
              "\"86\",\n",
              "\"48\",\n",
              "\"24\",\n",
              "\"18\",\n",
              "\"17\",\n",
              "\"76\",\n",
              "\"36\",\n",
              "\"66\"\n",
              "],\n",
              "\"attention\": {\n",
              "\"__type__\": \"npy\",\n",
              "\"zdata\": \"eJzNlvtPHFUUx793ZvbBMLPL0q3AFmHLpuwCC+Wd0IKYiBQblxAi2xBNgNJVESJkaSVKQFtUIBoaA1qsKYQa0wQUoVFTax8GESgxW2wTjKYq2vpIowUMNWqXXc9Q9h8wGfCcTM6995f55Dvne8/0lla4yioZnkGr/YCnudZr32W15x/KtDut9scbvQe9NU9XNXoPeJTz4pqGZg+dNz9Z0+ShvSMjz2lVnuwkp7XN+l9CDATvJv5n0RpcTBsuPNVyBMYvH/l0X9dm84TCiM+EB3TVfEPwcvJM0tgTHWiY+8N3q2+zuXIg8xa+R1hBi2nZ0BnVGdhXnFTsq3Jh+zuXTlle3CwuLRJRgh0oYEvsDS5euBffye0RFrFtdT5m2VbvjmdZ82MzWW9tPJkeMu6hWgwX2qDlr3I7+V4Nj1JNkbZLKPePOtJTyt1DWPAFZ/0DG8fFKHmqETAhm+pxvAcfbCyTdbM3BS0OykPy0fCsgDVtNnW2ehCvTJRMCD0bx6cQKiHBTG4AopGEWPyIeK6Uy+cNEPRbxSX9ycBwxt7URyvrEDZpmio5rj5RSLcwIote44pDITjMQsuy2S9sRYjTrIYnwy2LW8qNQ6sXHRdyMqtLIEzeGPvtiLp8WOdTgltLkGrJSKAu/AFXKN+FLPj5KsGBOMkrfxA+55/cOb7jV3cZF7xwbVrsV58P63Q6ygha7aLuK4AbIziLeHY/ZrgV7pqQAE34Vf1t/W3/cFp06kCFi+ufsE9ZN8C/AqWioRmR2Eb7auwnxhiksArmZjb8zD/E+zR2vGq4bJoUncHRPCn9p0P1yD0tfvx1i/p8yldV+ETqPwMU/fYglVaHKUfIy6X8AO8VZJjk8/KENB582BGTGJUfh+6p8elL4+pxsTU2QEPu0KzpZ0AK7V2wo5y03M+u4212BX2aSCEtTIIu4inp8zBn4M+MG+m1Nd9j6KPnz7d3q8cXCoH4uDX9dORhEFsR+Rcws0Us4A4fy7/OpQnACcNrco70+52yxLaEgdItaJ+yfDE3qB6Xop9yr2iIjl5PMyOCZhrQhL04R/VbLGMQTtbK5/MmkaFeXJDeF88FGpPOZlrqIlEwPf/JsRfU4wvF3f5T5priYIFmbgzdMMCHGMJRbOPyuOusi+dQG2YUO/QnVnNj/4nOLboPD37l+ubvUfW42PojrOsn0j+BjtYFcOBZ2o/QhOvAkraCv8Wd1nEwGx8TD+ua/rLtfi5vd10/WsYbzrz0srp8QKj/gK3kD4lOi+j+20PVwKLZCG5yIn+MuymI6IxaMi9Khf7+lBV7X+U0PGdsF3t6/wXhXQ3l\",\n",
              "\"min\": 0.0,\n",
              "\"max\": 1.0\n",
              "}\n",
              "};\n",
              "            data = loader.unpack_obj(data);\n",
              "            window.AttentionMulti_data = data;\n",
              "            var AttentionMulti_inst = new AttentionMulti({\n",
              "                \"target\": document.getElementById(\"AttentionMulti_37d76c3\"),\n",
              "                \"props\": data\n",
              "                });\n",
              "        })();\n",
              "        </script>\n",
              "        \n",
              "        "
            ],
            "text/plain": [
              "<pysvelte.html.Html at 0x7fe8d4d41ee0>"
            ]
          },
          "metadata": {},
          "output_type": "display_data"
        },
        {
          "data": {
            "image/png": "[encoded data removed]",
            "text/plain": [
              "<Figure size 640x480 with 1 Axes>"
            ]
          },
          "metadata": {},
          "output_type": "display_data"
        },
        {
          "data": {
            "text/html": [
              "\n",
              "        <script>var loader;loader=(()=>{var Ze={907:k=>{\"use strict\";function I(E){for(var T=new Array(E),n=0;n<E;++n)T[n]=n;return T}k.exports=I},738:k=>{/*!\n",
              " * Determine if an object is a Buffer\n",
              " *\n",
              " * @author   Feross Aboukhadijeh <https://feross.org>\n",
              " * @license  MIT\n",
              " */k.exports=function(T){return T!=null&&(I(T)||E(T)||!!T._isBuffer)};function I(T){return!!T.constructor&&typeof T.constructor.isBuffer==\"function\"&&T.constructor.isBuffer(T)}function E(T){return typeof T.readFloatLE==\"function\"&&typeof T.slice==\"function\"&&I(T.slice(0,0))}},861:(k,I,E)=>{var T=E(907),n=E(738),g=typeof Float64Array!=\"undefined\";function s(l,h){return l[0]-h[0]}function m(){var l=this.stride,h=new Array(l.length),c;for(c=0;c<h.length;++c)h[c]=[Math.abs(l[c]),c];h.sort(s);var N=new Array(h.length);for(c=0;c<N.length;++c)N[c]=h[c][1];return N}function _(l,h){var c=[\"View\",h,\"d\",l].join(\"\");h<0&&(c=\"View_Nil\"+l);var N=l===\"generic\";if(h===-1){var f=\"function \"+c+\"(a){this.data=a;};var proto=\"+c+\".prototype;proto.dtype='\"+l+\"';proto.index=function(){return -1};proto.size=0;proto.dimension=-1;proto.shape=proto.stride=proto.order=[];proto.lo=proto.hi=proto.transpose=proto.step=function(){return new \"+c+\"(this.data);};proto.get=proto.set=function(){};proto.pick=function(){return null};return function construct_\"+c+\"(a){return new \"+c+\"(a);}\",O=new Function(f);return O()}else if(h===0){var f=\"function \"+c+\"(a,d) {this.data = a;this.offset = d};var proto=\"+c+\".prototype;proto.dtype='\"+l+\"';proto.index=function(){return this.offset};proto.dimension=0;proto.size=1;proto.shape=proto.stride=proto.order=[];proto.lo=proto.hi=proto.transpose=proto.step=function \"+c+\"_copy() {return new \"+c+\"(this.data,this.offset)};proto.pick=function \"+c+\"_pick(){return TrivialArray(this.data);};proto.valueOf=proto.get=function \"+c+\"_get(){return \"+(N?\"this.data.get(this.offset)\":\"this.data[this.offset]\")+\"};proto.set=function \"+c+\"_set(v){return \"+(N?\"this.data.set(this.offset,v)\":\"this.data[this.offset]=v\")+\"};return function construct_\"+c+\"(a,b,c,d){return new \"+c+\"(a,d)}\",O=new Function(\"TrivialArray\",f);return O(u[l][0])}var f=[\"'use strict'\"],d=T(h),M=d.map(function(p){return\"i\"+p}),L=\"this.offset+\"+d.map(function(p){return\"this.stride[\"+p+\"]*i\"+p}).join(\"+\"),j=d.map(function(p){return\"b\"+p}).join(\",\"),D=d.map(function(p){return\"c\"+p}).join(\",\");f.push(\"function \"+c+\"(a,\"+j+\",\"+D+\",d){this.data=a\",\"this.shape=[\"+j+\"]\",\"this.stride=[\"+D+\"]\",\"this.offset=d|0}\",\"var proto=\"+c+\".prototype\",\"proto.dtype='\"+l+\"'\",\"proto.dimension=\"+h),f.push(\"Object.defineProperty(proto,'size',{get:function \"+c+\"_size(){return \"+d.map(function(p){return\"this.shape[\"+p+\"]\"}).join(\"*\"),\"}})\"),h===1?f.push(\"proto.order=[0]\"):(f.push(\"Object.defineProperty(proto,'order',{get:\"),h<4?(f.push(\"function \"+c+\"_order(){\"),h===2?f.push(\"return (Math.abs(this.stride[0])>Math.abs(this.stride[1]))?[1,0]:[0,1]}})\"):h===3&&f.push(\"var s0=Math.abs(this.stride[0]),s1=Math.abs(this.stride[1]),s2=Math.abs(this.stride[2]);if(s0>s1){if(s1>s2){return [2,1,0];}else if(s0>s2){return [1,2,0];}else{return [1,0,2];}}else if(s0>s2){return [2,0,1];}else if(s2>s1){return [0,1,2];}else{return [0,2,1];}}})\")):f.push(\"ORDER})\")),f.push(\"proto.set=function \"+c+\"_set(\"+M.join(\",\")+\",v){\"),N?f.push(\"return this.data.set(\"+L+\",v)}\"):f.push(\"return this.data[\"+L+\"]=v}\"),f.push(\"proto.get=function \"+c+\"_get(\"+M.join(\",\")+\"){\"),N?f.push(\"return this.data.get(\"+L+\")}\"):f.push(\"return this.data[\"+L+\"]}\"),f.push(\"proto.index=function \"+c+\"_index(\",M.join(),\"){return \"+L+\"}\"),f.push(\"proto.hi=function \"+c+\"_hi(\"+M.join(\",\")+\"){return new \"+c+\"(this.data,\"+d.map(function(p){return[\"(typeof i\",p,\"!=='number'||i\",p,\"<0)?this.shape[\",p,\"]:i\",p,\"|0\"].join(\"\")}).join(\",\")+\",\"+d.map(function(p){return\"this.stride[\"+p+\"]\"}).join(\",\")+\",this.offset)}\");var A=d.map(function(p){return\"a\"+p+\"=this.shape[\"+p+\"]\"}),o=d.map(function(p){return\"c\"+p+\"=this.stride[\"+p+\"]\"});f.push(\"proto.lo=function \"+c+\"_lo(\"+M.join(\",\")+\"){var b=this.offset,d=0,\"+A.join(\",\")+\",\"+o.join(\",\"));for(var i=0;i<h;++i)f.push(\"if(typeof i\"+i+\"==='number'&&i\"+i+\">=0){d=i\"+i+\"|0;b+=c\"+i+\"*d;a\"+i+\"-=d}\");f.push(\"return new \"+c+\"(this.data,\"+d.map(function(p){return\"a\"+p}).join(\",\")+\",\"+d.map(function(p){return\"c\"+p}).join(\",\")+\",b)}\"),f.push(\"proto.step=function \"+c+\"_step(\"+M.join(\",\")+\"){var \"+d.map(function(p){return\"a\"+p+\"=this.shape[\"+p+\"]\"}).join(\",\")+\",\"+d.map(function(p){return\"b\"+p+\"=this.stride[\"+p+\"]\"}).join(\",\")+\",c=this.offset,d=0,ceil=Math.ceil\");for(var i=0;i<h;++i)f.push(\"if(typeof i\"+i+\"==='number'){d=i\"+i+\"|0;if(d<0){c+=b\"+i+\"*(a\"+i+\"-1);a\"+i+\"=ceil(-a\"+i+\"/d)}else{a\"+i+\"=ceil(a\"+i+\"/d)}b\"+i+\"*=d}\");f.push(\"return new \"+c+\"(this.data,\"+d.map(function(p){return\"a\"+p}).join(\",\")+\",\"+d.map(function(p){return\"b\"+p}).join(\",\")+\",c)}\");for(var Z=new Array(h),R=new Array(h),i=0;i<h;++i)Z[i]=\"a[i\"+i+\"]\",R[i]=\"b[i\"+i+\"]\";f.push(\"proto.transpose=function \"+c+\"_transpose(\"+M+\"){\"+M.map(function(p,U){return p+\"=(\"+p+\"===undefined?\"+U+\":\"+p+\"|0)\"}).join(\";\"),\"var a=this.shape,b=this.stride;return new \"+c+\"(this.data,\"+Z.join(\",\")+\",\"+R.join(\",\")+\",this.offset)}\"),f.push(\"proto.pick=function \"+c+\"_pick(\"+M+\"){var a=[],b=[],c=this.offset\");for(var i=0;i<h;++i)f.push(\"if(typeof i\"+i+\"==='number'&&i\"+i+\">=0){c=(c+this.stride[\"+i+\"]*i\"+i+\")|0}else{a.push(this.shape[\"+i+\"]);b.push(this.stride[\"+i+\"])}\");f.push(\"var ctor=CTOR_LIST[a.length+1];return ctor(this.data,a,b,c)}\"),f.push(\"return function construct_\"+c+\"(data,shape,stride,offset){return new \"+c+\"(data,\"+d.map(function(p){return\"shape[\"+p+\"]\"}).join(\",\")+\",\"+d.map(function(p){return\"stride[\"+p+\"]\"}).join(\",\")+\",offset)}\");var O=new Function(\"CTOR_LIST\",\"ORDER\",f.join(`\n",
              "`));return O(u[l],m)}function C(l){if(n(l))return\"buffer\";if(g)switch(Object.prototype.toString.call(l)){case\"[object Float64Array]\":return\"float64\";case\"[object Float32Array]\":return\"float32\";case\"[object Int8Array]\":return\"int8\";case\"[object Int16Array]\":return\"int16\";case\"[object Int32Array]\":return\"int32\";case\"[object Uint8Array]\":return\"uint8\";case\"[object Uint16Array]\":return\"uint16\";case\"[object Uint32Array]\":return\"uint32\";case\"[object Uint8ClampedArray]\":return\"uint8_clamped\";case\"[object BigInt64Array]\":return\"bigint64\";case\"[object BigUint64Array]\":return\"biguint64\"}return Array.isArray(l)?\"array\":\"generic\"}var u={float32:[],float64:[],int8:[],int16:[],int32:[],uint8:[],uint16:[],uint32:[],array:[],uint8_clamped:[],bigint64:[],biguint64:[],buffer:[],generic:[]};function v(l,h,c,N){if(l===void 0){var D=u.array[0];return D([])}else typeof l==\"number\"&&(l=[l]);h===void 0&&(h=[l.length]);var f=h.length;if(c===void 0){c=new Array(f);for(var d=f-1,M=1;d>=0;--d)c[d]=M,M*=h[d]}if(N===void 0){N=0;for(var d=0;d<f;++d)c[d]<0&&(N-=(h[d]-1)*c[d])}for(var L=C(l),j=u[L];j.length<=f+1;)j.push(_(L,j.length-1));var D=j[f+1];return D(l,h,c,N)}k.exports=v},829:(k,I)=>{\"use strict\";var E;E={value:!0},I.g=m;function T(u,v){if(!(u instanceof v))throw new TypeError(\"Cannot call a class as a function\")}function n(u,v){for(var l,h=0;h<v.length;h++)l=v[h],l.enumerable=l.enumerable||!1,l.configurable=!0,\"value\"in l&&(l.writable=!0),Object.defineProperty(u,l.key,l)}function g(u,v,l){return v&&n(u.prototype,v),l&&n(u,l),u}var s=function(){function u(v){T(this,u),v instanceof DataView?this.dataView=v:v instanceof ArrayBuffer&&(this.dataView=new DataView(v)),this.offset=0}return g(u,[{key:\"readBytes\",value:function(l){var h=new DataView(this.dataView.buffer,this.offset,l);return this.offset+=l,h}},{key:\"readAndASCIIDecodeBytes\",value:function(l){var h=new Uint8Array(this.dataView.buffer,this.offset,l);return this.offset+=l,this._decodeASCIIByteArray(h)}},{key:\"readUint8\",value:function(){var l=0<arguments.length&&arguments[0]!==void 0&&arguments[0],h=this.dataView.getUint8(this.offset,l);return this.offset+=Uint8Array.BYTES_PER_ELEMENT,h}},{key:\"readUint16\",value:function(){var l=0<arguments.length&&arguments[0]!==void 0&&arguments[0],h=this.dataView.getUint16(this.offset,l);return this.offset+=Uint16Array.BYTES_PER_ELEMENT,h}},{key:\"readUint32\",value:function(){var l=0<arguments.length&&arguments[0]!==void 0&&arguments[0],h=this.dataView.getUint32(this.offset,l);return this.offset+=Uint32Array.BYTES_PER_ELEMENT,h}},{key:\"_decodeASCIIByteArray\",value:function(l){var h=String.fromCharCode,c=[],N=!0,f=!1,d=void 0;try{for(var M,L=l[Symbol.iterator]();!(N=(M=L.next()).done);N=!0){var j=M.value,D=h(j);c.push(D)}}catch(A){f=!0,d=A}finally{try{N||L.return==null||L.return()}finally{if(f)throw d}}return c.join(\"\")}}]),u}();function m(u){if(!u instanceof ArrayBuffer)throw new Error(\"Argument must be an ArrayBuffer.\");var v=new s(u),l=v.readUint8(),h=v.readAndASCIIDecodeBytes(5);if(l!=147||h!=\"NUMPY\")throw new Error('unknown file type: \"'.concat(l).concat(h,'\"'));var c,N=v.readUint8(),f=v.readUint8();c=1>=N?v.readUint16(!0):v.readUint32(!0);var d=10+c;d%16!=0&&console.warn(\"NPY file header is incorrectly padded. (\".concat(d,\" is not evenly divisible by 16.)\"));var M=v.readAndASCIIDecodeBytes(c),L=_(M);if(L.fortran_order)throw new Error(\"NPY file is written in Fortran byte order, support for this byte order is not yet implemented.\");var j=C(L.descr),D=new j(u,v.offset);return{data:D,shape:L.shape}}function _(u){var v=u.toLowerCase().replace(\"(\",\"[\").replace(\"),\",\"]\").replace(\"[,\",\"[1,]\").replace(\",]\",\",1]\").replace(/'/g,'\"');return JSON.parse(v)}function C(u){switch(u){case\"|u1\":return Uint8Array;case\"<u2\":return Uint16Array;case\"<u4\":return Uint32Array;case\"<u8\":throw new Error(\"Because JavaScript doesn't currently include standard support for 64-bit unsigned integer values, support for this dtype is not yet implemented.\");case\"|i1\":return Int8Array;case\"<i2\":return Int16Array;case\"<i4\":return Int32Array;case\"<i8\":throw new Error(\"Because JavaScript doesn't currently include standard support for 64-bit integer values, support for this dtype is not yet implemented.\");case\"<f2\":throw new Error(\"Because JavaScript doesn't currently include standard support for 16-bit floating point values, support for this dtype is not yet implemented.\");case\"<f4\":return Float32Array;case\"<f8\":return Float64Array;default:throw new Error(\"Unknown or not yet implemented numpy dtype description: \"+dtype)}}},843:(k,I,E)=>{\"use strict\";var T;const n=E(948),g=E(236),s=E(373),m=E(898),_=E(292),C=E(401),u=Object.prototype.toString,{Z_NO_FLUSH:v,Z_FINISH:l,Z_OK:h,Z_STREAM_END:c,Z_NEED_DICT:N,Z_STREAM_ERROR:f,Z_DATA_ERROR:d,Z_MEM_ERROR:M}=E(619);function L(A){this.options=g.assign({chunkSize:65536,windowBits:15,to:\"\"},A||{});const o=this.options;o.raw&&o.windowBits>=0&&o.windowBits<16&&(o.windowBits=-o.windowBits,o.windowBits===0&&(o.windowBits=-15)),o.windowBits>=0&&o.windowBits<16&&!(A&&A.windowBits)&&(o.windowBits+=32),o.windowBits>15&&o.windowBits<48&&(o.windowBits&15)===0&&(o.windowBits|=15),this.err=0,this.msg=\"\",this.ended=!1,this.chunks=[],this.strm=new _,this.strm.avail_out=0;let i=n.inflateInit2(this.strm,o.windowBits);if(i!==h)throw new Error(m[i]);if(this.header=new C,n.inflateGetHeader(this.strm,this.header),o.dictionary&&(typeof o.dictionary==\"string\"?o.dictionary=s.string2buf(o.dictionary):u.call(o.dictionary)===\"[object ArrayBuffer]\"&&(o.dictionary=new Uint8Array(o.dictionary)),o.raw&&(i=n.inflateSetDictionary(this.strm,o.dictionary),i!==h)))throw new Error(m[i])}L.prototype.push=function(A,o){const i=this.strm,Z=this.options.chunkSize,R=this.options.dictionary;let O,p,U;if(this.ended)return!1;for(o===~~o?p=o:p=o===!0?l:v,u.call(A)===\"[object ArrayBuffer]\"?i.input=new Uint8Array(A):i.input=A,i.next_in=0,i.avail_in=i.input.length;;){for(i.avail_out===0&&(i.output=new Uint8Array(Z),i.next_out=0,i.avail_out=Z),O=n.inflate(i,p),O===N&&R&&(O=n.inflateSetDictionary(i,R),O===h?O=n.inflate(i,p):O===d&&(O=N));i.avail_in>0&&O===c&&i.state.wrap>0&&A[i.next_in]!==0;)n.inflateReset(i),O=n.inflate(i,p);switch(O){case f:case d:case N:case M:return this.onEnd(O),this.ended=!0,!1}if(U=i.avail_out,i.next_out&&(i.avail_out===0||O===c))if(this.options.to===\"string\"){let B=s.utf8border(i.output,i.next_out),K=i.next_out-B,V=s.buf2string(i.output,B);i.next_out=K,i.avail_out=Z-K,K&&i.output.set(i.output.subarray(B,B+K),0),this.onData(V)}else this.onData(i.output.length===i.next_out?i.output:i.output.subarray(0,i.next_out));if(!(O===h&&U===0)){if(O===c)return O=n.inflateEnd(this.strm),this.onEnd(O),this.ended=!0,!0;if(i.avail_in===0)break}}return!0},L.prototype.onData=function(A){this.chunks.push(A)},L.prototype.onEnd=function(A){A===h&&(this.options.to===\"string\"?this.result=this.chunks.join(\"\"):this.result=g.flattenChunks(this.chunks)),this.chunks=[],this.err=A,this.msg=this.strm.msg};function j(A,o){const i=new L(o);if(i.push(A),i.err)throw i.msg||m[i.err];return i.result}function D(A,o){return o=o||{},o.raw=!0,j(A,o)}T=L,k.exports.rr=j,T=D,T=j,E(619)},236:k=>{\"use strict\";const I=(E,T)=>Object.prototype.hasOwnProperty.call(E,T);k.exports.assign=function(E){const T=Array.prototype.slice.call(arguments,1);for(;T.length;){const n=T.shift();if(!!n){if(typeof n!=\"object\")throw new TypeError(n+\"must be non-object\");for(const g in n)I(n,g)&&(E[g]=n[g])}}return E},k.exports.flattenChunks=E=>{let T=0;for(let g=0,s=E.length;g<s;g++)T+=E[g].length;const n=new Uint8Array(T);for(let g=0,s=0,m=E.length;g<m;g++){let _=E[g];n.set(_,s),s+=_.length}return n}},373:k=>{\"use strict\";let I=!0;try{String.fromCharCode.apply(null,new Uint8Array(1))}catch(n){I=!1}const E=new Uint8Array(256);for(let n=0;n<256;n++)E[n]=n>=252?6:n>=248?5:n>=240?4:n>=224?3:n>=192?2:1;E[254]=E[254]=1,k.exports.string2buf=n=>{let g,s,m,_,C,u=n.length,v=0;for(_=0;_<u;_++)s=n.charCodeAt(_),(s&64512)===55296&&_+1<u&&(m=n.charCodeAt(_+1),(m&64512)===56320&&(s=65536+(s-55296<<10)+(m-56320),_++)),v+=s<128?1:s<2048?2:s<65536?3:4;for(g=new Uint8Array(v),C=0,_=0;C<v;_++)s=n.charCodeAt(_),(s&64512)===55296&&_+1<u&&(m=n.charCodeAt(_+1),(m&64512)===56320&&(s=65536+(s-55296<<10)+(m-56320),_++)),s<128?g[C++]=s:s<2048?(g[C++]=192|s>>>6,g[C++]=128|s&63):s<65536?(g[C++]=224|s>>>12,g[C++]=128|s>>>6&63,g[C++]=128|s&63):(g[C++]=240|s>>>18,g[C++]=128|s>>>12&63,g[C++]=128|s>>>6&63,g[C++]=128|s&63);return g};const T=(n,g)=>{if(g<65534&&n.subarray&&I)return String.fromCharCode.apply(null,n.length===g?n:n.subarray(0,g));let s=\"\";for(let m=0;m<g;m++)s+=String.fromCharCode(n[m]);return s};k.exports.buf2string=(n,g)=>{let s,m;const _=g||n.length,C=new Array(_*2);for(m=0,s=0;s<_;){let u=n[s++];if(u<128){C[m++]=u;continue}let v=E[u];if(v>4){C[m++]=65533,s+=v-1;continue}for(u&=v===2?31:v===3?15:7;v>1&&s<_;)u=u<<6|n[s++]&63,v--;if(v>1){C[m++]=65533;continue}u<65536?C[m++]=u:(u-=65536,C[m++]=55296|u>>10&1023,C[m++]=56320|u&1023)}return T(C,m)},k.exports.utf8border=(n,g)=>{g=g||n.length,g>n.length&&(g=n.length);let s=g-1;for(;s>=0&&(n[s]&192)===128;)s--;return s<0||s===0?g:s+E[n[s]]>g?s:g}},69:k=>{\"use strict\";const I=(E,T,n,g)=>{let s=E&65535|0,m=E>>>16&65535|0,_=0;for(;n!==0;){_=n>2e3?2e3:n,n-=_;do s=s+T[g++]|0,m=m+s|0;while(--_);s%=65521,m%=65521}return s|m<<16|0};k.exports=I},619:k=>{\"use strict\";k.exports={Z_NO_FLUSH:0,Z_PARTIAL_FLUSH:1,Z_SYNC_FLUSH:2,Z_FULL_FLUSH:3,Z_FINISH:4,Z_BLOCK:5,Z_TREES:6,Z_OK:0,Z_STREAM_END:1,Z_NEED_DICT:2,Z_ERRNO:-1,Z_STREAM_ERROR:-2,Z_DATA_ERROR:-3,Z_MEM_ERROR:-4,Z_BUF_ERROR:-5,Z_NO_COMPRESSION:0,Z_BEST_SPEED:1,Z_BEST_COMPRESSION:9,Z_DEFAULT_COMPRESSION:-1,Z_FILTERED:1,Z_HUFFMAN_ONLY:2,Z_RLE:3,Z_FIXED:4,Z_DEFAULT_STRATEGY:0,Z_BINARY:0,Z_TEXT:1,Z_UNKNOWN:2,Z_DEFLATED:8}},869:k=>{\"use strict\";const I=()=>{let n,g=[];for(var s=0;s<256;s++){n=s;for(var m=0;m<8;m++)n=n&1?3988292384^n>>>1:n>>>1;g[s]=n}return g},E=new Uint32Array(I()),T=(n,g,s,m)=>{const _=E,C=m+s;n^=-1;for(let u=m;u<C;u++)n=n>>>8^_[(n^g[u])&255];return n^-1};k.exports=T},401:k=>{\"use strict\";function I(){this.text=0,this.time=0,this.xflags=0,this.os=0,this.extra=null,this.extra_len=0,this.name=\"\",this.comment=\"\",this.hcrc=0,this.done=!1}k.exports=I},264:k=>{\"use strict\";k.exports=function(n,g){let s,m,_,C,u,v,l,h,c,N,f,d,M,L,j,D,A,o,i,Z,R,O,p,U;const B=n.state;s=n.next_in,p=n.input,m=s+(n.avail_in-5),_=n.next_out,U=n.output,C=_-(g-n.avail_out),u=_+(n.avail_out-257),v=B.dmax,l=B.wsize,h=B.whave,c=B.wnext,N=B.window,f=B.hold,d=B.bits,M=B.lencode,L=B.distcode,j=(1<<B.lenbits)-1,D=(1<<B.distbits)-1;e:do{d<15&&(f+=p[s++]<<d,d+=8,f+=p[s++]<<d,d+=8),A=M[f&j];t:for(;;){if(o=A>>>24,f>>>=o,d-=o,o=A>>>16&255,o===0)U[_++]=A&65535;else if(o&16){i=A&65535,o&=15,o&&(d<o&&(f+=p[s++]<<d,d+=8),i+=f&(1<<o)-1,f>>>=o,d-=o),d<15&&(f+=p[s++]<<d,d+=8,f+=p[s++]<<d,d+=8),A=L[f&D];i:for(;;){if(o=A>>>24,f>>>=o,d-=o,o=A>>>16&255,o&16){if(Z=A&65535,o&=15,d<o&&(f+=p[s++]<<d,d+=8,d<o&&(f+=p[s++]<<d,d+=8)),Z+=f&(1<<o)-1,Z>v){n.msg=\"invalid distance too far back\",B.mode=30;break e}if(f>>>=o,d-=o,o=_-C,Z>o){if(o=Z-o,o>h&&B.sane){n.msg=\"invalid distance too far back\",B.mode=30;break e}if(R=0,O=N,c===0){if(R+=l-o,o<i){i-=o;do U[_++]=N[R++];while(--o);R=_-Z,O=U}}else if(c<o){if(R+=l+c-o,o-=c,o<i){i-=o;do U[_++]=N[R++];while(--o);if(R=0,c<i){o=c,i-=o;do U[_++]=N[R++];while(--o);R=_-Z,O=U}}}else if(R+=c-o,o<i){i-=o;do U[_++]=N[R++];while(--o);R=_-Z,O=U}for(;i>2;)U[_++]=O[R++],U[_++]=O[R++],U[_++]=O[R++],i-=3;i&&(U[_++]=O[R++],i>1&&(U[_++]=O[R++]))}else{R=_-Z;do U[_++]=U[R++],U[_++]=U[R++],U[_++]=U[R++],i-=3;while(i>2);i&&(U[_++]=U[R++],i>1&&(U[_++]=U[R++]))}}else if((o&64)===0){A=L[(A&65535)+(f&(1<<o)-1)];continue i}else{n.msg=\"invalid distance code\",B.mode=30;break e}break}}else if((o&64)===0){A=M[(A&65535)+(f&(1<<o)-1)];continue t}else if(o&32){B.mode=12;break e}else{n.msg=\"invalid literal/length code\",B.mode=30;break e}break}}while(s<m&&_<u);i=d>>3,s-=i,d-=i<<3,f&=(1<<d)-1,n.next_in=s,n.next_out=_,n.avail_in=s<m?5+(m-s):5-(s-m),n.avail_out=_<u?257+(u-_):257-(_-u),B.hold=f,B.bits=d}},948:(k,I,E)=>{\"use strict\";const T=E(69),n=E(869),g=E(264),s=E(241),m=0,_=1,C=2,{Z_FINISH:u,Z_BLOCK:v,Z_TREES:l,Z_OK:h,Z_STREAM_END:c,Z_NEED_DICT:N,Z_STREAM_ERROR:f,Z_DATA_ERROR:d,Z_MEM_ERROR:M,Z_BUF_ERROR:L,Z_DEFLATED:j}=E(619),D=1,A=2,o=3,i=4,Z=5,R=6,O=7,p=8,U=9,B=10,K=11,V=12,fe=13,de=14,ne=15,ce=16,pe=17,le=18,te=19,re=20,ae=21,we=22,_e=23,ue=24,he=25,Te=26,ke=27,Oe=28,De=29,F=30,Ee=31,Pe=32,Fe=852,je=592,He=15,Re=t=>(t>>>24&255)+(t>>>8&65280)+((t&65280)<<8)+((t&255)<<24);function ze(){this.mode=0,this.last=!1,this.wrap=0,this.havedict=!1,this.flags=0,this.dmax=0,this.check=0,this.total=0,this.head=null,this.wbits=0,this.wsize=0,this.whave=0,this.wnext=0,this.window=null,this.hold=0,this.bits=0,this.length=0,this.offset=0,this.extra=0,this.lencode=null,this.distcode=null,this.lenbits=0,this.distbits=0,this.ncode=0,this.nlen=0,this.ndist=0,this.have=0,this.next=null,this.lens=new Uint16Array(320),this.work=new Uint16Array(288),this.lendyn=null,this.distdyn=null,this.sane=0,this.back=0,this.was=0}const Ie=t=>{if(!t||!t.state)return f;const x=t.state;return t.total_in=t.total_out=x.total=0,t.msg=\"\",x.wrap&&(t.adler=x.wrap&1),x.mode=D,x.last=0,x.havedict=0,x.dmax=32768,x.head=null,x.hold=0,x.bits=0,x.lencode=x.lendyn=new Int32Array(Fe),x.distcode=x.distdyn=new Int32Array(je),x.sane=1,x.back=-1,h},Ue=t=>{if(!t||!t.state)return f;const x=t.state;return x.wsize=0,x.whave=0,x.wnext=0,Ie(t)},Ce=(t,x)=>{let e;if(!t||!t.state)return f;const y=t.state;return x<0?(e=0,x=-x):(e=(x>>4)+1,x<48&&(x&=15)),x&&(x<8||x>15)?f:(y.window!==null&&y.wbits!==x&&(y.window=null),y.wrap=e,y.wbits=x,Ue(t))},Ne=(t,x)=>{if(!t)return f;const e=new ze;t.state=e,e.window=null;const y=Ce(t,x);return y!==h&&(t.state=null),y},Ye=t=>Ne(t,He);let Be=!0,Ae,Se;const Ge=t=>{if(Be){Ae=new Int32Array(512),Se=new Int32Array(32);let x=0;for(;x<144;)t.lens[x++]=8;for(;x<256;)t.lens[x++]=9;for(;x<280;)t.lens[x++]=7;for(;x<288;)t.lens[x++]=8;for(s(_,t.lens,0,288,Ae,0,t.work,{bits:9}),x=0;x<32;)t.lens[x++]=5;s(C,t.lens,0,32,Se,0,t.work,{bits:5}),Be=!1}t.lencode=Ae,t.lenbits=9,t.distcode=Se,t.distbits=5},Me=(t,x,e,y)=>{let H;const w=t.state;return w.window===null&&(w.wsize=1<<w.wbits,w.wnext=0,w.whave=0,w.window=new Uint8Array(w.wsize)),y>=w.wsize?(w.window.set(x.subarray(e-w.wsize,e),0),w.wnext=0,w.whave=w.wsize):(H=w.wsize-w.wnext,H>y&&(H=y),w.window.set(x.subarray(e-y,e-y+H),w.wnext),y-=H,y?(w.window.set(x.subarray(e-y,e),0),w.wnext=y,w.whave=w.wsize):(w.wnext+=H,w.wnext===w.wsize&&(w.wnext=0),w.whave<w.wsize&&(w.whave+=H))),0},Xe=(t,x)=>{let e,y,H,w,q,b,G,a,r,xe,z,S,be,me,Y=0,P,J,$,Q,ve,ge,X,ee;const W=new Uint8Array(4);let oe,ie;const Le=new Uint8Array([16,17,18,0,8,7,9,6,10,5,11,4,12,3,13,2,14,1,15]);if(!t||!t.state||!t.output||!t.input&&t.avail_in!==0)return f;e=t.state,e.mode===V&&(e.mode=fe),q=t.next_out,H=t.output,G=t.avail_out,w=t.next_in,y=t.input,b=t.avail_in,a=e.hold,r=e.bits,xe=b,z=G,ee=h;e:for(;;)switch(e.mode){case D:if(e.wrap===0){e.mode=fe;break}for(;r<16;){if(b===0)break e;b--,a+=y[w++]<<r,r+=8}if(e.wrap&2&&a===35615){e.check=0,W[0]=a&255,W[1]=a>>>8&255,e.check=n(e.check,W,2,0),a=0,r=0,e.mode=A;break}if(e.flags=0,e.head&&(e.head.done=!1),!(e.wrap&1)||(((a&255)<<8)+(a>>8))%31){t.msg=\"incorrect header check\",e.mode=F;break}if((a&15)!==j){t.msg=\"unknown compression method\",e.mode=F;break}if(a>>>=4,r-=4,X=(a&15)+8,e.wbits===0)e.wbits=X;else if(X>e.wbits){t.msg=\"invalid window size\",e.mode=F;break}e.dmax=1<<e.wbits,t.adler=e.check=1,e.mode=a&512?B:V,a=0,r=0;break;case A:for(;r<16;){if(b===0)break e;b--,a+=y[w++]<<r,r+=8}if(e.flags=a,(e.flags&255)!==j){t.msg=\"unknown compression method\",e.mode=F;break}if(e.flags&57344){t.msg=\"unknown header flags set\",e.mode=F;break}e.head&&(e.head.text=a>>8&1),e.flags&512&&(W[0]=a&255,W[1]=a>>>8&255,e.check=n(e.check,W,2,0)),a=0,r=0,e.mode=o;case o:for(;r<32;){if(b===0)break e;b--,a+=y[w++]<<r,r+=8}e.head&&(e.head.time=a),e.flags&512&&(W[0]=a&255,W[1]=a>>>8&255,W[2]=a>>>16&255,W[3]=a>>>24&255,e.check=n(e.check,W,4,0)),a=0,r=0,e.mode=i;case i:for(;r<16;){if(b===0)break e;b--,a+=y[w++]<<r,r+=8}e.head&&(e.head.xflags=a&255,e.head.os=a>>8),e.flags&512&&(W[0]=a&255,W[1]=a>>>8&255,e.check=n(e.check,W,2,0)),a=0,r=0,e.mode=Z;case Z:if(e.flags&1024){for(;r<16;){if(b===0)break e;b--,a+=y[w++]<<r,r+=8}e.length=a,e.head&&(e.head.extra_len=a),e.flags&512&&(W[0]=a&255,W[1]=a>>>8&255,e.check=n(e.check,W,2,0)),a=0,r=0}else e.head&&(e.head.extra=null);e.mode=R;case R:if(e.flags&1024&&(S=e.length,S>b&&(S=b),S&&(e.head&&(X=e.head.extra_len-e.length,e.head.extra||(e.head.extra=new Uint8Array(e.head.extra_len)),e.head.extra.set(y.subarray(w,w+S),X)),e.flags&512&&(e.check=n(e.check,y,S,w)),b-=S,w+=S,e.length-=S),e.length))break e;e.length=0,e.mode=O;case O:if(e.flags&2048){if(b===0)break e;S=0;do X=y[w+S++],e.head&&X&&e.length<65536&&(e.head.name+=String.fromCharCode(X));while(X&&S<b);if(e.flags&512&&(e.check=n(e.check,y,S,w)),b-=S,w+=S,X)break e}else e.head&&(e.head.name=null);e.length=0,e.mode=p;case p:if(e.flags&4096){if(b===0)break e;S=0;do X=y[w+S++],e.head&&X&&e.length<65536&&(e.head.comment+=String.fromCharCode(X));while(X&&S<b);if(e.flags&512&&(e.check=n(e.check,y,S,w)),b-=S,w+=S,X)break e}else e.head&&(e.head.comment=null);e.mode=U;case U:if(e.flags&512){for(;r<16;){if(b===0)break e;b--,a+=y[w++]<<r,r+=8}if(a!==(e.check&65535)){t.msg=\"header crc mismatch\",e.mode=F;break}a=0,r=0}e.head&&(e.head.hcrc=e.flags>>9&1,e.head.done=!0),t.adler=e.check=0,e.mode=V;break;case B:for(;r<32;){if(b===0)break e;b--,a+=y[w++]<<r,r+=8}t.adler=e.check=Re(a),a=0,r=0,e.mode=K;case K:if(e.havedict===0)return t.next_out=q,t.avail_out=G,t.next_in=w,t.avail_in=b,e.hold=a,e.bits=r,N;t.adler=e.check=1,e.mode=V;case V:if(x===v||x===l)break e;case fe:if(e.last){a>>>=r&7,r-=r&7,e.mode=ke;break}for(;r<3;){if(b===0)break e;b--,a+=y[w++]<<r,r+=8}switch(e.last=a&1,a>>>=1,r-=1,a&3){case 0:e.mode=de;break;case 1:if(Ge(e),e.mode=re,x===l){a>>>=2,r-=2;break e}break;case 2:e.mode=pe;break;case 3:t.msg=\"invalid block type\",e.mode=F}a>>>=2,r-=2;break;case de:for(a>>>=r&7,r-=r&7;r<32;){if(b===0)break e;b--,a+=y[w++]<<r,r+=8}if((a&65535)!==(a>>>16^65535)){t.msg=\"invalid stored block lengths\",e.mode=F;break}if(e.length=a&65535,a=0,r=0,e.mode=ne,x===l)break e;case ne:e.mode=ce;case ce:if(S=e.length,S){if(S>b&&(S=b),S>G&&(S=G),S===0)break e;H.set(y.subarray(w,w+S),q),b-=S,w+=S,G-=S,q+=S,e.length-=S;break}e.mode=V;break;case pe:for(;r<14;){if(b===0)break e;b--,a+=y[w++]<<r,r+=8}if(e.nlen=(a&31)+257,a>>>=5,r-=5,e.ndist=(a&31)+1,a>>>=5,r-=5,e.ncode=(a&15)+4,a>>>=4,r-=4,e.nlen>286||e.ndist>30){t.msg=\"too many length or distance symbols\",e.mode=F;break}e.have=0,e.mode=le;case le:for(;e.have<e.ncode;){for(;r<3;){if(b===0)break e;b--,a+=y[w++]<<r,r+=8}e.lens[Le[e.have++]]=a&7,a>>>=3,r-=3}for(;e.have<19;)e.lens[Le[e.have++]]=0;if(e.lencode=e.lendyn,e.lenbits=7,oe={bits:e.lenbits},ee=s(m,e.lens,0,19,e.lencode,0,e.work,oe),e.lenbits=oe.bits,ee){t.msg=\"invalid code lengths set\",e.mode=F;break}e.have=0,e.mode=te;case te:for(;e.have<e.nlen+e.ndist;){for(;Y=e.lencode[a&(1<<e.lenbits)-1],P=Y>>>24,J=Y>>>16&255,$=Y&65535,!(P<=r);){if(b===0)break e;b--,a+=y[w++]<<r,r+=8}if($<16)a>>>=P,r-=P,e.lens[e.have++]=$;else{if($===16){for(ie=P+2;r<ie;){if(b===0)break e;b--,a+=y[w++]<<r,r+=8}if(a>>>=P,r-=P,e.have===0){t.msg=\"invalid bit length repeat\",e.mode=F;break}X=e.lens[e.have-1],S=3+(a&3),a>>>=2,r-=2}else if($===17){for(ie=P+3;r<ie;){if(b===0)break e;b--,a+=y[w++]<<r,r+=8}a>>>=P,r-=P,X=0,S=3+(a&7),a>>>=3,r-=3}else{for(ie=P+7;r<ie;){if(b===0)break e;b--,a+=y[w++]<<r,r+=8}a>>>=P,r-=P,X=0,S=11+(a&127),a>>>=7,r-=7}if(e.have+S>e.nlen+e.ndist){t.msg=\"invalid bit length repeat\",e.mode=F;break}for(;S--;)e.lens[e.have++]=X}}if(e.mode===F)break;if(e.lens[256]===0){t.msg=\"invalid code -- missing end-of-block\",e.mode=F;break}if(e.lenbits=9,oe={bits:e.lenbits},ee=s(_,e.lens,0,e.nlen,e.lencode,0,e.work,oe),e.lenbits=oe.bits,ee){t.msg=\"invalid literal/lengths set\",e.mode=F;break}if(e.distbits=6,e.distcode=e.distdyn,oe={bits:e.distbits},ee=s(C,e.lens,e.nlen,e.ndist,e.distcode,0,e.work,oe),e.distbits=oe.bits,ee){t.msg=\"invalid distances set\",e.mode=F;break}if(e.mode=re,x===l)break e;case re:e.mode=ae;case ae:if(b>=6&&G>=258){t.next_out=q,t.avail_out=G,t.next_in=w,t.avail_in=b,e.hold=a,e.bits=r,g(t,z),q=t.next_out,H=t.output,G=t.avail_out,w=t.next_in,y=t.input,b=t.avail_in,a=e.hold,r=e.bits,e.mode===V&&(e.back=-1);break}for(e.back=0;Y=e.lencode[a&(1<<e.lenbits)-1],P=Y>>>24,J=Y>>>16&255,$=Y&65535,!(P<=r);){if(b===0)break e;b--,a+=y[w++]<<r,r+=8}if(J&&(J&240)===0){for(Q=P,ve=J,ge=$;Y=e.lencode[ge+((a&(1<<Q+ve)-1)>>Q)],P=Y>>>24,J=Y>>>16&255,$=Y&65535,!(Q+P<=r);){if(b===0)break e;b--,a+=y[w++]<<r,r+=8}a>>>=Q,r-=Q,e.back+=Q}if(a>>>=P,r-=P,e.back+=P,e.length=$,J===0){e.mode=Te;break}if(J&32){e.back=-1,e.mode=V;break}if(J&64){t.msg=\"invalid literal/length code\",e.mode=F;break}e.extra=J&15,e.mode=we;case we:if(e.extra){for(ie=e.extra;r<ie;){if(b===0)break e;b--,a+=y[w++]<<r,r+=8}e.length+=a&(1<<e.extra)-1,a>>>=e.extra,r-=e.extra,e.back+=e.extra}e.was=e.length,e.mode=_e;case _e:for(;Y=e.distcode[a&(1<<e.distbits)-1],P=Y>>>24,J=Y>>>16&255,$=Y&65535,!(P<=r);){if(b===0)break e;b--,a+=y[w++]<<r,r+=8}if((J&240)===0){for(Q=P,ve=J,ge=$;Y=e.distcode[ge+((a&(1<<Q+ve)-1)>>Q)],P=Y>>>24,J=Y>>>16&255,$=Y&65535,!(Q+P<=r);){if(b===0)break e;b--,a+=y[w++]<<r,r+=8}a>>>=Q,r-=Q,e.back+=Q}if(a>>>=P,r-=P,e.back+=P,J&64){t.msg=\"invalid distance code\",e.mode=F;break}e.offset=$,e.extra=J&15,e.mode=ue;case ue:if(e.extra){for(ie=e.extra;r<ie;){if(b===0)break e;b--,a+=y[w++]<<r,r+=8}e.offset+=a&(1<<e.extra)-1,a>>>=e.extra,r-=e.extra,e.back+=e.extra}if(e.offset>e.dmax){t.msg=\"invalid distance too far back\",e.mode=F;break}e.mode=he;case he:if(G===0)break e;if(S=z-G,e.offset>S){if(S=e.offset-S,S>e.whave&&e.sane){t.msg=\"invalid distance too far back\",e.mode=F;break}S>e.wnext?(S-=e.wnext,be=e.wsize-S):be=e.wnext-S,S>e.length&&(S=e.length),me=e.window}else me=H,be=q-e.offset,S=e.length;S>G&&(S=G),G-=S,e.length-=S;do H[q++]=me[be++];while(--S);e.length===0&&(e.mode=ae);break;case Te:if(G===0)break e;H[q++]=e.length,G--,e.mode=ae;break;case ke:if(e.wrap){for(;r<32;){if(b===0)break e;b--,a|=y[w++]<<r,r+=8}if(z-=G,t.total_out+=z,e.total+=z,z&&(t.adler=e.check=e.flags?n(e.check,H,z,q-z):T(e.check,H,z,q-z)),z=G,(e.flags?a:Re(a))!==e.check){t.msg=\"incorrect data check\",e.mode=F;break}a=0,r=0}e.mode=Oe;case Oe:if(e.wrap&&e.flags){for(;r<32;){if(b===0)break e;b--,a+=y[w++]<<r,r+=8}if(a!==(e.total&4294967295)){t.msg=\"incorrect length check\",e.mode=F;break}a=0,r=0}e.mode=De;case De:ee=c;break e;case F:ee=d;break e;case Ee:return M;case Pe:default:return f}return t.next_out=q,t.avail_out=G,t.next_in=w,t.avail_in=b,e.hold=a,e.bits=r,(e.wsize||z!==t.avail_out&&e.mode<F&&(e.mode<ke||x!==u))&&Me(t,t.output,t.next_out,z-t.avail_out)?(e.mode=Ee,M):(xe-=t.avail_in,z-=t.avail_out,t.total_in+=xe,t.total_out+=z,e.total+=z,e.wrap&&z&&(t.adler=e.check=e.flags?n(e.check,H,z,t.next_out-z):T(e.check,H,z,t.next_out-z)),t.data_type=e.bits+(e.last?64:0)+(e.mode===V?128:0)+(e.mode===re||e.mode===ne?256:0),(xe===0&&z===0||x===u)&&ee===h&&(ee=L),ee)},Ke=t=>{if(!t||!t.state)return f;let x=t.state;return x.window&&(x.window=null),t.state=null,h},Ve=(t,x)=>{if(!t||!t.state)return f;const e=t.state;return(e.wrap&2)===0?f:(e.head=x,x.done=!1,h)},We=(t,x)=>{const e=x.length;let y,H,w;return!t||!t.state||(y=t.state,y.wrap!==0&&y.mode!==K)?f:y.mode===K&&(H=1,H=T(H,x,e,0),H!==y.check)?d:(w=Me(t,x,e,e),w?(y.mode=Ee,M):(y.havedict=1,h))};k.exports.inflateReset=Ue,k.exports.inflateReset2=Ce,k.exports.inflateResetKeep=Ie,k.exports.inflateInit=Ye,k.exports.inflateInit2=Ne,k.exports.inflate=Xe,k.exports.inflateEnd=Ke,k.exports.inflateGetHeader=Ve,k.exports.inflateSetDictionary=We,k.exports.inflateInfo=\"pako inflate (from Nodeca project)\"},241:k=>{\"use strict\";const m=new Uint16Array([3,4,5,6,7,8,9,10,11,13,15,17,19,23,27,31,35,43,51,59,67,83,99,115,131,163,195,227,258,0,0]),_=new Uint8Array([16,16,16,16,16,16,16,16,17,17,17,17,18,18,18,18,19,19,19,19,20,20,20,20,21,21,21,21,16,72,78]),C=new Uint16Array([1,2,3,4,5,7,9,13,17,25,33,49,65,97,129,193,257,385,513,769,1025,1537,2049,3073,4097,6145,8193,12289,16385,24577,0,0]),u=new Uint8Array([16,16,16,16,17,17,18,18,19,19,20,20,21,21,22,22,23,23,24,24,25,25,26,26,27,27,28,28,29,29,64,64]),v=(l,h,c,N,f,d,M,L)=>{const j=L.bits;let D=0,A=0,o=0,i=0,Z=0,R=0,O=0,p=0,U=0,B=0,K,V,fe,de,ne,ce=null,pe=0,le;const te=new Uint16Array(15+1),re=new Uint16Array(15+1);let ae=null,we=0,_e,ue,he;for(D=0;D<=15;D++)te[D]=0;for(A=0;A<N;A++)te[h[c+A]]++;for(Z=j,i=15;i>=1&&te[i]===0;i--);if(Z>i&&(Z=i),i===0)return f[d++]=1<<24|64<<16|0,f[d++]=1<<24|64<<16|0,L.bits=1,0;for(o=1;o<i&&te[o]===0;o++);for(Z<o&&(Z=o),p=1,D=1;D<=15;D++)if(p<<=1,p-=te[D],p<0)return-1;if(p>0&&(l===0||i!==1))return-1;for(re[1]=0,D=1;D<15;D++)re[D+1]=re[D]+te[D];for(A=0;A<N;A++)h[c+A]!==0&&(M[re[h[c+A]]++]=A);if(l===0?(ce=ae=M,le=19):l===1?(ce=m,pe-=257,ae=_,we-=257,le=256):(ce=C,ae=u,le=-1),B=0,A=0,D=o,ne=d,R=Z,O=0,fe=-1,U=1<<Z,de=U-1,l===1&&U>852||l===2&&U>592)return 1;for(;;){_e=D-O,M[A]<le?(ue=0,he=M[A]):M[A]>le?(ue=ae[we+M[A]],he=ce[pe+M[A]]):(ue=32+64,he=0),K=1<<D-O,V=1<<R,o=V;do V-=K,f[ne+(B>>O)+V]=_e<<24|ue<<16|he|0;while(V!==0);for(K=1<<D-1;B&K;)K>>=1;if(K!==0?(B&=K-1,B+=K):B=0,A++,--te[D]===0){if(D===i)break;D=h[c+M[A]]}if(D>Z&&(B&de)!==fe){for(O===0&&(O=Z),ne+=o,R=D-O,p=1<<R;R+O<i&&(p-=te[R+O],!(p<=0));)R++,p<<=1;if(U+=1<<R,l===1&&U>852||l===2&&U>592)return 1;fe=B&de,f[fe]=Z<<24|R<<16|ne-d|0}}return B!==0&&(f[ne+B]=D-O<<24|64<<16|0),L.bits=Z,0};k.exports=v},898:k=>{\"use strict\";k.exports={2:\"need dictionary\",1:\"stream end\",0:\"\",\"-1\":\"file error\",\"-2\":\"stream error\",\"-3\":\"data error\",\"-4\":\"insufficient memory\",\"-5\":\"buffer error\",\"-6\":\"incompatible version\"}},292:k=>{\"use strict\";function I(){this.input=null,this.next_in=0,this.avail_in=0,this.total_in=0,this.output=null,this.next_out=0,this.avail_out=0,this.total_out=0,this.msg=\"\",this.state=null,this.data_type=2,this.adler=0}k.exports=I},330:(k,I,E)=>{\"use strict\";E.d(I,{default:()=>C});var T=E(829),n=E(861),g=E.n(n),s=E(843);function m(u){if(u.__type__==\"npy\"){var v;if(window.obj=u,u.hasOwnProperty(\"zdata\")){const f=Uint8Array.from(window.atob(u.zdata),d=>d.charCodeAt(0));v=(0,s.rr)(f)}else v=Uint8Array.from(window.atob(u.data),f=>f.charCodeAt(0));var l=(0,T.g)(v.buffer);if(l=n(l.data,l.shape),u.hasOwnProperty(\"min\")){let f=l.dtype===\"uint8\"?255:65535;for(var h=1,c=0;c<l.shape.length;c++)h=h*l.shape[c];for(var N=n(new Float32Array(h),l.shape),c=0;c<l.data.length;c++)N.data[c]=u.min+(u.max-u.min)*l.data[c]/f;return N}else return l}else return{}}function _(u){if(Array.isArray(u)){var v=[];for(var l of u)v.push(_(l));return v}else if(u instanceof Object){if(u.hasOwnProperty(\"__type__\"))return m(u);var v={};for(var h of Object.keys(u))v[h]=_(u[h]);return v}else return u}const C=loader={unpack_obj:_}}},ye={};function se(k){if(ye[k])return ye[k].exports;var I=ye[k]={exports:{}};return Ze[k](I,I.exports,se),I.exports}return se.n=k=>{var I=k&&k.__esModule?()=>k.default:()=>k;return se.d(I,{a:I}),I},se.d=(k,I)=>{for(var E in I)se.o(I,E)&&!se.o(k,E)&&Object.defineProperty(k,E,{enumerable:!0,get:I[E]})},se.o=(k,I)=>Object.prototype.hasOwnProperty.call(k,I),se(330)})().default;\n",
              "</script>\n",
              "<script>var AttentionMulti;AttentionMulti=(()=>{\"use strict\";var wt={143:(B,P,ee)=>{ee.d(P,{default:()=>_n});function L(){}const ge=e=>e;function Ft(e,t){for(const n in t)e[n]=t[n];return e}function qt(e){return e&&typeof e==\"object\"&&typeof e.then==\"function\"}function wn(e,t,n,o,i){e.__svelte_meta={loc:{file:t,line:n,column:o,char:i}}}function Ge(e){return e()}function Se(){return Object.create(null)}function R(e){e.forEach(Ge)}function re(e){return typeof e==\"function\"}function ze(e,t){return e!=e?t==t:e!==t||e&&typeof e==\"object\"||typeof e==\"function\"}function Fn(e,t){return e!=e?t==t:e!==t}function Ke(e){return Object.keys(e).length===0}function qn(e,t){if(e!=null&&typeof e.subscribe!=\"function\")throw new Error(`'${t}' is not a store with a 'subscribe' method`)}function Qe(e,...t){if(e==null)return L;const n=e.subscribe(...t);return n.unsubscribe?()=>n.unsubscribe():n}function En(e){let t;return Qe(e,n=>t=n)(),t}function Sn(e,t,n){e.$$.on_destroy.push(Qe(t,n))}function Et(e,t,n,o){if(e){const i=Me(e,t,n,o);return e[0](i)}}function Me(e,t,n,o){return e[1]&&o?Ft(n.ctx.slice(),e[1](o(t))):n.ctx}function Ze(e,t,n,o){if(e[2]&&o){const i=e[2](o(n));if(t.dirty===void 0)return i;if(typeof i==\"object\"){const s=[],l=Math.max(t.dirty.length,i.length);for(let r=0;r<l;r+=1)s[r]=t.dirty[r]|i[r];return s}return t.dirty|i}return t.dirty}function St(e,t,n,o,i,s,l){const r=Ze(t,o,i,s);if(r){const u=Me(t,n,o,l);e.p(u,r)}}function zn(e,t,n,o,i,s,l,r){const u=l(i)|Ze(t,o,i,s);if(u){const a=Me(t,n,o,r);e.p(a,u)}}function Mn(e){const t={};for(const n in e)n[0]!==\"$\"&&(t[n]=e[n]);return t}function Cn(e,t){const n={};t=new Set(t);for(const o in e)!t.has(o)&&o[0]!==\"$\"&&(n[o]=e[o]);return n}function An(e){const t={};for(const n in e)t[n]=!0;return t}function Dn(e){let t=!1;return function(...n){t||(t=!0,e.call(this,...n))}}function On(e){return e==null?\"\":e}function xn(e,t,n=t){return e.set(n),t}const zt=(e,t)=>Object.prototype.hasOwnProperty.call(e,t);function Tn(e){return e&&re(e.destroy)?e.destroy:L}const jn=typeof window!=\"undefined\";let ue=null,pe=null;function Ln(e){ue=e}function Nn(e){pe=e}const G=new Set;function $e(e){G.forEach(t=>{t.c(e)||(G.delete(t),t.f())}),G.size!==0&&pe($e)}function Pn(){G.clear()}function me(e){let t;return G.size===0&&pe($e),{promise:new Promise(n=>{G.add(t={c:e,f:n})}),abort(){G.delete(t)}}}function S(e,t){e.appendChild(t)}function C(e,t,n){e.insertBefore(t,n||null)}function M(e){e.parentNode.removeChild(e)}function et(e,t){for(let n=0;n<e.length;n+=1)e[n]&&e[n].d(t)}function z(e){return document.createElement(e)}function Rn(e,t){return document.createElement(e,{is:t})}function Bn(e,t){const n={};for(const o in e)zt(e,o)&&t.indexOf(o)===-1&&(n[o]=e[o]);return n}function Mt(e){return document.createElementNS(\"http://www.w3.org/2000/svg\",e)}function N(e){return document.createTextNode(e)}function j(){return N(\" \")}function Ct(){return N(\"\")}function H(e,t,n,o){return e.addEventListener(t,n,o),()=>e.removeEventListener(t,n,o)}function Hn(e){return function(t){return t.preventDefault(),e.call(this,t)}}function In(e){return function(t){return t.stopPropagation(),e.call(this,t)}}function Vn(e){return function(t){t.target===this&&e.call(this,t)}}function F(e,t,n){n==null?e.removeAttribute(t):e.getAttribute(t)!==n&&e.setAttribute(t,n)}function Wn(e,t){const n=Object.getOwnPropertyDescriptors(e.__proto__);for(const o in t)t[o]==null?e.removeAttribute(o):o===\"style\"?e.style.cssText=t[o]:o===\"__value\"?e.value=e[o]=t[o]:n[o]&&n[o].set?e[o]=t[o]:F(e,o,t[o])}function Yn(e,t){for(const n in t)F(e,n,t[n])}function Un(e,t,n){t in e?e[t]=n:F(e,t,n)}function Jn(e,t,n){e.setAttributeNS(\"http://www.w3.org/1999/xlink\",t,n)}function Xn(e,t,n){const o=new Set;for(let i=0;i<e.length;i+=1)e[i].checked&&o.add(e[i].__value);return n||o.delete(t),Array.from(o)}function Gn(e){return e===\"\"?null:+e}function Kn(e){const t=[];for(let n=0;n<e.length;n+=1)t.push({start:e.start(n),end:e.end(n)});return t}function At(e){return Array.from(e.childNodes)}function Qn(e,t,n,o){for(let i=0;i<e.length;i+=1){const s=e[i];if(s.nodeName===t){let l=0;const r=[];for(;l<s.attributes.length;){const u=s.attributes[l++];n[u.name]||r.push(u.name)}for(let u=0;u<r.length;u++)s.removeAttribute(r[u]);return e.splice(i,1)[0]}}return o?Mt(t):z(t)}function Dt(e,t){for(let n=0;n<e.length;n+=1){const o=e[n];if(o.nodeType===3)return o.data=\"\"+t,e.splice(n,1)[0]}return N(t)}function Zn(e){return Dt(e,\" \")}function ve(e,t){t=\"\"+t,e.wholeText!==t&&(e.data=t)}function $n(e,t){e.value=t==null?\"\":t}function eo(e,t){try{e.type=t}catch(n){}}function O(e,t,n,o){e.style.setProperty(t,n,o?\"important\":\"\")}function to(e,t){for(let n=0;n<e.options.length;n+=1){const o=e.options[n];if(o.__value===t){o.selected=!0;return}}}function no(e,t){for(let n=0;n<e.options.length;n+=1){const o=e.options[n];o.selected=~t.indexOf(o.__value)}}function oo(e){const t=e.querySelector(\":checked\")||e.options[0];return t&&t.__value}function io(e){return[].map.call(e.querySelectorAll(\":checked\"),t=>t.__value)}let ke;function Ot(){if(ke===void 0){ke=!1;try{typeof window!=\"undefined\"&&window.parent&&window.parent.document}catch(e){ke=!0}}return ke}function lo(e,t){getComputedStyle(e).position===\"static\"&&(e.style.position=\"relative\");const o=z(\"iframe\");o.setAttribute(\"style\",\"display: block; position: absolute; top: 0; left: 0; width: 100%; height: 100%; overflow: hidden; border: 0; opacity: 0; pointer-events: none; z-index: -1;\"),o.setAttribute(\"aria-hidden\",\"true\"),o.tabIndex=-1;const i=Ot();let s;return i?(o.src=\"data:text/html,<script>onresize=function(){parent.postMessage(0,'*')}<\\/script>\",s=H(window,\"message\",l=>{l.source===o.contentWindow&&t()})):(o.src=\"about:blank\",o.onload=()=>{s=H(o.contentWindow,\"resize\",t)}),S(e,o),()=>{(i||s&&o.contentWindow)&&s(),M(o)}}function so(e,t,n){e.classList[n?\"add\":\"remove\"](t)}function Ce(e,t){const n=document.createEvent(\"CustomEvent\");return n.initCustomEvent(e,!1,!1,t),n}function ro(e,t=document.body){return Array.from(t.querySelectorAll(e))}class uo{constructor(t=null){this.a=t,this.e=this.n=null}m(t,n,o=null){this.e||(this.e=z(n.nodeName),this.t=n,this.h(t)),this.i(o)}h(t){this.e.innerHTML=t,this.n=Array.from(this.e.childNodes)}i(t){for(let n=0;n<this.n.length;n+=1)C(this.t,this.n[n],t)}p(t){this.d(),this.h(t),this.i(this.a)}d(){this.n.forEach(M)}}function co(e){const t={};for(const n of e)t[n.name]=n.value;return t}function ao(e){const t={};return e.childNodes.forEach(n=>{t[n.slot||\"default\"]=!0}),t}const Ae=new Set;let be=0;function xt(e){let t=5381,n=e.length;for(;n--;)t=(t<<5)-t^e.charCodeAt(n);return t>>>0}function ce(e,t,n,o,i,s,l,r=0){const u=16.666/o;let a=`{\n",
              "`;for(let c=0;c<=1;c+=u){const _=t+(n-t)*s(c);a+=c*100+`%{${l(_,1-_)}}\n",
              "`}const d=a+`100% {${l(n,1-n)}}\n",
              "}`,h=`__svelte_${xt(d)}_${r}`,g=e.ownerDocument;Ae.add(g);const p=g.__svelte_stylesheet||(g.__svelte_stylesheet=g.head.appendChild(z(\"style\")).sheet),f=g.__svelte_rules||(g.__svelte_rules={});f[h]||(f[h]=!0,p.insertRule(`@keyframes ${h} ${d}`,p.cssRules.length));const m=e.style.animation||\"\";return e.style.animation=`${m?`${m}, `:\"\"}${h} ${o}ms linear ${i}ms 1 both`,be+=1,h}function ae(e,t){const n=(e.style.animation||\"\").split(\", \"),o=n.filter(t?s=>s.indexOf(t)<0:s=>s.indexOf(\"__svelte\")===-1),i=n.length-o.length;i&&(e.style.animation=o.join(\", \"),be-=i,be||Tt())}function Tt(){pe(()=>{be||(Ae.forEach(e=>{const t=e.__svelte_stylesheet;let n=t.cssRules.length;for(;n--;)t.deleteRule(n);e.__svelte_rules={}}),Ae.clear())})}function fo(e,t,n,o){if(!t)return L;const i=e.getBoundingClientRect();if(t.left===i.left&&t.right===i.right&&t.top===i.top&&t.bottom===i.bottom)return L;const{delay:s=0,duration:l=300,easing:r=ge,start:u=ue()+s,end:a=u+l,tick:d=L,css:h}=n(e,{from:t,to:i},o);let g=!0,p=!1,f;function m(){h&&(f=ce(e,0,1,l,s,r,h)),s||(p=!0)}function c(){h&&ae(e,f),g=!1}return me(_=>{if(!p&&_>=u&&(p=!0),p&&_>=a&&(d(1,0),c()),!g)return!1;if(p){const v=_-u,y=0+1*r(v/l);d(y,1-y)}return!0}),m(),d(0,1),c}function _o(e){const t=getComputedStyle(e);if(t.position!==\"absolute\"&&t.position!==\"fixed\"){const{width:n,height:o}=t,i=e.getBoundingClientRect();e.style.position=\"absolute\",e.style.width=n,e.style.height=o,jt(e,i)}}function jt(e,t){const n=e.getBoundingClientRect();if(t.left!==n.left||t.top!==n.top){const o=getComputedStyle(e),i=o.transform===\"none\"?\"\":o.transform;e.style.transform=`${i} translate(${t.left-n.left}px, ${t.top-n.top}px)`}}let fe;function I(e){fe=e}function U(){if(!fe)throw new Error(\"Function called outside component initialization\");return fe}function ho(e){U().$$.before_update.push(e)}function Lt(e){U().$$.on_mount.push(e)}function go(e){U().$$.after_update.push(e)}function po(e){U().$$.on_destroy.push(e)}function mo(){const e=U();return(t,n)=>{const o=e.$$.callbacks[t];if(o){const i=Ce(t,n);o.slice().forEach(s=>{s.call(e,i)})}}}function vo(e,t){U().$$.context.set(e,t)}function ko(e){return U().$$.context.get(e)}function bo(e){return U().$$.context.has(e)}function yo(e,t){const n=e.$$.callbacks[t.type];n&&n.slice().forEach(o=>o(t))}const de=[],wo={enabled:!1},_e=[],ye=[],De=[],tt=Promise.resolve();let Oe=!1;function nt(){Oe||(Oe=!0,tt.then(je))}function Fo(){return nt(),tt}function te(e){ye.push(e)}function ot(e){De.push(e)}let xe=!1;const Te=new Set;function je(){if(!xe){xe=!0;do{for(let e=0;e<de.length;e+=1){const t=de[e];I(t),Nt(t.$$)}for(I(null),de.length=0;_e.length;)_e.pop()();for(let e=0;e<ye.length;e+=1){const t=ye[e];Te.has(t)||(Te.add(t),t())}ye.length=0}while(de.length);for(;De.length;)De.pop()();Oe=!1,xe=!1,Te.clear()}}function Nt(e){if(e.fragment!==null){e.update(),R(e.before_update);const t=e.dirty;e.dirty=[-1],e.fragment&&e.fragment.p(e.ctx,t),e.after_update.forEach(te)}}let he;function Le(){return he||(he=Promise.resolve(),he.then(()=>{he=null})),he}function K(e,t,n){e.dispatchEvent(Ce(`${t?\"intro\":\"outro\"}${n}`))}const we=new Set;let V;function ne(){V={r:0,c:[],p:V}}function oe(){V.r||R(V.c),V=V.p}function D(e,t){e&&e.i&&(we.delete(e),e.i(t))}function x(e,t,n,o){if(e&&e.o){if(we.has(e))return;we.add(e),V.c.push(()=>{we.delete(e),o&&(n&&e.d(1),o())}),e.o(t)}}const Ne={duration:0};function qo(e,t,n){let o=t(e,n),i=!1,s,l,r=0;function u(){s&&ae(e,s)}function a(){const{delay:h=0,duration:g=300,easing:p=ge,tick:f=L,css:m}=o||Ne;m&&(s=ce(e,0,1,g,h,p,m,r++)),f(0,1);const c=ue()+h,_=c+g;l&&l.abort(),i=!0,te(()=>K(e,!0,\"start\")),l=me(v=>{if(i){if(v>=_)return f(1,0),K(e,!0,\"end\"),u(),i=!1;if(v>=c){const y=p((v-c)/g);f(y,1-y)}}return i})}let d=!1;return{start(){d||(ae(e),re(o)?(o=o(),Le().then(a)):a())},invalidate(){d=!1},end(){i&&(u(),i=!1)}}}function Eo(e,t,n){let o=t(e,n),i=!0,s;const l=V;l.r+=1;function r(){const{delay:u=0,duration:a=300,easing:d=ge,tick:h=L,css:g}=o||Ne;g&&(s=ce(e,1,0,a,u,d,g));const p=ue()+u,f=p+a;te(()=>K(e,!1,\"start\")),me(m=>{if(i){if(m>=f)return h(0,1),K(e,!1,\"end\"),--l.r||R(l.c),!1;if(m>=p){const c=d((m-p)/a);h(1-c,c)}}return i})}return re(o)?Le().then(()=>{o=o(),r()}):r(),{end(u){u&&o.tick&&o.tick(1,0),i&&(s&&ae(e,s),i=!1)}}}function So(e,t,n,o){let i=t(e,n),s=o?0:1,l=null,r=null,u=null;function a(){u&&ae(e,u)}function d(g,p){const f=g.b-s;return p*=Math.abs(f),{a:s,b:g.b,d:f,duration:p,start:g.start,end:g.start+p,group:g.group}}function h(g){const{delay:p=0,duration:f=300,easing:m=ge,tick:c=L,css:_}=i||Ne,v={start:ue()+p,b:g};g||(v.group=V,V.r+=1),l||r?r=v:(_&&(a(),u=ce(e,s,g,f,p,m,_)),g&&c(0,1),l=d(v,f),te(()=>K(e,g,\"start\")),me(y=>{if(r&&y>r.start&&(l=d(r,f),r=null,K(e,l.b,\"start\"),_&&(a(),u=ce(e,s,l.b,l.duration,0,m,i.css))),l){if(y>=l.end)c(s=l.b,1-s),K(e,l.b,\"end\"),r||(l.b?a():--l.group.r||R(l.group.c)),l=null;else if(y>=l.start){const q=y-l.start;s=l.a+l.d*m(q/l.duration),c(s,1-s)}}return!!(l||r)}))}return{run(g){re(i)?Le().then(()=>{i=i(),h(g)}):h(g)},end(){a(),l=r=null}}}function zo(e,t){const n=t.token={};function o(i,s,l,r){if(t.token!==n)return;t.resolved=r;let u=t.ctx;l!==void 0&&(u=u.slice(),u[l]=r);const a=i&&(t.current=i)(u);let d=!1;t.block&&(t.blocks?t.blocks.forEach((h,g)=>{g!==s&&h&&(ne(),x(h,1,1,()=>{t.blocks[g]===h&&(t.blocks[g]=null)}),oe())}):t.block.d(1),a.c(),D(a,1),a.m(t.mount(),t.anchor),d=!0),t.block=a,t.blocks&&(t.blocks[s]=a),d&&je()}if(qt(e)){const i=U();if(e.then(s=>{I(i),o(t.then,1,t.value,s),I(null)},s=>{if(I(i),o(t.catch,2,t.error,s),I(null),!t.hasCatch)throw s}),t.current!==t.pending)return o(t.pending,0),!0}else{if(t.current!==t.then)return o(t.then,1,t.value,e),!0;t.resolved=e}}const Mo=typeof window!=\"undefined\"?window:typeof globalThis!=\"undefined\"?globalThis:global;function Pt(e,t){e.d(1),t.delete(e.key)}function Rt(e,t){x(e,1,1,()=>{t.delete(e.key)})}function Co(e,t){e.f(),Pt(e,t)}function Ao(e,t){e.f(),Rt(e,t)}function Do(e,t,n,o,i,s,l,r,u,a,d,h){let g=e.length,p=s.length,f=g;const m={};for(;f--;)m[e[f].key]=f;const c=[],_=new Map,v=new Map;for(f=p;f--;){const b=h(i,s,f),k=n(b);let w=l.get(k);w?o&&w.p(b,t):(w=a(k,b),w.c()),_.set(k,c[f]=w),k in m&&v.set(k,Math.abs(f-m[k]))}const y=new Set,q=new Set;function T(b){D(b,1),b.m(r,d),l.set(b.key,b),d=b.first,p--}for(;g&&p;){const b=c[p-1],k=e[g-1],w=b.key,A=k.key;b===k?(d=b.first,g--,p--):_.has(A)?!l.has(w)||y.has(w)?T(b):q.has(A)?g--:v.get(w)>v.get(A)?(q.add(w),T(b)):(y.add(A),g--):(u(k,l),g--)}for(;g--;){const b=e[g];_.has(b.key)||u(b,l)}for(;p;)T(c[p-1]);return c}function Oo(e,t,n,o){const i=new Set;for(let s=0;s<t.length;s++){const l=o(n(e,t,s));if(i.has(l))throw new Error(\"Cannot have duplicate keys in a keyed each\");i.add(l)}}function xo(e,t){const n={},o={},i={$$scope:1};let s=e.length;for(;s--;){const l=e[s],r=t[s];if(r){for(const u in l)u in r||(o[u]=1);for(const u in r)i[u]||(n[u]=r[u],i[u]=1);e[s]=r}else for(const u in l)i[u]=1}for(const l in o)l in n||(n[l]=void 0);return n}function To(e){return typeof e==\"object\"&&e!==null?e:{}}const Bt=new Set([\"allowfullscreen\",\"allowpaymentrequest\",\"async\",\"autofocus\",\"autoplay\",\"checked\",\"controls\",\"default\",\"defer\",\"disabled\",\"formnovalidate\",\"hidden\",\"ismap\",\"loop\",\"multiple\",\"muted\",\"nomodule\",\"novalidate\",\"open\",\"playsinline\",\"readonly\",\"required\",\"reversed\",\"selected\"]),Ht=/[\\s'\">/=\\u{FDD0}-\\u{FDEF}\\u{FFFE}\\u{FFFF}\\u{1FFFE}\\u{1FFFF}\\u{2FFFE}\\u{2FFFF}\\u{3FFFE}\\u{3FFFF}\\u{4FFFE}\\u{4FFFF}\\u{5FFFE}\\u{5FFFF}\\u{6FFFE}\\u{6FFFF}\\u{7FFFE}\\u{7FFFF}\\u{8FFFE}\\u{8FFFF}\\u{9FFFE}\\u{9FFFF}\\u{AFFFE}\\u{AFFFF}\\u{BFFFE}\\u{BFFFF}\\u{CFFFE}\\u{CFFFF}\\u{DFFFE}\\u{DFFFF}\\u{EFFFE}\\u{EFFFF}\\u{FFFFE}\\u{FFFFF}\\u{10FFFE}\\u{10FFFF}]/u;function jo(e,t){const n=Object.assign({},...e);t&&(n.class==null?n.class=t:n.class+=\" \"+t);let o=\"\";return Object.keys(n).forEach(i=>{if(Ht.test(i))return;const s=n[i];s===!0?o+=\" \"+i:Bt.has(i.toLowerCase())?s&&(o+=\" \"+i):s!=null&&(o+=` ${i}=\"${String(s).replace(/\"/g,\"&#34;\").replace(/'/g,\"&#39;\")}\"`)}),o}const It={'\"':\"&quot;\",\"'\":\"&#39;\",\"&\":\"&amp;\",\"<\":\"&lt;\",\">\":\"&gt;\"};function Vt(e){return String(e).replace(/[\"'&<>]/g,t=>It[t])}function Lo(e,t){let n=\"\";for(let o=0;o<e.length;o+=1)n+=t(e[o],o);return n}const No={$$render:()=>\"\"};function Po(e,t){if(!e||!e.$$render)throw t===\"svelte:component\"&&(t+=\" this={...}\"),new Error(`<${t}> is not a valid SSR component. You may need to review your build config to ensure that dependencies are compiled, rather than imported as pre-compiled modules`);return e}function Ro(e,t,n,o){return console.log(`{@debug} ${e?e+\" \":\"\"}(${t}:${n})`),console.log(o),\"\"}let Pe;function Bo(e){function t(n,o,i,s){const l=fe,r={on_destroy:Pe,context:new Map(l?l.$$.context:[]),on_mount:[],before_update:[],after_update:[],callbacks:Se()};I({$$:r});const u=e(n,o,i,s);return I(l),u}return{render:(n={},o={})=>{Pe=[];const i={title:\"\",head:\"\",css:new Set},s=t(i,n,{},o);return R(Pe),{html:s,css:{code:Array.from(i.css).map(l=>l.code).join(`\n",
              "`),map:null},head:i.title+i.head}},$$render:t}}function Ho(e,t,n){return t==null||n&&!t?\"\":` ${e}${t===!0?\"\":`=${typeof t==\"string\"?JSON.stringify(Vt(t)):`\"${t}\"`}`}`}function Io(e){return e?` class=\"${e}\"`:\"\"}function it(e,t,n){const o=e.$$.props[t];o!==void 0&&(e.$$.bound[o]=n,n(e.$$.ctx[o]))}function ie(e){e&&e.c()}function Vo(e,t){e&&e.l(t)}function Q(e,t,n){const{fragment:o,on_mount:i,on_destroy:s,after_update:l}=e.$$;o&&o.m(t,n),te(()=>{const r=i.map(Ge).filter(re);s?s.push(...r):R(r),e.$$.on_mount=[]}),l.forEach(te)}function J(e,t){const n=e.$$;n.fragment!==null&&(R(n.on_destroy),n.fragment&&n.fragment.d(t),n.on_destroy=n.fragment=null,n.ctx=[])}function Wt(e,t){e.$$.dirty[0]===-1&&(de.push(e),nt(),e.$$.dirty.fill(0)),e.$$.dirty[t/31|0]|=1<<t%31}function Re(e,t,n,o,i,s,l=[-1]){const r=fe;I(e);const u=t.props||{},a=e.$$={fragment:null,ctx:null,props:s,update:L,not_equal:i,bound:Se(),on_mount:[],on_destroy:[],before_update:[],after_update:[],context:new Map(r?r.$$.context:[]),callbacks:Se(),dirty:l,skip_bound:!1};let d=!1;if(a.ctx=n?n(e,u,(h,g,...p)=>{const f=p.length?p[0]:g;return a.ctx&&i(a.ctx[h],a.ctx[h]=f)&&(!a.skip_bound&&a.bound[h]&&a.bound[h](f),d&&Wt(e,h)),g}):[],a.update(),d=!0,R(a.before_update),a.fragment=o?o(a.ctx):!1,t.target){if(t.hydrate){const h=At(t.target);a.fragment&&a.fragment.l(h),h.forEach(M)}else a.fragment&&a.fragment.c();t.intro&&D(e.$$.fragment),Q(e,t.target,t.anchor),je()}I(r)}let Yt;typeof HTMLElement==\"function\"&&(Yt=class extends HTMLElement{constructor(){super(),this.attachShadow({mode:\"open\"})}connectedCallback(){for(const e in this.$$.slotted)this.appendChild(this.$$.slotted[e])}attributeChangedCallback(e,t,n){this[e]=n}$destroy(){J(this,1),this.$destroy=L}$on(e,t){const n=this.$$.callbacks[e]||(this.$$.callbacks[e]=[]);return n.push(t),()=>{const o=n.indexOf(t);o!==-1&&n.splice(o,1)}}$set(e){this.$$set&&!Ke(e)&&(this.$$.skip_bound=!0,this.$$set(e),this.$$.skip_bound=!1)}});class Be{$destroy(){J(this,1),this.$destroy=L}$on(t,n){const o=this.$$.callbacks[t]||(this.$$.callbacks[t]=[]);return o.push(n),()=>{const i=o.indexOf(n);i!==-1&&o.splice(i,1)}}$set(t){this.$$set&&!Ke(t)&&(this.$$.skip_bound=!0,this.$$set(t),this.$$.skip_bound=!1)}}function W(e,t){document.dispatchEvent(Ce(e,Object.assign({version:\"3.31.2\"},t)))}function Wo(e,t){W(\"SvelteDOMInsert\",{target:e,node:t}),S(e,t)}function Yo(e,t,n){W(\"SvelteDOMInsert\",{target:e,node:t,anchor:n}),C(e,t,n)}function He(e){W(\"SvelteDOMRemove\",{node:e}),M(e)}function Uo(e,t){for(;e.nextSibling&&e.nextSibling!==t;)He(e.nextSibling)}function Jo(e){for(;e.previousSibling;)He(e.previousSibling)}function Xo(e){for(;e.nextSibling;)He(e.nextSibling)}function Go(e,t,n,o,i,s){const l=o===!0?[\"capture\"]:o?Array.from(Object.keys(o)):[];i&&l.push(\"preventDefault\"),s&&l.push(\"stopPropagation\"),W(\"SvelteDOMAddEventListener\",{node:e,event:t,handler:n,modifiers:l});const r=H(e,t,n,o);return()=>{W(\"SvelteDOMRemoveEventListener\",{node:e,event:t,handler:n,modifiers:l}),r()}}function Ko(e,t,n){F(e,t,n),n==null?W(\"SvelteDOMRemoveAttribute\",{node:e,attribute:t}):W(\"SvelteDOMSetAttribute\",{node:e,attribute:t,value:n})}function Qo(e,t,n){e[t]=n,W(\"SvelteDOMSetProperty\",{node:e,property:t,value:n})}function Zo(e,t,n){e.dataset[t]=n,W(\"SvelteDOMSetDataset\",{node:e,property:t,value:n})}function $o(e,t){t=\"\"+t,e.wholeText!==t&&(W(\"SvelteDOMSetData\",{node:e,data:t}),e.data=t)}function ei(e){if(typeof e!=\"string\"&&!(e&&typeof e==\"object\"&&\"length\"in e)){let t=\"{#each} only iterates over array-like objects.\";throw typeof Symbol==\"function\"&&e&&Symbol.iterator in e&&(t+=\" You can use a spread to convert this iterable into an array.\"),new Error(t)}}function ti(e,t,n){for(const o of Object.keys(t))~n.indexOf(o)||console.warn(`<${e}> received an unexpected slot \"${o}\".`)}class ni extends null{constructor(t){if(!t||!t.target&&!t.$$inline)throw new Error(\"'target' is a required option\");super()}$destroy(){super.$destroy(),this.$destroy=()=>{console.warn(\"Component was already destroyed\")}}$capture_state(){}$inject_state(){}}class oi extends null{constructor(t){super(t)}}function ii(e){const t=Date.now();return()=>{if(Date.now()-t>e)throw new Error(\"Infinite loop detected\")}}function li(e,t){return e.map((n,o)=>n+t[o])}function si(e,t){return t.map(n=>e*n)}function Ut(e,t,n){return e.map((o,i)=>(1-n)*o+n*t[i])}function lt(e,t=2){if(!(\"length\"in e))return Jt(e,t);for(var n=0,o=0;o<e.length;o++)n+=Math.pow(Math.abs(e[o]),t);return Math.pow(n,1/t)}function Jt(e,t=2){for(var n=0,o=0;o<e.shape[0];o++)n+=Math.pow(Math.abs(e.get(o)),t);return Math.pow(n,1/t)}function Ie(e,t=2){var n=lt(e,t);return e.map(o=>o/(1e-4+n))}function Xt(e){for(var t=[[1,0,0],[1,1,0],[0,1,0],[0,1,1],[0,0,1],[1,0,1]].map(l=>Ie(l,1));e<0;)e+=360;e=e%360;var n=360/t.length,o=Math.floor(e/n),i=(e-o*n)/n,s=Ut(t[o],t[(o+1)%t.length],i);return s=Ie(s,1),s}const Ve=[];function Gt(e){if(e in Ve)return Ve[e];let t=[];for(let n=0;n<e;n++){const o=360*n/e;t.push(Xt(o))}return Ve[e]=t,t}function st(e){return`rgb(${255*e[0]}, ${255*e[1]}, ${255*e[2]})`}function rt(e,t=[.98,.98,.98],n=void 0,o=void 0){const i=\"length\"in e?e.length:e.shape[0],s=\"length\"in e?g=>e[g]:g=>e.get(g);if(o==null&&(o=Gt(i)),console.log(\"Hues\",o),n==null){for(var l=[0,0,0],r=0;r<i;r++){const g=s(r);if(g!=0)for(var u=o[r],a=0;a<3;a++)l[a]+=g*u[a]}l=Ie(l,1);for(var d=lt(e,2),d=Math.max(0,Math.min(1,d)),a=0;a<3;a++)l[a]=d*l[a]+(1-d)*t[a];return l}else{for(var r=n,h=o[r],l=[0,0,0],a=0;a<3;a++)l[a]=s(r)*h[a]+(1-s(r))*t[a];return l}}function We(e,t=[.98,.98,.98],n=void 0,o=void 0){var i=rt(e,t,n,o);return st(i)}function Kt(e,t=[.98,.98,.98]){if(e>=0)for(var n=[0,.7,0],o=[0,0,0],i=0;i<3;i++)o[i]=e*n[i]+(1-e)*t[i];else for(var n=[1,0,0],o=[0,0,0],i=0;i<3;i++)o[i]=-e*n[i]+(1+e)*t[i];return console.log(\"Neuron color\",e,o),o}function ri(e,t=[.98,.98,.98]){var n=Kt(e,t);return st(n)}function Qt(){var e=z(\"style\");e.id=\"svelte-1vzuzhc-style\",e.textContent=\".container.svelte-1vzuzhc.svelte-1vzuzhc{position:relative;border:1px solid #aaa}.container.svelte-1vzuzhc>.svelte-1vzuzhc{position:absolute;width:100%;left:0px}.container.svelte-1vzuzhc canvas.svelte-1vzuzhc{top:0px;height:100%;image-rendering:pixelated}.container.svelte-1vzuzhc .focus-top.svelte-1vzuzhc,.container.svelte-1vzuzhc .focus-bottom.svelte-1vzuzhc{background:#aaa;opacity:0.3}.container.svelte-1vzuzhc .focus-top.svelte-1vzuzhc{top:0px}.container.svelte-1vzuzhc .focus-bottom.svelte-1vzuzhc{bottom:0px}\",S(document.head,e)}function ut(e){let t,n,o;return{c(){t=z(\"div\"),n=j(),o=z(\"div\"),F(t,\"class\",\"focus-top svelte-1vzuzhc\"),O(t,\"height\",e[2]*e[3]/e[0].shape[0]+\"px\"),F(o,\"class\",\"focus-bottom svelte-1vzuzhc\"),O(o,\"height\",e[2]*(1-(e[3]+1)/e[0].shape[0])+\"px\")},m(i,s){C(i,t,s),C(i,n,s),C(i,o,s)},p(i,s){s&13&&O(t,\"height\",i[2]*i[3]/i[0].shape[0]+\"px\"),s&13&&O(o,\"height\",i[2]*(1-(i[3]+1)/i[0].shape[0])+\"px\")},d(i){i&&M(t),i&&M(n),i&&M(o)}}}function Zt(e){let t,n,o,i=e[3]!=null&&ut(e);return{c(){t=z(\"div\"),n=z(\"canvas\"),o=j(),i&&i.c(),O(n,\"width\",e[1]+\"px\"),O(n,\"height\",e[2]+\"px\"),F(n,\"class\",\"svelte-1vzuzhc\"),F(t,\"class\",\"container svelte-1vzuzhc\"),O(t,\"width\",e[1]+\"px\"),O(t,\"height\",e[2]+\"px\")},m(s,l){C(s,t,l),S(t,n),e[8](n),S(t,o),i&&i.m(t,null)},p(s,[l]){l&2&&O(n,\"width\",s[1]+\"px\"),l&4&&O(n,\"height\",s[2]+\"px\"),s[3]!=null?i?i.p(s,l):(i=ut(s),i.c(),i.m(t,null)):i&&(i.d(1),i=null),l&2&&O(t,\"width\",s[1]+\"px\"),l&4&&O(t,\"height\",s[2]+\"px\")},i:L,o:L,d(s){s&&M(t),e[8](null),i&&i.d()}}}function $t(e,t,n){let{array:o}=t,{width:i}=t,{height:s}=t,{hues:l}=t,{focus_token:r}=t,{isolate_channel:u=void 0}=t,{color_map:a=rt}=t,d;function h(f,m,c,_=void 0,v=void 0){if(m<c)return[255,255,255];var y=f.pick(m,c,null),q=a(y,void 0,_,v);return q.map(T=>255*T)}function g(f,m,c=void 0,_=void 0){if(!(f==null||m==null)){f.width=m.shape[0],f.height=m.shape[1];for(var v=f.getContext(\"2d\"),y=v.getImageData(0,0,f.width,f.height),q=0;q<f.width;q++)for(var T=0;T<f.height;T++){for(var b=q*f.width+T,k=h(m,q,T,c,_=_),w=0;w<3;w++)y.data[4*b+w]=k[w];y.data[4*b+3]=255}v.putImageData(y,0,0)}}Lt(()=>g(d,o,u));function p(f){_e[f?\"unshift\":\"push\"](()=>{d=f,n(4,d)})}return e.$$set=f=>{\"array\"in f&&n(0,o=f.array),\"width\"in f&&n(1,i=f.width),\"height\"in f&&n(2,s=f.height),\"hues\"in f&&n(5,l=f.hues),\"focus_token\"in f&&n(3,r=f.focus_token),\"isolate_channel\"in f&&n(6,u=f.isolate_channel),\"color_map\"in f&&n(7,a=f.color_map)},e.$$.update=()=>{if(e.$$.dirty&113){e:g(d,o,u,l)}},[o,i,s,r,d,l,u,a,p]}class en extends Be{constructor(t){super(),document.getElementById(\"svelte-1vzuzhc-style\")||Qt(),Re(this,t,$t,Zt,ze,{array:0,width:1,height:2,hues:5,focus_token:3,isolate_channel:6,color_map:7})}}const Fe=en;function ct(e,t){return e.mode==\"soft\"&&(e.value=t),e}function tn(e,t){if(e.mode==\"soft\")e.value=t,e.mode=\"hard\";else if(e.mode==\"hard\"&&e.value!=t)e.value=t;else return nn(e);return e}function nn(e){return e.value=void 0,e.mode=\"soft\",e}function on(e){let t,n,o,i;const s=e[4].default,l=Et(s,e,e[3],null);return{c(){t=z(\"div\"),l&&l.c(),F(t,\"style\",e[2])},m(r,u){C(r,t,u),l&&l.m(t,null),n=!0,o||(i=[H(t,\"mouseover\",e[5]),H(t,\"click\",e[6]),H(t,\"mouseout\",e[7])],o=!0)},p(r,[u]){l&&l.p&&u&8&&St(l,s,r,r[3],u,null,null),(!n||u&4)&&F(t,\"style\",r[2])},i(r){n||(D(l,r),n=!0)},o(r){x(l,r),n=!1},d(r){r&&M(t),l&&l.d(r),o=!1,R(i)}}}function ln(e,t,n){let{$$slots:o={},$$scope:i}=t,{lock:s}=t,{set_value:l}=t,{style:r=\"\"}=t;const u=()=>{n(0,s=ct(s,l))},a=()=>{n(0,s=tn(s,l))},d=()=>{n(0,s=ct(s,void 0))};return e.$$set=h=>{\"lock\"in h&&n(0,s=h.lock),\"set_value\"in h&&n(1,l=h.set_value),\"style\"in h&&n(2,r=h.style),\"$$scope\"in h&&n(3,i=h.$$scope)},[s,l,r,i,o,u,a,d]}class sn extends Be{constructor(t){super(),Re(this,t,ln,on,ze,{lock:0,set_value:1,style:2})}}const at=sn;function rn(){var e=z(\"style\");e.id=\"svelte-xqk9oe-style\",e.textContent=\".attn-container.svelte-xqk9oe.svelte-xqk9oe.svelte-xqk9oe{display:grid;grid-template-rows:[title] min-content [main] min-content;grid-template-columns:[big-attn] min-content [heads] minmax(min-content, 624px);gap:12px}.figcaption.svelte-xqk9oe.svelte-xqk9oe.svelte-xqk9oe{color:#888;grid-row:title;white-space:nowrap}.tokens-container.svelte-xqk9oe.svelte-xqk9oe.svelte-xqk9oe{display:grid;grid-template-rows:[title] min-content [main] min-content;grid-template-columns:[left] min-content [right] minmax(min-content, 800px) [end];gap:12px;margin-top:24px;color:white}.tokens.svelte-xqk9oe.svelte-xqk9oe.svelte-xqk9oe{grid-row:main;grid-column-start:left;grid-column-end:end;cursor:pointer;height:min-content;line-height:110%}.tokens.svelte-xqk9oe .token.svelte-xqk9oe.svelte-xqk9oe{white-space:pre-wrap}.tokens.svelte-xqk9oe .selected.svelte-xqk9oe.svelte-xqk9oe{border:1px solid #999;z-index:10}.tokens.svelte-xqk9oe .token.svelte-xqk9oe.svelte-xqk9oe:not(.selected){z-index:0;padding:1px}.hover-mode.svelte-xqk9oe.svelte-xqk9oe.svelte-xqk9oe,.hover-mode-text.svelte-xqk9oe.svelte-xqk9oe.svelte-xqk9oe,.info-mode.svelte-xqk9oe.svelte-xqk9oe.svelte-xqk9oe,.info-mode-text.svelte-xqk9oe.svelte-xqk9oe.svelte-xqk9oe{color:#888;grid-row:title;grid-column:settings;cursor:pointer}.hover-mode-text.svelte-xqk9oe.svelte-xqk9oe.svelte-xqk9oe,.info-mode-text.svelte-xqk9oe.svelte-xqk9oe.svelte-xqk9oe{margin-right:8px}.heads.svelte-xqk9oe.svelte-xqk9oe.svelte-xqk9oe{grid-column:heads;grid-row:main;display:flex;flex-direction:row;flex-wrap:wrap;gap:6px;height:min-content}.heads.svelte-xqk9oe .head-icon.svelte-xqk9oe.svelte-xqk9oe{position:relative;width:62px;height:62px}.heads.svelte-xqk9oe .head-icon.svelte-xqk9oe>.svelte-xqk9oe{position:absolute;right:0px;top:0px}.heads.svelte-xqk9oe .head-icon .head-label.svelte-xqk9oe.svelte-xqk9oe{background:#333;color:#eee;font-size:65%;padding:1px;border-bottom-left-radius:2px;padding-left:4px;padding-right:2px;min-width:14px;opacity:0.75}\",S(document.head,e)}function ft(e,t,n){const o=e.slice();return o[32]=t[n],o[34]=n,o}function dt(e,t,n){const o=e.slice();return o[35]=t[n],o}function _t(e){let t,n=e[15][e[10]]+\"\",o,i;return{c(){t=N(\"(\"),o=N(n),i=N(\")\")},m(s,l){C(s,t,l),C(s,o,l),C(s,i,l)},p(s,l){l[0]&33792&&n!==(n=s[15][s[10]]+\"\")&&ve(o,n)},d(s){s&&M(t),s&&M(o),s&&M(i)}}}function ht(e){let t,n,o,i;return n=new Fe({props:{array:e[7],width:\"200\",height:\"200\",focus_token:e[9],isolate_channel:e[10]}}),{c(){t=z(\"div\"),ie(n.$$.fragment),F(t,\"style\",o=\"grid-column: big-attn; grid-row: main; \"+(e[11]?\"\":\"display:none;\"))},m(s,l){C(s,t,l),Q(n,t,null),i=!0},p(s,l){const r={};l[0]&128&&(r.array=s[7]),l[0]&512&&(r.focus_token=s[9]),l[0]&1024&&(r.isolate_channel=s[10]),n.$set(r),(!i||l[0]&2048&&o!==(o=\"grid-column: big-attn; grid-row: main; \"+(s[11]?\"\":\"display:none;\")))&&F(t,\"style\",o)},i(s){i||(D(n.$$.fragment,s),i=!0)},o(s){x(n.$$.fragment,s),i=!1},d(s){s&&M(t),J(n)}}}function gt(e){let t,n,o,i,s=le(e[12].shape[2]),l=[];for(let u=0;u<s.length;u+=1)l[u]=pt(dt(e,s,u));const r=u=>x(l[u],1,1,()=>{l[u]=null});return{c(){t=z(\"div\"),t.textContent=\"Attention Heads (hover to focus, click to lock)\",n=j(),o=z(\"div\");for(let u=0;u<l.length;u+=1)l[u].c();F(t,\"class\",\"figcaption svelte-xqk9oe\"),O(t,\"grid-column\",\"heads\"),F(o,\"class\",\"heads svelte-xqk9oe\")},m(u,a){C(u,t,a),C(u,n,a),C(u,o,a);for(let d=0;d<l.length;d+=1)l[d].m(o,null);i=!0},p(u,a){if(a[0]&122566){s=le(u[12].shape[2]);let d;for(d=0;d<s.length;d+=1){const h=dt(u,s,d);l[d]?(l[d].p(h,a),D(l[d],1)):(l[d]=pt(h),l[d].c(),D(l[d],1),l[d].m(o,null))}for(ne(),d=s.length;d<l.length;d+=1)r(d);oe()}},i(u){if(!i){for(let a=0;a<s.length;a+=1)D(l[a]);i=!0}},o(u){l=l.filter(Boolean);for(let a=0;a<l.length;a+=1)x(l[a]);i=!1},d(u){u&&M(t),u&&M(n),u&&M(o),et(l,u)}}}function un(e){let t,n,o,i,s=(e[15][e[35]]!=null?e[15][e[35]]:\"&nbsp\")+\"\",l,r,u,a,d,h,g=(e[15][e[35]]!=null?e[15][e[35]]:\"&nbsp\")+\"\",p,f,m;return n=new Fe({props:{array:e[7],width:\"60\",height:\"60\",isolate_channel:e[35]}}),a=new Fe({props:{array:e[6],width:\"60\",height:\"60\",isolate_channel:e[35]}}),{c(){t=z(\"div\"),ie(n.$$.fragment),o=j(),i=z(\"div\"),r=j(),u=z(\"div\"),ie(a.$$.fragment),d=j(),h=z(\"div\"),f=j(),F(i,\"class\",\"head-label svelte-xqk9oe\"),O(i,\"background\",e[14][e[35]]),F(t,\"class\",\"head-icon svelte-xqk9oe\"),F(t,\"style\",l=\"opacity: \"+(e[10]!=null&&e[10]!=e[35]?\"0.2\":e[16](e[35],e[9],e[2]))+`;\n",
              "                        `+(e[11]?\"\":\"display:none;\")),F(h,\"class\",\"head-label svelte-xqk9oe\"),O(h,\"background\",e[14][e[35]]),F(u,\"class\",\"head-icon svelte-xqk9oe\"),F(u,\"style\",p=\"opacity: \"+(e[10]!=null&&e[10]!=e[35]?\"0.2\":e[16](e[35],e[9],e[2]))+`;\n",
              "                        `+(e[11]?\"display:none;\":\"\"))},m(c,_){C(c,t,_),Q(n,t,null),S(t,o),S(t,i),i.innerHTML=s,C(c,r,_),C(c,u,_),Q(a,u,null),S(u,d),S(u,h),h.innerHTML=g,C(c,f,_),m=!0},p(c,_){const v={};_[0]&128&&(v.array=c[7]),_[0]&4096&&(v.isolate_channel=c[35]),n.$set(v),(!m||_[0]&36864)&&s!==(s=(c[15][c[35]]!=null?c[15][c[35]]:\"&nbsp\")+\"\")&&(i.innerHTML=s),(!m||_[0]&20480)&&O(i,\"background\",c[14][c[35]]),(!m||_[0]&7684&&l!==(l=\"opacity: \"+(c[10]!=null&&c[10]!=c[35]?\"0.2\":c[16](c[35],c[9],c[2]))+`;\n",
              "                        `+(c[11]?\"\":\"display:none;\")))&&F(t,\"style\",l);const y={};_[0]&64&&(y.array=c[6]),_[0]&4096&&(y.isolate_channel=c[35]),a.$set(y),(!m||_[0]&36864)&&g!==(g=(c[15][c[35]]!=null?c[15][c[35]]:\"&nbsp\")+\"\")&&(h.innerHTML=g),(!m||_[0]&20480)&&O(h,\"background\",c[14][c[35]]),(!m||_[0]&7684&&p!==(p=\"opacity: \"+(c[10]!=null&&c[10]!=c[35]?\"0.2\":c[16](c[35],c[9],c[2]))+`;\n",
              "                        `+(c[11]?\"display:none;\":\"\")))&&F(u,\"style\",p)},i(c){m||(D(n.$$.fragment,c),D(a.$$.fragment,c),m=!0)},o(c){x(n.$$.fragment,c),x(a.$$.fragment,c),m=!1},d(c){c&&M(t),J(n),c&&M(r),c&&M(u),J(a),c&&M(f)}}}function pt(e){let t,n,o;function i(l){e[22].call(null,l)}let s={set_value:e[35],$$slots:{default:[un]},$$scope:{ctx:e}};return e[1]!==void 0&&(s.lock=e[1]),t=new at({props:s}),_e.push(()=>it(t,\"lock\",i)),{c(){ie(t.$$.fragment)},m(l,r){Q(t,l,r),o=!0},p(l,r){const u={};r[0]&4096&&(u.set_value=l[35]),r[0]&57028|r[1]&128&&(u.$$scope={dirty:r,ctx:l}),!n&&r[0]&2&&(n=!0,u.lock=l[1],ot(()=>n=!1)),t.$set(u)},i(l){o||(D(t.$$.fragment,l),o=!0)},o(l){x(t.$$.fragment,l),o=!1},d(l){J(t,l)}}}function mt(e){let t,n,o,i,s,l,r,u,a,d,h,g,p=e[2]?\"target\":\"source\",f,m,c,_,v,y=e[5],q=[];for(let k=0;k<y.length;k+=1)q[k]=vt(ft(e,y,k));const T=k=>x(q[k],1,1,()=>{q[k]=null});let b=e[7]!==void 0&&kt(e);return{c(){t=z(\"div\"),n=z(\"div\"),n.textContent=\"Tokens (hover to focus, click to lock)\",o=j(),i=z(\"div\");for(let k=0;k<q.length;k+=1)q[k].c();s=j(),l=z(\"div\"),r=z(\"nobr\"),u=z(\"input\"),a=j(),d=z(\"span\"),h=N(`Selected is\n",
              "            `),g=z(\"b\"),f=N(p),m=j(),b&&b.c(),F(n,\"class\",\"figcaption svelte-xqk9oe\"),O(n,\"grid-column\",\"left\"),F(i,\"class\",\"tokens svelte-xqk9oe\"),F(u,\"class\",\"hover-mode svelte-xqk9oe\"),F(u,\"type\",\"checkbox\"),F(d,\"class\",\"hover-mode-text svelte-xqk9oe\"),O(d,\"white-space\",\"nowrap\"),F(l,\"class\",\"toggle\"),F(t,\"class\",\"tokens-container svelte-xqk9oe\")},m(k,w){C(k,t,w),S(t,n),S(t,o),S(t,i);for(let A=0;A<q.length;A+=1)q[A].m(i,null);S(t,s),S(t,l),S(l,r),S(r,u),u.checked=e[2],S(r,a),S(r,d),S(d,h),S(d,g),S(g,f),S(r,m),b&&b.m(r,null),c=!0,_||(v=[H(u,\"change\",e[24]),H(d,\"click\",e[25])],_=!0)},p(k,w){if(w[0]&561){y=k[5];let A;for(A=0;A<y.length;A+=1){const qe=ft(k,y,A);q[A]?(q[A].p(qe,w),D(q[A],1)):(q[A]=vt(qe),q[A].c(),D(q[A],1),q[A].m(i,null))}for(ne(),A=y.length;A<q.length;A+=1)T(A);oe()}w[0]&4&&(u.checked=k[2]),(!c||w[0]&4)&&p!==(p=k[2]?\"target\":\"source\")&&ve(f,p),k[7]!==void 0?b?b.p(k,w):(b=kt(k),b.c(),b.m(r,null)):b&&(b.d(1),b=null)},i(k){if(!c){for(let w=0;w<y.length;w+=1)D(q[w]);c=!0}},o(k){q=q.filter(Boolean);for(let w=0;w<q.length;w+=1)x(q[w]);c=!1},d(k){k&&M(t),et(q,k),b&&b.d(),_=!1,R(v)}}}function cn(e){let t,n=e[32]+\"\",o,i;return{c(){t=z(\"span\"),o=N(n),F(t,\"class\",i=\"token \"+(e[34]==e[9]?\"selected\":\"\")+\" svelte-xqk9oe\"),O(t,\"background\",e[4][e[34]])},m(s,l){C(s,t,l),S(t,o)},p(s,l){l[0]&32&&n!==(n=s[32]+\"\")&&ve(o,n),l[0]&512&&i!==(i=\"token \"+(s[34]==s[9]?\"selected\":\"\")+\" svelte-xqk9oe\")&&F(t,\"class\",i),l[0]&16&&O(t,\"background\",s[4][s[34]])},d(s){s&&M(t)}}}function vt(e){let t,n,o;function i(l){e[23].call(null,l)}let s={set_value:e[34],style:\"display: inline\",$$slots:{default:[cn]},$$scope:{ctx:e}};return e[0]!==void 0&&(s.lock=e[0]),t=new at({props:s}),_e.push(()=>it(t,\"lock\",i)),{c(){ie(t.$$.fragment)},m(l,r){Q(t,l,r),o=!0},p(l,r){const u={};r[0]&560|r[1]&128&&(u.$$scope={dirty:r,ctx:l}),!n&&r[0]&1&&(n=!0,u.lock=l[0],ot(()=>n=!1)),t.$set(u)},i(l){o||(D(t.$$.fragment,l),o=!0)},o(l){x(t.$$.fragment,l),o=!1},d(l){J(t,l)}}}function kt(e){let t,n,o,i,s,l=e[3]?\"info-weighted\":\"unmodified\",r,u,a;return{c(){t=z(\"input\"),n=j(),o=z(\"span\"),i=N(`Attention is\n",
              "            `),s=z(\"b\"),r=N(l),F(t,\"class\",\"info-mode svelte-xqk9oe\"),F(t,\"type\",\"checkbox\"),F(o,\"class\",\"info-mode-text svelte-xqk9oe\"),O(o,\"white-space\",\"nowrap\")},m(d,h){C(d,t,h),t.checked=e[3],C(d,n,h),C(d,o,h),S(o,i),S(o,s),S(s,r),u||(a=[H(t,\"change\",e[26]),H(o,\"click\",e[27])],u=!0)},p(d,h){h[0]&8&&(t.checked=d[3]),h[0]&8&&l!==(l=d[3]?\"info-weighted\":\"unmodified\")&&ve(r,l)},d(d){d&&M(t),d&&M(n),d&&M(o),u=!1,R(a)}}}function an(e){let t,n,o,i,s,l,r,u,a,d,h,g,p=e[10]!=null&&_t(e),f=e[7]!==void 0&&ht(e);r=new Fe({props:{array:e[6],width:\"200\",height:\"200\",focus_token:e[9],isolate_channel:e[10]}});let m=e[13]>1&&gt(e),c=e[8]&&mt(e);return{c(){t=z(\"div\"),n=z(\"div\"),o=N(`Attention Pattern\n",
              "        `),p&&p.c(),i=j(),f&&f.c(),s=j(),l=z(\"div\"),ie(r.$$.fragment),a=j(),m&&m.c(),d=j(),c&&c.c(),h=Ct(),F(n,\"class\",\"figcaption svelte-xqk9oe\"),O(n,\"grid-column\",\"big-attn\"),F(l,\"style\",u=\"grid-column: big-attn; grid-row: main; \"+(e[11]?\"display:none\":\"\")),F(t,\"class\",\"attn-container svelte-xqk9oe\")},m(_,v){C(_,t,v),S(t,n),S(n,o),p&&p.m(n,null),S(t,i),f&&f.m(t,null),S(t,s),S(t,l),Q(r,l,null),S(t,a),m&&m.m(t,null),C(_,d,v),c&&c.m(_,v),C(_,h,v),g=!0},p(_,v){_[10]!=null?p?p.p(_,v):(p=_t(_),p.c(),p.m(n,null)):p&&(p.d(1),p=null),_[7]!==void 0?f?(f.p(_,v),v[0]&128&&D(f,1)):(f=ht(_),f.c(),D(f,1),f.m(t,s)):f&&(ne(),x(f,1,1,()=>{f=null}),oe());const y={};v[0]&64&&(y.array=_[6]),v[0]&512&&(y.focus_token=_[9]),v[0]&1024&&(y.isolate_channel=_[10]),r.$set(y),(!g||v[0]&2048&&u!==(u=\"grid-column: big-attn; grid-row: main; \"+(_[11]?\"display:none\":\"\")))&&F(l,\"style\",u),_[13]>1?m?(m.p(_,v),v[0]&8192&&D(m,1)):(m=gt(_),m.c(),D(m,1),m.m(t,null)):m&&(ne(),x(m,1,1,()=>{m=null}),oe()),_[8]?c?(c.p(_,v),v[0]&256&&D(c,1)):(c=mt(_),c.c(),D(c,1),c.m(h.parentNode,h)):c&&(ne(),x(c,1,1,()=>{c=null}),oe())},i(_){g||(D(f),D(r.$$.fragment,_),D(m),D(c),g=!0)},o(_){x(f),x(r.$$.fragment,_),x(m),x(c),g=!1},d(_){_&&M(t),p&&p.d(),f&&f.d(),J(r),m&&m.d(),_&&M(d),c&&c.d(_),_&&M(h)}}}function le(e){return[...Array(e).keys()]}function bt(e){if(e!==void 0){for(var t=[],n=0;n<e.shape[0];n++){t.push([]);for(var o=0;o<e.shape[2];o++){for(var i=0,s=0;s<e.shape[1];s++)i=Math.max(i,e.pick(n,s,o));t[n].push(i)}}return t}}function yt(e){if(e!==void 0){for(var t=[],n=0;n<e.shape[0];n++){t.push([]);for(var o=0;o<e.shape[2];o++){for(var i=0,s=0;s<e.shape[1];s++)i=Math.max(i,e.pick(s,n,o));t[n].push(i)}}return t}}function fn(e,t,n){let o,i,s,l,r,u,a,d,h,g,p,f,m,{tokens:c}=t,{attention:_}=t,{info_weighted:v}=t,{head_labels:y}=t,{show_tokens:q=!0}=t,{focus_token_lock:T={value:void 0,mode:\"soft\"}}=t,{focus_head_lock:b={value:void 0,mode:\"soft\"}}=t,{hover_token_is_target:k=!1}=t,{_show_info_weighted:w=!1}=t;function A(E,Y,X,Z=void 0){if(Y<X)return\"#FFF\";var se=E.pick(Y,X,null);return We(se,void 0,Z)}function qe(E,Y,X){if(Y==null)var Z=1;else var se=X?g:h,Z=Math.max(0,Math.min(1,se[Y][E]));return\"\"+Z}function hn(E,Y,X,Z=void 0,se){if(Y==null){var yn=se?g:h;return We(yn[X],void 0,Z)}let Ue,Je;se?(Ue=X,Je=Y):(Ue=Y,Je=X);let Xe=A(E,Ue,Je,Z);return Xe===\"#FFF\"&&(Xe=\"#DDD\"),Xe}let{all_token_colors:Ye}=t;function gn(E){b=E,n(1,b)}function pn(E){T=E,n(0,T)}function mn(){k=this.checked,n(2,k)}const vn=()=>n(2,k=k^!0);function kn(){w=this.checked,n(3,w)}const bn=()=>n(3,w=w^!0);return e.$$set=E=>{\"tokens\"in E&&n(5,c=E.tokens),\"attention\"in E&&n(6,_=E.attention),\"info_weighted\"in E&&n(7,v=E.info_weighted),\"head_labels\"in E&&n(17,y=E.head_labels),\"show_tokens\"in E&&n(8,q=E.show_tokens),\"focus_token_lock\"in E&&n(0,T=E.focus_token_lock),\"focus_head_lock\"in E&&n(1,b=E.focus_head_lock),\"hover_token_is_target\"in E&&n(2,k=E.hover_token_is_target),\"_show_info_weighted\"in E&&n(3,w=E._show_info_weighted),\"all_token_colors\"in E&&n(4,Ye=E.all_token_colors)},e.$$.update=()=>{if(e.$$.dirty[0]&1){e:n(9,o=T.value)}if(e.$$.dirty[0]&2){e:n(10,i=b.value)}if(e.$$.dirty[0]&136){e:n(11,s=w&&v!==void 0)}if(e.$$.dirty[0]&2240){e:n(12,l=s?v:_)}if(e.$$.dirty[0]&4096){e:window.attention_show=l}if(e.$$.dirty[0]&64){e:n(18,r=bt(_))}if(e.$$.dirty[0]&64){e:n(19,u=yt(_))}if(e.$$.dirty[0]&128){e:n(20,a=bt(v))}if(e.$$.dirty[0]&128){e:n(21,d=yt(v))}if(e.$$.dirty[0]&1312768){e:h=s?a:r}if(e.$$.dirty[0]&2623488){e:g=s?d:u}if(e.$$.dirty[0]&64){e:n(13,p=_.shape[2])}if(e.$$.dirty[0]&8192){e:n(14,f=le(p).map(E=>We(le(p).map(Y=>1),void 0,E)))}if(e.$$.dirty[0]&139264){e:n(15,m=y!=null?y:le(p))}if(e.$$.dirty[0]&5668){e:n(4,Ye=le(c.length).map(E=>hn(l,o,E,i,k)))}},[T,b,k,w,Ye,c,_,v,q,o,i,s,l,p,f,m,qe,y,r,u,a,d,gn,pn,mn,vn,kn,bn]}class dn extends Be{constructor(t){super(),document.getElementById(\"svelte-xqk9oe-style\")||rn(),Re(this,t,fn,an,ze,{tokens:5,attention:6,info_weighted:7,head_labels:17,show_tokens:8,focus_token_lock:0,focus_head_lock:1,hover_token_is_target:2,_show_info_weighted:3,all_token_colors:4},[-1,-1])}}const _n=dn}},Ee={};function $(B){if(Ee[B])return Ee[B].exports;var P=Ee[B]={exports:{}};return wt[B](P,P.exports,$),P.exports}return $.d=(B,P)=>{for(var ee in P)$.o(P,ee)&&!$.o(B,ee)&&Object.defineProperty(B,ee,{enumerable:!0,get:P[ee]})},$.o=(B,P)=>Object.prototype.hasOwnProperty.call(B,P),$(143)})().default;\n",
              "</script>\n",
              "        \n",
              "        <div id=\"AttentionMulti_e57d67\"></div>\n",
              "        <script>\n",
              "        ( () => {\n",
              "            var data = {\n",
              "\"tokens\": [\n",
              "\"66\",\n",
              "\"36\",\n",
              "\"18\",\n",
              "\"86\",\n",
              "\"48\",\n",
              "\"19\",\n",
              "\"24\",\n",
              "\"76\",\n",
              "\"17\",\n",
              "\"64\",\n",
              "\"19\",\n",
              "\"86\",\n",
              "\"48\",\n",
              "\"24\",\n",
              "\"18\",\n",
              "\"17\",\n",
              "\"76\",\n",
              "\"36\",\n",
              "\"66\"\n",
              "],\n",
              "\"attention\": {\n",
              "\"__type__\": \"npy\",\n",
              "\"zdata\": \"eJzNVVtIVEEY/mbPOe7uUVdNMy+lG2VruCZeILbUerEsU0QStRLbWiu0tFwvoEQhRnfCspeofBFJ8SHsYlSmmFBElEV0o6IefAgy0V0vuZfT7Oq65bpUom7fMDDnnzPzf///z3xzIS0zNT2HoBxVCk2+dneJYo1cEV8Wo1DKFXuKS0pL1EV5xSWafIt9g3q/Np/atfvUB/Ppd3i0Sim39LiVSvlh+UzAm4Xxhv8MLZV1pTX1KXzGsYLTlTtvDLmajw2jWaXlDVeSJdy1Uydzdt0ecTUfGwi2k0fIhQhtZBeiOJvdIHwzvjIfGnMdr8ekEV6Qwch3kwLPfiFGV2uqHrTMjMONjkQuYLYaPla/DO0c2sXV4iJymsSOjvW3DzeflyFJ0inuLLTznB9wiCKXSBzCYGYK2L2eR/qbB4YHZJ+m8tjqHSSFJM0P4OkM52S32QNBEU7ROvohgm1gd3guD0j38WU1Do67evfVPk7oaJlcJ2rJ1t8pXj/nBCfwoedN8EPxCaRR1ymUtT/qxJu4IeY5TtIxg75I0/szg1UGy7kbP3XMfFGzQk/qED9NvdJNcuGe8NVBh+9iM2XqNS/cpsP3z5fHzKYVTt8Hr1A1B9HbOfOfCRWUtFJNQrfwUjC68J1iYbkF8Qgm9bQmUzFgrhhKNnXo7JZY5GAxXiBGep+8dp99PrxVERispMyyEKL9zrZD5SBWNaJtkFDWNuwt7O3fY77a1xui4bsQ6G2zM050TkJ1kkfFDPhZ9rPrulloFd4JT43AEnqa1/6DqBL8rn0R9B7rZkGUnUVsQwCisdDB+kzwE5KEB0IE6pGHcJp7JZZPxDkzUtyEAq2CLzywjO66EVKHv8rdjjJlrD2hLNRExccjbLRHH/fFMPonL+sgYyWyc+wPNJObZOk/s/yoz711vT7x7FT7FvKEuSNqmhQ0f+wM/JxgDMpAK6cWZfsSGhOBJ5zprDsS2Ta36MBt0sjQkQWBvH3GgzY/GqeKvchkBNus0Uwd3+2eiuOGOL1OVz2pB6z1ftrhP3E/bCBYRPNrecU0NLuyv4jYzbq+EZF0BLpGgl8r7I4DCMEkLfwEVo3gPQ==\",\n",
              "\"min\": 0.0,\n",
              "\"max\": 1.0\n",
              "}\n",
              "};\n",
              "            data = loader.unpack_obj(data);\n",
              "            window.AttentionMulti_data = data;\n",
              "            var AttentionMulti_inst = new AttentionMulti({\n",
              "                \"target\": document.getElementById(\"AttentionMulti_e57d67\"),\n",
              "                \"props\": data\n",
              "                });\n",
              "        })();\n",
              "        </script>\n",
              "        \n",
              "        "
            ],
            "text/plain": [
              "<pysvelte.html.Html at 0x7fe8d4d41e20>"
            ]
          },
          "metadata": {},
          "output_type": "display_data"
        }
      ],
      "source": [
        "print(np.array([\n",
        "    inputs[0].tolist(),\n",
        "    outputs[0].tolist(),\n",
        "    predictions[0].tolist()\n",
        "  ]))\n",
        "# print(\"\\n\".join([\n",
        "#     \"\".join(str(x) for x in inputs[0][:len(inputs[0])//3].tolist()),\n",
        "#     \"\".join(str(x) for x in inputs[0][len(inputs[0])//3+1:-len(inputs[0])//3].tolist()),\n",
        "#     \"\".join(str(x) for x in inputs[0][-len(inputs[0])//3+1:].tolist()),\n",
        "#     \"\".join(str(x) for x in predictions[0][-len(inputs[0])//3+1:].tolist()),\n",
        "#     \"\".join(str(x) for x in outputs[0].tolist()),\n",
        "#     \"\".join(str(x) for x in predictions[0].tolist()),\n",
        "#   ]))\n",
        "show_attention_pattern_for_input(tiny_model,inputs,outputs)"
      ]
    },
    {
      "cell_type": "code",
      "execution_count": 18,
      "metadata": {
        "colab": {
          "base_uri": "https://localhost:8080/"
        },
        "id": "afOPHA3bX90h",
        "outputId": "980773b7-a24d-4f00-a33b-dcdf6b8b77b9"
      },
      "outputs": [
        {
          "data": {
            "text/plain": [
              "<matplotlib.image.AxesImage at 0x7fe8d4ccec40>"
            ]
          },
          "execution_count": 18,
          "metadata": {},
          "output_type": "execute_result"
        },
        {
          "data": {
            "image/png": "[encoded data removed]",
            "text/plain": [
              "<Figure size 640x480 with 1 Axes>"
            ]
          },
          "metadata": {},
          "output_type": "display_data"
        }
      ],
      "source": [
        "import matplotlib.pyplot as plt\n",
        "\n",
        "embeds = tiny_model.embed.W_E.detach().cpu()\n",
        "embeds = embeds[:,torch.argsort(embeds[0])]\n",
        "plt.imshow(torch.pca_lowrank(embeds,center=True,q=6)[0],aspect=0.02)"
      ]
    },
    {
      "cell_type": "code",
      "execution_count": null,
      "metadata": {
        "id": "ThdzZUdlU40l"
      },
      "outputs": [],
      "source": [
        "#model_cache={}\n",
        "#tiny_model.cache_all(model_cache) # remove_batch_dim=True\n",
        "inputs,outputs = gen(100,vocab_size,20)\n",
        "output = tiny_model(inputs)\n",
        "torch.mean(output**3).backward()\n",
        "print((tiny_model.blocks[0].attn.z.grad.mean(dim=(0,1,3))))\n",
        "#tiny_model.reset_hooks()"
      ]
    },
    {
      "cell_type": "code",
      "execution_count": null,
      "metadata": {},
      "outputs": [],
      "source": [
        "print(model_cache[\"blocks.0.attn.hook_z\"][0].shape)\n",
        "print(model_cache[\"blocks.0.hook_attn_out\"][0].shape)\n",
        "print(model_cache[\"blocks.0.hook_attn_out\"][0].shape)\n",
        "print(model_cache[\"blocks.0.mlp.hook_pre\"][0].shape)"
      ]
    },
    {
      "cell_type": "code",
      "execution_count": null,
      "metadata": {},
      "outputs": [],
      "source": [
        "model_cache.keys()"
      ]
    },
    {
      "cell_type": "code",
      "execution_count": null,
      "metadata": {},
      "outputs": [],
      "source": [
        "model_cache[\"blocks.0.attn.hook_z\"].grad"
      ]
    },
    {
      "cell_type": "code",
      "execution_count": null,
      "metadata": {},
      "outputs": [],
      "source": [
        "torch.tensor([2,3,4,5])>>2"
      ]
    },
    {
      "cell_type": "code",
      "execution_count": null,
      "metadata": {},
      "outputs": [
        {
          "data": {
            "text/plain": [
              "tensor([0, 1, 2, 3, 4, 5, 6, 7, 8, 9])"
            ]
          },
          "execution_count": 51,
          "metadata": {},
          "output_type": "execute_result"
        }
      ],
      "source": [
        "torch.arange(0,10,)"
      ]
    },
    {
      "cell_type": "code",
      "execution_count": null,
      "metadata": {},
      "outputs": [],
      "source": []
    }
  ],
  "metadata": {
    "accelerator": "GPU",
    "colab": {
      "provenance": []
    },
    "gpuClass": "standard",
    "kernelspec": {
      "display_name": "Python 3.8.10 64-bit",
      "language": "python",
      "name": "python3"
    },
    "language_info": {
      "codemirror_mode": {
        "name": "ipython",
        "version": 3
      },
      "file_extension": ".py",
      "mimetype": "text/x-python",
      "name": "python",
      "nbconvert_exporter": "python",
      "pygments_lexer": "ipython3",
      "version": "3.8.10"
    },
    "vscode": {
      "interpreter": {
        "hash": "916dbcbb3f70747c44a77c7bcd40155683ae19c65e1c03b4aa3499c5328201f1"
      }
    }
  },
  "nbformat": 4,
  "nbformat_minor": 0
}
