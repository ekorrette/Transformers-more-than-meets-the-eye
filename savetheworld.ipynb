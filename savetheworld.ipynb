{
  "cells": [
    {
      "cell_type": "code",
      "execution_count": 1,
      "metadata": {
        "id": "UYscuWgX2-Gx"
      },
      "outputs": [
        {
          "name": "stderr",
          "output_type": "stream",
          "text": [
            "/usr/lib/python3/dist-packages/requests/__init__.py:89: RequestsDependencyWarning: urllib3 (1.26.12) or chardet (3.0.4) doesn't match a supported version!\n",
            "  warnings.warn(\"urllib3 ({}) or chardet ({}) doesn't match a supported \"\n"
          ]
        },
        {
          "name": "stdout",
          "output_type": "stream",
          "text": [
            "cpu\n"
          ]
        }
      ],
      "source": [
        "import torch\n",
        "import numpy as np\n",
        "from easy_transformer import EasyTransformer, EasyTransformerConfig\n",
        "import easy_transformer\n",
        "import tqdm\n",
        "import torch.nn.functional as F\n",
        "import matplotlib.pyplot as plt\n",
        "import random\n",
        "\n",
        "device = torch.device(\"cuda\" if torch.cuda.is_available() else \"cpu\")\n",
        "print(device)"
      ]
    },
    {
      "cell_type": "code",
      "execution_count": 2,
      "metadata": {
        "id": "2ffUhwWCQ8X-"
      },
      "outputs": [
        {
          "name": "stdout",
          "output_type": "stream",
          "text": [
            "Moving model to device:  cpu\n",
            "Moving model to device:  cpu\n"
          ]
        }
      ],
      "source": [
        "vocab_size = 500\n",
        "sequence_length = 10\n",
        "batch_size = 64\n",
        "\n",
        "tiny_cfg = EasyTransformerConfig(\n",
        "    d_model=32,\n",
        "    d_head=8,\n",
        "    n_heads=4,\n",
        "    d_mlp=32,\n",
        "    n_layers=2,\n",
        "    n_ctx=100,\n",
        "    act_fn=\"solu_ln\",\n",
        "    d_vocab=vocab_size,\n",
        "    normalization_type=\"LN\",\n",
        "    seed=0,\n",
        ")\n",
        "tiny_model = EasyTransformer(tiny_cfg).to(device)\n",
        "cross_entropy_loss = torch.nn.CrossEntropyLoss()"
      ]
    },
    {
      "cell_type": "code",
      "execution_count": 3,
      "metadata": {
        "id": "UHb_5W6wRhJo"
      },
      "outputs": [],
      "source": [
        "start_token = 0\n",
        "sep_token = 1\n",
        "ignore_token = 2\n",
        "num_special_tokens = 3\n",
        "def get_copy_instance(batch_size,seq_size, vocab_size):\n",
        "  seqs = torch.randint(num_special_tokens, vocab_size, (batch_size, seq_size)).to(device)\n",
        "\n",
        "  input1 = torch.cat([\n",
        "      torch.ones((batch_size,1),device=device)*sep_token,\n",
        "      seqs,\n",
        "  ],dim=1)\n",
        "\n",
        "  input2 = torch.cat([\n",
        "      torch.ones((batch_size,1),device=device)*sep_token,\n",
        "      seqs,\n",
        "  ],dim=1)[:,:-1]\n",
        "\n",
        "  output1 = torch.cat([\n",
        "      torch.ones((batch_size,1+seq_size),device=device)*ignore_token,\n",
        "  ],dim=1)\n",
        "  output2 = torch.cat([\n",
        "      seqs,\n",
        "      torch.ones((batch_size,1),device=device)*sep_token,\n",
        "  ],dim=1)[:,:-1]\n",
        "\n",
        "  perm = torch.randperm(seq_size,device=device)\n",
        "  input = torch.cat([input1,input2[:,perm]],dim=1)\n",
        "  output = torch.cat([output1,output2[:,perm]],dim=1)\n",
        "\n",
        "  return input.long(),output.long()"
      ]
    },
    {
      "cell_type": "code",
      "execution_count": 4,
      "metadata": {
        "id": "IS-D65e0MU4D"
      },
      "outputs": [],
      "source": [
        "eval_inputs, eval_outputs = get_copy_instance(1000, 20, tiny_model.cfg.d_vocab)"
      ]
    },
    {
      "cell_type": "code",
      "execution_count": 5,
      "metadata": {
        "id": "RXnuyzmvUzl-"
      },
      "outputs": [],
      "source": [
        "def get_loss(model, inputs, outputs):\n",
        "    inputs = inputs.to(device)\n",
        "    outputs = outputs.to(device)\n",
        "    \n",
        "    output_logits = model(inputs, return_type=\"logits\")\n",
        "\n",
        "    seq_len = inputs.shape[1]\n",
        "\n",
        "    loss = cross_entropy_loss(\n",
        "        output_logits[:,seq_len//2+1:].reshape((-1,vocab_size)),\n",
        "        outputs[:,seq_len//2+1:].reshape((-1,)))\n",
        "    \n",
        "    return loss\n",
        "\n",
        "def evaluate_model(model, batch_size, print_output, number_to_print=0):\n",
        "    vocab_size = model.cfg.d_vocab\n",
        "    inputs,outputs = get_copy_instance(batch_size,random.randint(5,30),vocab_size)\n",
        "\n",
        "    loss = get_loss(model,inputs,outputs)\n",
        "\n",
        "    if print_output:\n",
        "      eval_loss = get_loss(model,eval_inputs, eval_outputs)\n",
        "      print(eval_loss.item())\n",
        "\n",
        "    return loss"
      ]
    },
    {
      "cell_type": "code",
      "execution_count": 7,
      "metadata": {
        "id": "roYpPSYrU2Jt"
      },
      "outputs": [
        {
          "name": "stdout",
          "output_type": "stream",
          "text": [
            "Start training\n",
            "6.517642021179199\n"
          ]
        },
        {
          "name": "stderr",
          "output_type": "stream",
          "text": [
            "  0%|          | 1/100001 [00:00<4:08:36,  6.70it/s]"
          ]
        },
        {
          "name": "stdout",
          "output_type": "stream",
          "text": [
            "6.517642021179199\n"
          ]
        },
        {
          "name": "stderr",
          "output_type": "stream",
          "text": [
            "  0%|          | 108/100001 [00:02<48:23, 34.40it/s]  "
          ]
        },
        {
          "name": "stdout",
          "output_type": "stream",
          "text": [
            "6.145817756652832\n"
          ]
        },
        {
          "name": "stderr",
          "output_type": "stream",
          "text": [
            "  0%|          | 207/100001 [00:05<44:59, 36.97it/s]"
          ]
        },
        {
          "name": "stdout",
          "output_type": "stream",
          "text": [
            "5.879387378692627\n"
          ]
        },
        {
          "name": "stderr",
          "output_type": "stream",
          "text": [
            "  0%|          | 303/100001 [00:07<52:39, 31.56it/s]"
          ]
        },
        {
          "name": "stdout",
          "output_type": "stream",
          "text": [
            "5.678785800933838\n"
          ]
        },
        {
          "name": "stderr",
          "output_type": "stream",
          "text": [
            "  0%|          | 404/100001 [00:10<53:41, 30.92it/s]"
          ]
        },
        {
          "name": "stdout",
          "output_type": "stream",
          "text": [
            "5.600162029266357\n"
          ]
        },
        {
          "name": "stderr",
          "output_type": "stream",
          "text": [
            "  1%|          | 505/100001 [00:13<51:02, 32.49it/s]"
          ]
        },
        {
          "name": "stdout",
          "output_type": "stream",
          "text": [
            "5.5508198738098145\n"
          ]
        },
        {
          "name": "stderr",
          "output_type": "stream",
          "text": [
            "  1%|          | 605/100001 [00:15<49:03, 33.76it/s]"
          ]
        },
        {
          "name": "stdout",
          "output_type": "stream",
          "text": [
            "5.520696640014648\n"
          ]
        },
        {
          "name": "stderr",
          "output_type": "stream",
          "text": [
            "  1%|          | 707/100001 [00:18<50:10, 32.98it/s]"
          ]
        },
        {
          "name": "stdout",
          "output_type": "stream",
          "text": [
            "5.508635520935059\n"
          ]
        },
        {
          "name": "stderr",
          "output_type": "stream",
          "text": [
            "  1%|          | 807/100001 [00:20<43:25, 38.08it/s]"
          ]
        },
        {
          "name": "stdout",
          "output_type": "stream",
          "text": [
            "5.4812397956848145\n"
          ]
        },
        {
          "name": "stderr",
          "output_type": "stream",
          "text": [
            "  1%|          | 905/100001 [00:23<46:48, 35.29it/s]"
          ]
        },
        {
          "name": "stdout",
          "output_type": "stream",
          "text": [
            "5.4462080001831055\n"
          ]
        },
        {
          "name": "stderr",
          "output_type": "stream",
          "text": [
            "  1%|          | 1005/100001 [00:25<46:17, 35.65it/s]"
          ]
        },
        {
          "name": "stdout",
          "output_type": "stream",
          "text": [
            "5.3940653800964355\n"
          ]
        },
        {
          "name": "stderr",
          "output_type": "stream",
          "text": [
            "  1%|          | 1109/100001 [00:28<46:57, 35.10it/s]"
          ]
        },
        {
          "name": "stdout",
          "output_type": "stream",
          "text": [
            "5.017585754394531\n"
          ]
        },
        {
          "name": "stderr",
          "output_type": "stream",
          "text": [
            "  1%|          | 1209/100001 [00:30<41:35, 39.59it/s]"
          ]
        },
        {
          "name": "stdout",
          "output_type": "stream",
          "text": [
            "2.991105318069458\n"
          ]
        },
        {
          "name": "stderr",
          "output_type": "stream",
          "text": [
            "  1%|▏         | 1307/100001 [00:33<46:20, 35.50it/s]"
          ]
        },
        {
          "name": "stdout",
          "output_type": "stream",
          "text": [
            "0.32929107546806335\n"
          ]
        },
        {
          "name": "stderr",
          "output_type": "stream",
          "text": [
            "  1%|▏         | 1405/100001 [00:35<49:09, 33.43it/s]"
          ]
        },
        {
          "name": "stdout",
          "output_type": "stream",
          "text": [
            "0.13607291877269745\n"
          ]
        },
        {
          "name": "stderr",
          "output_type": "stream",
          "text": [
            "  2%|▏         | 1507/100001 [00:38<47:10, 34.80it/s]"
          ]
        },
        {
          "name": "stdout",
          "output_type": "stream",
          "text": [
            "0.12142886966466904\n"
          ]
        },
        {
          "name": "stderr",
          "output_type": "stream",
          "text": [
            "  2%|▏         | 1606/100001 [00:40<47:40, 34.40it/s]"
          ]
        },
        {
          "name": "stdout",
          "output_type": "stream",
          "text": [
            "0.10272983461618423\n"
          ]
        },
        {
          "name": "stderr",
          "output_type": "stream",
          "text": [
            "  2%|▏         | 1706/100001 [00:43<50:11, 32.64it/s]"
          ]
        },
        {
          "name": "stdout",
          "output_type": "stream",
          "text": [
            "0.0993521586060524\n"
          ]
        },
        {
          "name": "stderr",
          "output_type": "stream",
          "text": [
            "  2%|▏         | 1806/100001 [00:45<48:05, 34.03it/s]"
          ]
        },
        {
          "name": "stdout",
          "output_type": "stream",
          "text": [
            "0.09383530169725418\n"
          ]
        },
        {
          "name": "stderr",
          "output_type": "stream",
          "text": [
            "  2%|▏         | 1908/100001 [00:48<43:54, 37.24it/s]"
          ]
        },
        {
          "name": "stdout",
          "output_type": "stream",
          "text": [
            "0.09890072047710419\n"
          ]
        },
        {
          "name": "stderr",
          "output_type": "stream",
          "text": [
            "  2%|▏         | 2005/100001 [00:50<48:01, 34.01it/s]"
          ]
        },
        {
          "name": "stdout",
          "output_type": "stream",
          "text": [
            "0.09390240162611008\n"
          ]
        },
        {
          "name": "stderr",
          "output_type": "stream",
          "text": [
            "  2%|▏         | 2105/100001 [00:53<47:18, 34.49it/s]"
          ]
        },
        {
          "name": "stdout",
          "output_type": "stream",
          "text": [
            "0.08226824551820755\n"
          ]
        },
        {
          "name": "stderr",
          "output_type": "stream",
          "text": [
            "  2%|▏         | 2208/100001 [00:55<45:01, 36.20it/s]"
          ]
        },
        {
          "name": "stdout",
          "output_type": "stream",
          "text": [
            "0.08195428550243378\n"
          ]
        },
        {
          "name": "stderr",
          "output_type": "stream",
          "text": [
            "  2%|▏         | 2307/100001 [00:58<49:27, 32.92it/s]"
          ]
        },
        {
          "name": "stdout",
          "output_type": "stream",
          "text": [
            "0.09104863554239273\n"
          ]
        },
        {
          "name": "stderr",
          "output_type": "stream",
          "text": [
            "  2%|▏         | 2409/100001 [01:00<44:42, 36.38it/s]"
          ]
        },
        {
          "name": "stdout",
          "output_type": "stream",
          "text": [
            "0.0897941142320633\n"
          ]
        },
        {
          "name": "stderr",
          "output_type": "stream",
          "text": [
            "  3%|▎         | 2510/100001 [01:03<39:50, 40.78it/s]"
          ]
        },
        {
          "name": "stdout",
          "output_type": "stream",
          "text": [
            "0.09341052174568176\n"
          ]
        },
        {
          "name": "stderr",
          "output_type": "stream",
          "text": [
            "  3%|▎         | 2605/100001 [01:05<45:47, 35.44it/s]"
          ]
        },
        {
          "name": "stdout",
          "output_type": "stream",
          "text": [
            "0.08470353484153748\n"
          ]
        },
        {
          "name": "stderr",
          "output_type": "stream",
          "text": [
            "  3%|▎         | 2705/100001 [01:08<48:35, 33.37it/s]"
          ]
        },
        {
          "name": "stdout",
          "output_type": "stream",
          "text": [
            "0.08800046145915985\n"
          ]
        },
        {
          "name": "stderr",
          "output_type": "stream",
          "text": [
            "  3%|▎         | 2805/100001 [01:10<50:23, 32.15it/s]"
          ]
        },
        {
          "name": "stdout",
          "output_type": "stream",
          "text": [
            "0.07776498794555664\n"
          ]
        },
        {
          "name": "stderr",
          "output_type": "stream",
          "text": [
            "  3%|▎         | 2857/100001 [01:12<40:53, 39.60it/s]\n"
          ]
        },
        {
          "ename": "KeyboardInterrupt",
          "evalue": "",
          "output_type": "error",
          "traceback": [
            "\u001b[0;31m---------------------------------------------------------------------------\u001b[0m",
            "\u001b[0;31mKeyboardInterrupt\u001b[0m                         Traceback (most recent call last)",
            "Cell \u001b[0;32mIn [7], line 7\u001b[0m\n\u001b[1;32m      5\u001b[0m \u001b[39mfor\u001b[39;00m epoch \u001b[39min\u001b[39;00m tqdm\u001b[39m.\u001b[39mtqdm(\u001b[39mrange\u001b[39m(\u001b[39m100001\u001b[39m)):\n\u001b[1;32m      6\u001b[0m     loss \u001b[39m=\u001b[39m evaluate_model(tiny_model, batch_size\u001b[39m=\u001b[39mbatch_size, print_output\u001b[39m=\u001b[39mepoch \u001b[39m%\u001b[39m \u001b[39m100\u001b[39m \u001b[39m==\u001b[39m \u001b[39m0\u001b[39m, number_to_print\u001b[39m=\u001b[39m\u001b[39m0\u001b[39m)\n\u001b[0;32m----> 7\u001b[0m     loss\u001b[39m.\u001b[39;49mbackward()\n\u001b[1;32m      8\u001b[0m     loss_history\u001b[39m.\u001b[39mappend(loss\u001b[39m.\u001b[39mitem())\n\u001b[1;32m      9\u001b[0m     tiny_optimizer\u001b[39m.\u001b[39mstep()\n",
            "File \u001b[0;32m~/.local/lib/python3.8/site-packages/torch/_tensor.py:396\u001b[0m, in \u001b[0;36mTensor.backward\u001b[0;34m(self, gradient, retain_graph, create_graph, inputs)\u001b[0m\n\u001b[1;32m    387\u001b[0m \u001b[39mif\u001b[39;00m has_torch_function_unary(\u001b[39mself\u001b[39m):\n\u001b[1;32m    388\u001b[0m     \u001b[39mreturn\u001b[39;00m handle_torch_function(\n\u001b[1;32m    389\u001b[0m         Tensor\u001b[39m.\u001b[39mbackward,\n\u001b[1;32m    390\u001b[0m         (\u001b[39mself\u001b[39m,),\n\u001b[0;32m   (...)\u001b[0m\n\u001b[1;32m    394\u001b[0m         create_graph\u001b[39m=\u001b[39mcreate_graph,\n\u001b[1;32m    395\u001b[0m         inputs\u001b[39m=\u001b[39minputs)\n\u001b[0;32m--> 396\u001b[0m torch\u001b[39m.\u001b[39;49mautograd\u001b[39m.\u001b[39;49mbackward(\u001b[39mself\u001b[39;49m, gradient, retain_graph, create_graph, inputs\u001b[39m=\u001b[39;49minputs)\n",
            "File \u001b[0;32m~/.local/lib/python3.8/site-packages/torch/autograd/__init__.py:173\u001b[0m, in \u001b[0;36mbackward\u001b[0;34m(tensors, grad_tensors, retain_graph, create_graph, grad_variables, inputs)\u001b[0m\n\u001b[1;32m    168\u001b[0m     retain_graph \u001b[39m=\u001b[39m create_graph\n\u001b[1;32m    170\u001b[0m \u001b[39m# The reason we repeat same the comment below is that\u001b[39;00m\n\u001b[1;32m    171\u001b[0m \u001b[39m# some Python versions print out the first line of a multi-line function\u001b[39;00m\n\u001b[1;32m    172\u001b[0m \u001b[39m# calls in the traceback and some print out the last line\u001b[39;00m\n\u001b[0;32m--> 173\u001b[0m Variable\u001b[39m.\u001b[39;49m_execution_engine\u001b[39m.\u001b[39;49mrun_backward(  \u001b[39m# Calls into the C++ engine to run the backward pass\u001b[39;49;00m\n\u001b[1;32m    174\u001b[0m     tensors, grad_tensors_, retain_graph, create_graph, inputs,\n\u001b[1;32m    175\u001b[0m     allow_unreachable\u001b[39m=\u001b[39;49m\u001b[39mTrue\u001b[39;49;00m, accumulate_grad\u001b[39m=\u001b[39;49m\u001b[39mTrue\u001b[39;49;00m)\n",
            "\u001b[0;31mKeyboardInterrupt\u001b[0m: "
          ]
        }
      ],
      "source": [
        "loss_history = []\n",
        "print('Start training')\n",
        "tiny_optimizer = torch.optim.Adam(tiny_model.parameters(), lr=5e-3)\n",
        "loss = evaluate_model(tiny_model, batch_size=3000, print_output=True)\n",
        "for epoch in tqdm.tqdm(range(3000)):\n",
        "    loss = evaluate_model(tiny_model, batch_size=batch_size, print_output=epoch % 300 == 0, number_to_print=0)\n",
        "    loss.backward()\n",
        "    loss_history.append(loss.item())\n",
        "    tiny_optimizer.step()\n",
        "    tiny_optimizer.zero_grad()"
      ]
    },
    {
      "cell_type": "code",
      "execution_count": 62,
      "metadata": {
        "colab": {
          "base_uri": "https://localhost:8080/",
          "height": 282
        },
        "id": "y7xdqMOniNF8",
        "outputId": "b06a5494-f26d-4097-9261-6640cd090100"
      },
      "outputs": [
        {
          "data": {
            "text/plain": [
              "[<matplotlib.lines.Line2D at 0x7ff3503dd3d0>]"
            ]
          },
          "execution_count": 62,
          "metadata": {},
          "output_type": "execute_result"
        },
        {
          "data": {
            "image/png": "[encoded data removed]",
            "text/plain": [
              "<Figure size 432x288 with 1 Axes>"
            ]
          },
          "metadata": {
            "needs_background": "light"
          },
          "output_type": "display_data"
        }
      ],
      "source": [
        "plt.plot(loss_history)"
      ]
    },
    {
      "cell_type": "code",
      "execution_count": 74,
      "metadata": {
        "id": "ZPyzJHURUQCi"
      },
      "outputs": [],
      "source": [
        "import pysvelte\n",
        "def show_attention_pattern_for_input(model, input,output):\n",
        "    model_cache={}\n",
        "    model.cache_all(model_cache) # remove_batch_dim=True\n",
        "    model(input)\n",
        "    model.reset_hooks()\n",
        "    tokens = [str(x) for x in input[0].tolist()]\n",
        "    print('tokens', tokens, 'len(tokens)', len(tokens))\n",
        "    pysvelte.AttentionMulti(tokens=tokens, attention=model_cache['blocks.0.attn.hook_attn'][0].permute(1, 2, 0)).show()\n"
      ]
    },
    {
      "cell_type": "code",
      "execution_count": 75,
      "metadata": {
        "id": "fPkqYc2SRYnP"
      },
      "outputs": [],
      "source": [
        "inputs,outputs = get_copy_instance(3,10,100)\n",
        "\n",
        "output_logits = tiny_model(inputs, return_type=\"logits\")\n",
        "predictions = output_logits.argmax(dim=2)"
      ]
    },
    {
      "cell_type": "code",
      "execution_count": null,
      "metadata": {
        "colab": {
          "base_uri": "https://localhost:8080/"
        },
        "id": "WnCyZiyuYtRk",
        "outputId": "6a2fca33-094a-41fd-dfed-fd4adfd53686"
      },
      "outputs": [
        {
          "name": "stderr",
          "output_type": "stream",
          "text": [
            "WARNING:root:cache_all is deprecated and will eventually be removed, use add_caching_hooks or run_with_cache\n"
          ]
        },
        {
          "name": "stdout",
          "output_type": "stream",
          "text": [
            "[[ 1 67 48 79 44 58 73 68 19 35 17 58  1 68 19 48 44 35 73 67 79]\n",
            " [ 2  2  2  2  2  2  2  2  2  2  2 73 67 19 35 79 58 17 68 48 44]\n",
            " [ 2  2  2  2  2  2  2  2  2  2  2 73 67 19 35 79 58 17 68 48 44]]\n",
            "tokens ['1', '67', '48', '79', '44', '58', '73', '68', '19', '35', '17', '58', '1', '68', '19', '48', '44', '35', '73', '67', '79'] len(tokens) 21\n",
            "pysvelte components appear to be unbuilt or stale\n",
            "Running npm install...\n"
          ]
        }
      ],
      "source": [
        "print(np.array([\n",
        "    inputs[0].tolist(),\n",
        "    outputs[0].tolist(),\n",
        "    predictions[0].tolist()\n",
        "  ]))\n",
        "\n",
        "show_attention_pattern_for_input(tiny_model,inputs,outputs)"
      ]
    },
    {
      "cell_type": "code",
      "execution_count": 72,
      "metadata": {
        "colab": {
          "base_uri": "https://localhost:8080/"
        },
        "id": "afOPHA3bX90h",
        "outputId": "980773b7-a24d-4f00-a33b-dcdf6b8b77b9"
      },
      "outputs": [
        {
          "data": {
            "text/plain": [
              "tensor([[  2,   2,   2,   2,   2,   2,   6,   7, 363]], device='cuda:0')"
            ]
          },
          "execution_count": 72,
          "metadata": {},
          "output_type": "execute_result"
        }
      ],
      "source": [
        "tiny_model(torch.tensor([[1,3,4,5,6,7,5,6,6]]), return_type=\"logits\").argmax(dim=2)"
      ]
    },
    {
      "cell_type": "code",
      "execution_count": null,
      "metadata": {
        "id": "ThdzZUdlU40l"
      },
      "outputs": [],
      "source": []
    }
  ],
  "metadata": {
    "accelerator": "GPU",
    "colab": {
      "provenance": []
    },
    "gpuClass": "standard",
    "kernelspec": {
      "display_name": "Python 3.8.10 64-bit",
      "language": "python",
      "name": "python3"
    },
    "language_info": {
      "codemirror_mode": {
        "name": "ipython",
        "version": 3
      },
      "file_extension": ".py",
      "mimetype": "text/x-python",
      "name": "python",
      "nbconvert_exporter": "python",
      "pygments_lexer": "ipython3",
      "version": "3.8.10"
    },
    "vscode": {
      "interpreter": {
        "hash": "916dbcbb3f70747c44a77c7bcd40155683ae19c65e1c03b4aa3499c5328201f1"
      }
    }
  },
  "nbformat": 4,
  "nbformat_minor": 0
}
