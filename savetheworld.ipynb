{
  "cells": [
    {
      "cell_type": "code",
      "execution_count": 5,
      "metadata": {
        "id": "UYscuWgX2-Gx"
      },
      "outputs": [
        {
          "name": "stdout",
          "output_type": "stream",
          "text": [
            "cuda\n"
          ]
        }
      ],
      "source": [
        "import torch\n",
        "import numpy as np\n",
        "from easy_transformer import EasyTransformer, EasyTransformerConfig\n",
        "import easy_transformer\n",
        "import tqdm\n",
        "import torch.nn.functional as F\n",
        "import matplotlib.pyplot as plt\n",
        "import random\n",
        "\n",
        "device = torch.device(\"cuda\" if torch.cuda.is_available() else \"cpu\")\n",
        "print(device)"
      ]
    },
    {
      "cell_type": "code",
      "execution_count": 6,
      "metadata": {
        "id": "2ffUhwWCQ8X-"
      },
      "outputs": [
        {
          "name": "stdout",
          "output_type": "stream",
          "text": [
            "Moving model to device:  cuda\n",
            "Moving model to device:  cuda\n"
          ]
        }
      ],
      "source": [
        "vocab_size = 500\n",
        "sequence_length = 10\n",
        "batch_size = 64\n",
        "\n",
        "tiny_cfg = EasyTransformerConfig(\n",
        "    d_model=32,\n",
        "    d_head=8,\n",
        "    n_heads=4,\n",
        "    d_mlp=32,\n",
        "    n_layers=2,\n",
        "    n_ctx=100,\n",
        "    act_fn=\"solu_ln\",\n",
        "    d_vocab=vocab_size,\n",
        "    normalization_type=\"LN\",\n",
        "    seed=0,\n",
        ")\n",
        "tiny_model = EasyTransformer(tiny_cfg).to(device)\n",
        "cross_entropy_loss = torch.nn.CrossEntropyLoss()"
      ]
    },
    {
      "cell_type": "code",
      "execution_count": 7,
      "metadata": {
        "id": "UHb_5W6wRhJo"
      },
      "outputs": [],
      "source": [
        "start_token = 0\n",
        "sep_token = 1\n",
        "ignore_token = 2\n",
        "num_special_tokens = 3\n",
        "def get_copy_instance(batch_size,seq_size, vocab_size):\n",
        "  seqs = torch.randint(num_special_tokens, vocab_size, (batch_size, seq_size)).to(device)\n",
        "\n",
        "  input1 = torch.cat([\n",
        "      torch.ones((batch_size,1),device=device)*sep_token,\n",
        "      seqs,\n",
        "  ],dim=1)\n",
        "\n",
        "  input2 = torch.cat([\n",
        "      torch.ones((batch_size,1),device=device)*sep_token,\n",
        "      seqs,\n",
        "  ],dim=1)[:,:-1]\n",
        "\n",
        "  output1 = torch.cat([\n",
        "      torch.ones((batch_size,1+seq_size),device=device)*ignore_token,\n",
        "  ],dim=1)\n",
        "  output2 = torch.cat([\n",
        "      seqs,\n",
        "      torch.ones((batch_size,1),device=device)*sep_token,\n",
        "  ],dim=1)[:,:-1]\n",
        "\n",
        "  perm = torch.randperm(seq_size,device=device)\n",
        "  input = torch.cat([input1,input2[:,perm]],dim=1)\n",
        "  output = torch.cat([output1,output2[:,perm]],dim=1)\n",
        "\n",
        "  return input.long(),output.long()"
      ]
    },
    {
      "cell_type": "code",
      "execution_count": 8,
      "metadata": {
        "id": "IS-D65e0MU4D"
      },
      "outputs": [],
      "source": [
        "eval_inputs, eval_outputs = get_copy_instance(1000, 20, tiny_model.cfg.d_vocab)"
      ]
    },
    {
      "cell_type": "code",
      "execution_count": 9,
      "metadata": {
        "id": "RXnuyzmvUzl-"
      },
      "outputs": [],
      "source": [
        "def get_loss(model, inputs, outputs):\n",
        "    inputs = inputs.to(device)\n",
        "    outputs = outputs.to(device)\n",
        "    \n",
        "    output_logits = model(inputs, return_type=\"logits\")\n",
        "\n",
        "    seq_len = inputs.shape[1]\n",
        "\n",
        "    loss = cross_entropy_loss(\n",
        "        output_logits[:,seq_len//2+1:].reshape((-1,vocab_size)),\n",
        "        outputs[:,seq_len//2+1:].reshape((-1,)))\n",
        "    \n",
        "    return loss\n",
        "\n",
        "def evaluate_model(model, batch_size, print_output, number_to_print=0):\n",
        "    vocab_size = model.cfg.d_vocab\n",
        "    inputs,outputs = get_copy_instance(batch_size,random.randint(5,30),vocab_size)\n",
        "\n",
        "    loss = get_loss(model,inputs,outputs)\n",
        "\n",
        "    if print_output:\n",
        "      eval_loss = get_loss(model,eval_inputs, eval_outputs)\n",
        "      print(eval_loss.item())\n",
        "\n",
        "    return loss"
      ]
    },
    {
      "cell_type": "code",
      "execution_count": 10,
      "metadata": {
        "id": "roYpPSYrU2Jt"
      },
      "outputs": [
        {
          "name": "stdout",
          "output_type": "stream",
          "text": [
            "before training\n",
            "6.514003753662109\n"
          ]
        },
        {
          "name": "stderr",
          "output_type": "stream",
          "text": [
            "  0%|          | 4/100001 [00:00<51:21, 32.45it/s]"
          ]
        },
        {
          "name": "stdout",
          "output_type": "stream",
          "text": [
            "6.514003753662109\n"
          ]
        },
        {
          "name": "stderr",
          "output_type": "stream",
          "text": [
            "  0%|          | 331/100001 [00:08<41:21, 40.17it/s]\n"
          ]
        },
        {
          "ename": "KeyboardInterrupt",
          "evalue": "",
          "output_type": "error",
          "traceback": [
            "\u001b[0;31m---------------------------------------------------------------------------\u001b[0m",
            "\u001b[0;31mKeyboardInterrupt\u001b[0m                         Traceback (most recent call last)",
            "Cell \u001b[0;32mIn [10], line 8\u001b[0m\n\u001b[1;32m      6\u001b[0m loss\u001b[39m.\u001b[39mbackward()\n\u001b[1;32m      7\u001b[0m loss_history\u001b[39m.\u001b[39mappend(loss\u001b[39m.\u001b[39mitem())\n\u001b[0;32m----> 8\u001b[0m tiny_optimizer\u001b[39m.\u001b[39;49mstep()\n\u001b[1;32m      9\u001b[0m tiny_optimizer\u001b[39m.\u001b[39mzero_grad()\n",
            "File \u001b[0;32m/local/scratch-3/fwe21/miniconda3/envs/torch/lib/python3.9/site-packages/torch/optim/optimizer.py:140\u001b[0m, in \u001b[0;36mOptimizer._hook_for_profile.<locals>.profile_hook_step.<locals>.wrapper\u001b[0;34m(*args, **kwargs)\u001b[0m\n\u001b[1;32m    138\u001b[0m profile_name \u001b[39m=\u001b[39m \u001b[39m\"\u001b[39m\u001b[39mOptimizer.step#\u001b[39m\u001b[39m{}\u001b[39;00m\u001b[39m.step\u001b[39m\u001b[39m\"\u001b[39m\u001b[39m.\u001b[39mformat(obj\u001b[39m.\u001b[39m\u001b[39m__class__\u001b[39m\u001b[39m.\u001b[39m\u001b[39m__name__\u001b[39m)\n\u001b[1;32m    139\u001b[0m \u001b[39mwith\u001b[39;00m torch\u001b[39m.\u001b[39mautograd\u001b[39m.\u001b[39mprofiler\u001b[39m.\u001b[39mrecord_function(profile_name):\n\u001b[0;32m--> 140\u001b[0m     out \u001b[39m=\u001b[39m func(\u001b[39m*\u001b[39;49margs, \u001b[39m*\u001b[39;49m\u001b[39m*\u001b[39;49mkwargs)\n\u001b[1;32m    141\u001b[0m     obj\u001b[39m.\u001b[39m_optimizer_step_code()\n\u001b[1;32m    142\u001b[0m     \u001b[39mreturn\u001b[39;00m out\n",
            "File \u001b[0;32m/local/scratch-3/fwe21/miniconda3/envs/torch/lib/python3.9/site-packages/torch/optim/optimizer.py:23\u001b[0m, in \u001b[0;36m_use_grad_for_differentiable.<locals>._use_grad\u001b[0;34m(self, *args, **kwargs)\u001b[0m\n\u001b[1;32m     21\u001b[0m \u001b[39mtry\u001b[39;00m:\n\u001b[1;32m     22\u001b[0m     torch\u001b[39m.\u001b[39mset_grad_enabled(\u001b[39mself\u001b[39m\u001b[39m.\u001b[39mdefaults[\u001b[39m'\u001b[39m\u001b[39mdifferentiable\u001b[39m\u001b[39m'\u001b[39m])\n\u001b[0;32m---> 23\u001b[0m     ret \u001b[39m=\u001b[39m func(\u001b[39mself\u001b[39;49m, \u001b[39m*\u001b[39;49margs, \u001b[39m*\u001b[39;49m\u001b[39m*\u001b[39;49mkwargs)\n\u001b[1;32m     24\u001b[0m \u001b[39mfinally\u001b[39;00m:\n\u001b[1;32m     25\u001b[0m     torch\u001b[39m.\u001b[39mset_grad_enabled(prev_grad)\n",
            "File \u001b[0;32m/local/scratch-3/fwe21/miniconda3/envs/torch/lib/python3.9/site-packages/torch/optim/adam.py:234\u001b[0m, in \u001b[0;36mAdam.step\u001b[0;34m(self, closure, grad_scaler)\u001b[0m\n\u001b[1;32m    231\u001b[0m                 \u001b[39mraise\u001b[39;00m \u001b[39mRuntimeError\u001b[39;00m(\u001b[39m'\u001b[39m\u001b[39m`requires_grad` is not supported for `step` in differentiable mode\u001b[39m\u001b[39m'\u001b[39m)\n\u001b[1;32m    232\u001b[0m             state_steps\u001b[39m.\u001b[39mappend(state[\u001b[39m'\u001b[39m\u001b[39mstep\u001b[39m\u001b[39m'\u001b[39m])\n\u001b[0;32m--> 234\u001b[0m     adam(params_with_grad,\n\u001b[1;32m    235\u001b[0m          grads,\n\u001b[1;32m    236\u001b[0m          exp_avgs,\n\u001b[1;32m    237\u001b[0m          exp_avg_sqs,\n\u001b[1;32m    238\u001b[0m          max_exp_avg_sqs,\n\u001b[1;32m    239\u001b[0m          state_steps,\n\u001b[1;32m    240\u001b[0m          amsgrad\u001b[39m=\u001b[39;49mgroup[\u001b[39m'\u001b[39;49m\u001b[39mamsgrad\u001b[39;49m\u001b[39m'\u001b[39;49m],\n\u001b[1;32m    241\u001b[0m          beta1\u001b[39m=\u001b[39;49mbeta1,\n\u001b[1;32m    242\u001b[0m          beta2\u001b[39m=\u001b[39;49mbeta2,\n\u001b[1;32m    243\u001b[0m          lr\u001b[39m=\u001b[39;49mgroup[\u001b[39m'\u001b[39;49m\u001b[39mlr\u001b[39;49m\u001b[39m'\u001b[39;49m],\n\u001b[1;32m    244\u001b[0m          weight_decay\u001b[39m=\u001b[39;49mgroup[\u001b[39m'\u001b[39;49m\u001b[39mweight_decay\u001b[39;49m\u001b[39m'\u001b[39;49m],\n\u001b[1;32m    245\u001b[0m          eps\u001b[39m=\u001b[39;49mgroup[\u001b[39m'\u001b[39;49m\u001b[39meps\u001b[39;49m\u001b[39m'\u001b[39;49m],\n\u001b[1;32m    246\u001b[0m          maximize\u001b[39m=\u001b[39;49mgroup[\u001b[39m'\u001b[39;49m\u001b[39mmaximize\u001b[39;49m\u001b[39m'\u001b[39;49m],\n\u001b[1;32m    247\u001b[0m          foreach\u001b[39m=\u001b[39;49mgroup[\u001b[39m'\u001b[39;49m\u001b[39mforeach\u001b[39;49m\u001b[39m'\u001b[39;49m],\n\u001b[1;32m    248\u001b[0m          capturable\u001b[39m=\u001b[39;49mgroup[\u001b[39m'\u001b[39;49m\u001b[39mcapturable\u001b[39;49m\u001b[39m'\u001b[39;49m],\n\u001b[1;32m    249\u001b[0m          differentiable\u001b[39m=\u001b[39;49mgroup[\u001b[39m'\u001b[39;49m\u001b[39mdifferentiable\u001b[39;49m\u001b[39m'\u001b[39;49m],\n\u001b[1;32m    250\u001b[0m          fused\u001b[39m=\u001b[39;49mgroup[\u001b[39m'\u001b[39;49m\u001b[39mfused\u001b[39;49m\u001b[39m'\u001b[39;49m],\n\u001b[1;32m    251\u001b[0m          grad_scale\u001b[39m=\u001b[39;49mgrad_scale,\n\u001b[1;32m    252\u001b[0m          found_inf\u001b[39m=\u001b[39;49mfound_inf)\n\u001b[1;32m    254\u001b[0m \u001b[39mreturn\u001b[39;00m loss\n",
            "File \u001b[0;32m/local/scratch-3/fwe21/miniconda3/envs/torch/lib/python3.9/site-packages/torch/optim/adam.py:300\u001b[0m, in \u001b[0;36madam\u001b[0;34m(params, grads, exp_avgs, exp_avg_sqs, max_exp_avg_sqs, state_steps, foreach, capturable, differentiable, fused, grad_scale, found_inf, amsgrad, beta1, beta2, lr, weight_decay, eps, maximize)\u001b[0m\n\u001b[1;32m    297\u001b[0m \u001b[39melse\u001b[39;00m:\n\u001b[1;32m    298\u001b[0m     func \u001b[39m=\u001b[39m _single_tensor_adam\n\u001b[0;32m--> 300\u001b[0m func(params,\n\u001b[1;32m    301\u001b[0m      grads,\n\u001b[1;32m    302\u001b[0m      exp_avgs,\n\u001b[1;32m    303\u001b[0m      exp_avg_sqs,\n\u001b[1;32m    304\u001b[0m      max_exp_avg_sqs,\n\u001b[1;32m    305\u001b[0m      state_steps,\n\u001b[1;32m    306\u001b[0m      amsgrad\u001b[39m=\u001b[39;49mamsgrad,\n\u001b[1;32m    307\u001b[0m      beta1\u001b[39m=\u001b[39;49mbeta1,\n\u001b[1;32m    308\u001b[0m      beta2\u001b[39m=\u001b[39;49mbeta2,\n\u001b[1;32m    309\u001b[0m      lr\u001b[39m=\u001b[39;49mlr,\n\u001b[1;32m    310\u001b[0m      weight_decay\u001b[39m=\u001b[39;49mweight_decay,\n\u001b[1;32m    311\u001b[0m      eps\u001b[39m=\u001b[39;49meps,\n\u001b[1;32m    312\u001b[0m      maximize\u001b[39m=\u001b[39;49mmaximize,\n\u001b[1;32m    313\u001b[0m      capturable\u001b[39m=\u001b[39;49mcapturable,\n\u001b[1;32m    314\u001b[0m      differentiable\u001b[39m=\u001b[39;49mdifferentiable,\n\u001b[1;32m    315\u001b[0m      grad_scale\u001b[39m=\u001b[39;49mgrad_scale,\n\u001b[1;32m    316\u001b[0m      found_inf\u001b[39m=\u001b[39;49mfound_inf)\n",
            "File \u001b[0;32m/local/scratch-3/fwe21/miniconda3/envs/torch/lib/python3.9/site-packages/torch/optim/adam.py:364\u001b[0m, in \u001b[0;36m_single_tensor_adam\u001b[0;34m(params, grads, exp_avgs, exp_avg_sqs, max_exp_avg_sqs, state_steps, grad_scale, found_inf, amsgrad, beta1, beta2, lr, weight_decay, eps, maximize, capturable, differentiable)\u001b[0m\n\u001b[1;32m    362\u001b[0m \u001b[39m# Decay the first and second moment running average coefficient\u001b[39;00m\n\u001b[1;32m    363\u001b[0m exp_avg\u001b[39m.\u001b[39mmul_(beta1)\u001b[39m.\u001b[39madd_(grad, alpha\u001b[39m=\u001b[39m\u001b[39m1\u001b[39m \u001b[39m-\u001b[39m beta1)\n\u001b[0;32m--> 364\u001b[0m exp_avg_sq\u001b[39m.\u001b[39;49mmul_(beta2)\u001b[39m.\u001b[39maddcmul_(grad, grad\u001b[39m.\u001b[39mconj(), value\u001b[39m=\u001b[39m\u001b[39m1\u001b[39m \u001b[39m-\u001b[39m beta2)\n\u001b[1;32m    366\u001b[0m \u001b[39mif\u001b[39;00m capturable \u001b[39mor\u001b[39;00m differentiable:\n\u001b[1;32m    367\u001b[0m     step \u001b[39m=\u001b[39m step_t\n",
            "\u001b[0;31mKeyboardInterrupt\u001b[0m: "
          ]
        }
      ],
      "source": [
        "loss_history = []\n",
        "print('before training')\n",
        "loss = evaluate_model(tiny_model, batch_size=3000, print_output=True)\n",
        "for epoch in tqdm.tqdm(range(100001)):\n",
        "    loss = evaluate_model(tiny_model, batch_size=batch_size, print_output=epoch % 100 == 0, number_to_print=0)\n",
        "    loss.backward()\n",
        "    loss_history.append(loss.item())\n",
        "    tiny_optimizer.step()\n",
        "    tiny_optimizer.zero_grad()"
      ]
    },
    {
      "cell_type": "code",
      "execution_count": 62,
      "metadata": {
        "colab": {
          "base_uri": "https://localhost:8080/",
          "height": 282
        },
        "id": "y7xdqMOniNF8",
        "outputId": "b06a5494-f26d-4097-9261-6640cd090100"
      },
      "outputs": [
        {
          "data": {
            "text/plain": [
              "[<matplotlib.lines.Line2D at 0x7ff3503dd3d0>]"
            ]
          },
          "execution_count": 62,
          "metadata": {},
          "output_type": "execute_result"
        },
        {
          "data": {
            "image/png": "[encoded data removed]",
            "text/plain": [
              "<Figure size 432x288 with 1 Axes>"
            ]
          },
          "metadata": {
            "needs_background": "light"
          },
          "output_type": "display_data"
        }
      ],
      "source": [
        "plt.plot(loss_history)"
      ]
    },
    {
      "cell_type": "code",
      "execution_count": 74,
      "metadata": {
        "id": "ZPyzJHURUQCi"
      },
      "outputs": [],
      "source": [
        "import pysvelte\n",
        "def show_attention_pattern_for_input(model, input,output):\n",
        "    model_cache={}\n",
        "    model.cache_all(model_cache) # remove_batch_dim=True\n",
        "    model(input)\n",
        "    model.reset_hooks()\n",
        "    tokens = [str(x) for x in input[0].tolist()]\n",
        "    print('tokens', tokens, 'len(tokens)', len(tokens))\n",
        "    pysvelte.AttentionMulti(tokens=tokens, attention=model_cache['blocks.0.attn.hook_attn'][0].permute(1, 2, 0)).show()\n"
      ]
    },
    {
      "cell_type": "code",
      "execution_count": 75,
      "metadata": {
        "id": "fPkqYc2SRYnP"
      },
      "outputs": [],
      "source": [
        "inputs,outputs = get_copy_instance(3,10,100)\n",
        "\n",
        "output_logits = tiny_model(inputs, return_type=\"logits\")\n",
        "predictions = output_logits.argmax(dim=2)"
      ]
    },
    {
      "cell_type": "code",
      "execution_count": null,
      "metadata": {
        "colab": {
          "base_uri": "https://localhost:8080/"
        },
        "id": "WnCyZiyuYtRk",
        "outputId": "6a2fca33-094a-41fd-dfed-fd4adfd53686"
      },
      "outputs": [
        {
          "name": "stderr",
          "output_type": "stream",
          "text": [
            "WARNING:root:cache_all is deprecated and will eventually be removed, use add_caching_hooks or run_with_cache\n"
          ]
        },
        {
          "name": "stdout",
          "output_type": "stream",
          "text": [
            "[[ 1 67 48 79 44 58 73 68 19 35 17 58  1 68 19 48 44 35 73 67 79]\n",
            " [ 2  2  2  2  2  2  2  2  2  2  2 73 67 19 35 79 58 17 68 48 44]\n",
            " [ 2  2  2  2  2  2  2  2  2  2  2 73 67 19 35 79 58 17 68 48 44]]\n",
            "tokens ['1', '67', '48', '79', '44', '58', '73', '68', '19', '35', '17', '58', '1', '68', '19', '48', '44', '35', '73', '67', '79'] len(tokens) 21\n",
            "pysvelte components appear to be unbuilt or stale\n",
            "Running npm install...\n"
          ]
        }
      ],
      "source": [
        "print(np.array([\n",
        "    inputs[0].tolist(),\n",
        "    outputs[0].tolist(),\n",
        "    predictions[0].tolist()\n",
        "  ]))\n",
        "\n",
        "show_attention_pattern_for_input(tiny_model,inputs,outputs)"
      ]
    },
    {
      "cell_type": "code",
      "execution_count": 72,
      "metadata": {
        "colab": {
          "base_uri": "https://localhost:8080/"
        },
        "id": "afOPHA3bX90h",
        "outputId": "980773b7-a24d-4f00-a33b-dcdf6b8b77b9"
      },
      "outputs": [
        {
          "data": {
            "text/plain": [
              "tensor([[  2,   2,   2,   2,   2,   2,   6,   7, 363]], device='cuda:0')"
            ]
          },
          "execution_count": 72,
          "metadata": {},
          "output_type": "execute_result"
        }
      ],
      "source": [
        "tiny_model(torch.tensor([[1,3,4,5,6,7,5,6,6]]), return_type=\"logits\").argmax(dim=2)"
      ]
    },
    {
      "cell_type": "code",
      "execution_count": null,
      "metadata": {
        "id": "ThdzZUdlU40l"
      },
      "outputs": [],
      "source": []
    }
  ],
  "metadata": {
    "accelerator": "GPU",
    "colab": {
      "provenance": []
    },
    "gpuClass": "standard",
    "kernelspec": {
      "display_name": "Python 3.9.13 ('torch')",
      "language": "python",
      "name": "python3"
    },
    "language_info": {
      "codemirror_mode": {
        "name": "ipython",
        "version": 3
      },
      "file_extension": ".py",
      "mimetype": "text/x-python",
      "name": "python",
      "nbconvert_exporter": "python",
      "pygments_lexer": "ipython3",
      "version": "3.9.13"
    },
    "vscode": {
      "interpreter": {
        "hash": "ab29bdd578247210423fe399e48aecd0ef8b6f86b36785b7520d6025e6beafbf"
      }
    }
  },
  "nbformat": 4,
  "nbformat_minor": 0
}
